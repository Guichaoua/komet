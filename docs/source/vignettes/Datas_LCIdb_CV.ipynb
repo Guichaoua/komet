{
  "cells": [
    {
      "attachments": {},
      "cell_type": "markdown",
      "metadata": {},
      "source": [
        "# Create LCIdb and CV datasets in different prediction scenarii"
      ]
    },
    {
      "cell_type": "code",
      "execution_count": 1,
      "metadata": {},
      "outputs": [],
      "source": [
        "%load_ext autoreload\n",
        "%autoreload 2\n",
        "\n",
        "import matplotlib.pyplot as plt\n",
        "import numpy as np\n",
        "from sklearn import svm\n",
        "import pandas as pd"
      ]
    },
    {
      "cell_type": "markdown",
      "metadata": {},
      "source": [
        "## Preprocessing \n",
        "Download the file 'Consensus_CompoundBioactivity_Dataset_v1.1.csv' from https://zenodo.org/record/6398019#.Y6A4nrKZPn4 "
      ]
    },
    {
      "cell_type": "code",
      "execution_count": null,
      "metadata": {},
      "outputs": [],
      "source": [
        "from komet import process_LCIdb\n",
        "LCIdb = process_LCIdb('Consensus_CompoundBioactivity_Dataset_v1.1.csv', data_dir = \"./\", max_length_fasta = 1000, bioactivity_choice = \"checkand1database\",min_weight = 100, max_weight = 900,  interaction_plus = 1e-7, interaction_minus = 1e-4)"
      ]
    },
    {
      "cell_type": "markdown",
      "metadata": {},
      "source": [
        "## Create CV in different prediction scenarii\n",
        "* Random\n",
        "* Unseen_drugs\n",
        "* Unseen_targets\n",
        "* Orphan"
      ]
    },
    {
      "attachments": {},
      "cell_type": "markdown",
      "metadata": {
        "id": "I_pKDD-zj7Fa"
      },
      "source": [
        "### Load LCIdb\n",
        "\n",
        "The dataset, with default parameters, can be downloaded in Zenodo https://zenodo.org/records/10731712 as LCIdb_v2.csv."
      ]
    },
    {
      "cell_type": "code",
      "execution_count": 2,
      "metadata": {},
      "outputs": [
        {
          "data": {
            "text/html": [
              "<div>\n",
              "<style scoped>\n",
              "    .dataframe tbody tr th:only-of-type {\n",
              "        vertical-align: middle;\n",
              "    }\n",
              "\n",
              "    .dataframe tbody tr th {\n",
              "        vertical-align: top;\n",
              "    }\n",
              "\n",
              "    .dataframe thead th {\n",
              "        text-align: right;\n",
              "    }\n",
              "</style>\n",
              "<table border=\"1\" class=\"dataframe\">\n",
              "  <thead>\n",
              "    <tr style=\"text-align: right;\">\n",
              "      <th></th>\n",
              "      <th>smiles</th>\n",
              "      <th>fasta</th>\n",
              "      <th>ChEMBL ID</th>\n",
              "      <th>PubChem ID</th>\n",
              "      <th>IUPHAR ID</th>\n",
              "      <th>Ligand names</th>\n",
              "      <th>Target</th>\n",
              "      <th>uniprot</th>\n",
              "      <th>mean</th>\n",
              "      <th>mean pIC50</th>\n",
              "      <th>...</th>\n",
              "      <th>mean pKd</th>\n",
              "      <th>min</th>\n",
              "      <th>min pIC50</th>\n",
              "      <th>min pKi</th>\n",
              "      <th>min pKd</th>\n",
              "      <th>max</th>\n",
              "      <th>max pIC50</th>\n",
              "      <th>max pKi</th>\n",
              "      <th>max pKd</th>\n",
              "      <th>score</th>\n",
              "    </tr>\n",
              "  </thead>\n",
              "  <tbody>\n",
              "    <tr>\n",
              "      <th>0</th>\n",
              "      <td>BrC(=C\\c1ccccc1)/C=N/n1cnnc1</td>\n",
              "      <td>MNPTLILAAFCLGIASATLTFDHSLEAQWTKWKAMHNRLYGMNEEG...</td>\n",
              "      <td>CHEMBL3190095</td>\n",
              "      <td>6861939.0</td>\n",
              "      <td>NaN</td>\n",
              "      <td>sid24812872</td>\n",
              "      <td>ctsl</td>\n",
              "      <td>P07711</td>\n",
              "      <td>4.2</td>\n",
              "      <td>4.2</td>\n",
              "      <td>...</td>\n",
              "      <td>NaN</td>\n",
              "      <td>4.2</td>\n",
              "      <td>4.2</td>\n",
              "      <td>NaN</td>\n",
              "      <td>NaN</td>\n",
              "      <td>4.2</td>\n",
              "      <td>4.2</td>\n",
              "      <td>NaN</td>\n",
              "      <td>NaN</td>\n",
              "      <td>0.5</td>\n",
              "    </tr>\n",
              "    <tr>\n",
              "      <th>1</th>\n",
              "      <td>BrC(Cn1ncc2c(N3CCCC3)ncnc21)c1ccccc1</td>\n",
              "      <td>MGSNKSKPKDASQRRRSLEPAENVHGAGGGAFPASQTPSKPASADG...</td>\n",
              "      <td>CHEMBL382012</td>\n",
              "      <td>11617657.0</td>\n",
              "      <td>NaN</td>\n",
              "      <td>1-(2-bromo-2-phenylethyl)-4-(pyrrolidin-1-yl)-...</td>\n",
              "      <td>src</td>\n",
              "      <td>P12931</td>\n",
              "      <td>5.0</td>\n",
              "      <td>NaN</td>\n",
              "      <td>...</td>\n",
              "      <td>NaN</td>\n",
              "      <td>5.0</td>\n",
              "      <td>NaN</td>\n",
              "      <td>5.0</td>\n",
              "      <td>NaN</td>\n",
              "      <td>5.0</td>\n",
              "      <td>NaN</td>\n",
              "      <td>5.0</td>\n",
              "      <td>NaN</td>\n",
              "      <td>0.5</td>\n",
              "    </tr>\n",
              "    <tr>\n",
              "      <th>2</th>\n",
              "      <td>BrC(Cn1ncc2c(N3CCCCC3)ncnc21)c1ccccc1</td>\n",
              "      <td>MGSNKSKPKDASQRRRSLEPAENVHGAGGGAFPASQTPSKPASADG...</td>\n",
              "      <td>CHEMBL203922</td>\n",
              "      <td>11696703.0</td>\n",
              "      <td>NaN</td>\n",
              "      <td>1-(2-bromo-2-phenylethyl)-4-(piperidin-1-yl)-1...</td>\n",
              "      <td>src</td>\n",
              "      <td>P12931</td>\n",
              "      <td>5.8</td>\n",
              "      <td>NaN</td>\n",
              "      <td>...</td>\n",
              "      <td>NaN</td>\n",
              "      <td>5.8</td>\n",
              "      <td>NaN</td>\n",
              "      <td>5.8</td>\n",
              "      <td>NaN</td>\n",
              "      <td>5.8</td>\n",
              "      <td>NaN</td>\n",
              "      <td>5.8</td>\n",
              "      <td>NaN</td>\n",
              "      <td>0.5</td>\n",
              "    </tr>\n",
              "    <tr>\n",
              "      <th>3</th>\n",
              "      <td>BrC(Cn1ncc2c(NCc3ccccc3)ncnc21)c1ccccc1</td>\n",
              "      <td>MGSNKSKPKDASQRRRSLEPAENVHGAGGGAFPASQTPSKPASADG...</td>\n",
              "      <td>CHEMBL382153</td>\n",
              "      <td>11545984.0</td>\n",
              "      <td>NaN</td>\n",
              "      <td>n-benzyl-1-(2-bromo-2-phenylethyl)-1h-pyrazolo...</td>\n",
              "      <td>src</td>\n",
              "      <td>P12931</td>\n",
              "      <td>5.5</td>\n",
              "      <td>NaN</td>\n",
              "      <td>...</td>\n",
              "      <td>NaN</td>\n",
              "      <td>5.5</td>\n",
              "      <td>NaN</td>\n",
              "      <td>5.5</td>\n",
              "      <td>NaN</td>\n",
              "      <td>5.5</td>\n",
              "      <td>NaN</td>\n",
              "      <td>5.5</td>\n",
              "      <td>NaN</td>\n",
              "      <td>0.5</td>\n",
              "    </tr>\n",
              "    <tr>\n",
              "      <th>4</th>\n",
              "      <td>BrC1=CC2CNCCC2S1</td>\n",
              "      <td>MSGADRSPNAGAAPDSAPGQAAVASAYQRFEPRAYLRNNYAPPRGD...</td>\n",
              "      <td>CHEMBL398475</td>\n",
              "      <td>44447166.0</td>\n",
              "      <td>NaN</td>\n",
              "      <td>2-bromo-3a,4,5,6,7,7a-hexahydrothieno[3,2-c]py...</td>\n",
              "      <td>pnmt</td>\n",
              "      <td>P11086</td>\n",
              "      <td>5.9</td>\n",
              "      <td>NaN</td>\n",
              "      <td>...</td>\n",
              "      <td>NaN</td>\n",
              "      <td>5.9</td>\n",
              "      <td>NaN</td>\n",
              "      <td>5.9</td>\n",
              "      <td>NaN</td>\n",
              "      <td>5.9</td>\n",
              "      <td>NaN</td>\n",
              "      <td>5.9</td>\n",
              "      <td>NaN</td>\n",
              "      <td>0.5</td>\n",
              "    </tr>\n",
              "  </tbody>\n",
              "</table>\n",
              "<p>5 rows × 21 columns</p>\n",
              "</div>"
            ],
            "text/plain": [
              "                                    smiles  \\\n",
              "0             BrC(=C\\c1ccccc1)/C=N/n1cnnc1   \n",
              "1     BrC(Cn1ncc2c(N3CCCC3)ncnc21)c1ccccc1   \n",
              "2    BrC(Cn1ncc2c(N3CCCCC3)ncnc21)c1ccccc1   \n",
              "3  BrC(Cn1ncc2c(NCc3ccccc3)ncnc21)c1ccccc1   \n",
              "4                         BrC1=CC2CNCCC2S1   \n",
              "\n",
              "                                               fasta      ChEMBL ID  \\\n",
              "0  MNPTLILAAFCLGIASATLTFDHSLEAQWTKWKAMHNRLYGMNEEG...  CHEMBL3190095   \n",
              "1  MGSNKSKPKDASQRRRSLEPAENVHGAGGGAFPASQTPSKPASADG...   CHEMBL382012   \n",
              "2  MGSNKSKPKDASQRRRSLEPAENVHGAGGGAFPASQTPSKPASADG...   CHEMBL203922   \n",
              "3  MGSNKSKPKDASQRRRSLEPAENVHGAGGGAFPASQTPSKPASADG...   CHEMBL382153   \n",
              "4  MSGADRSPNAGAAPDSAPGQAAVASAYQRFEPRAYLRNNYAPPRGD...   CHEMBL398475   \n",
              "\n",
              "   PubChem ID IUPHAR ID                                       Ligand names  \\\n",
              "0   6861939.0       NaN                                        sid24812872   \n",
              "1  11617657.0       NaN  1-(2-bromo-2-phenylethyl)-4-(pyrrolidin-1-yl)-...   \n",
              "2  11696703.0       NaN  1-(2-bromo-2-phenylethyl)-4-(piperidin-1-yl)-1...   \n",
              "3  11545984.0       NaN  n-benzyl-1-(2-bromo-2-phenylethyl)-1h-pyrazolo...   \n",
              "4  44447166.0       NaN  2-bromo-3a,4,5,6,7,7a-hexahydrothieno[3,2-c]py...   \n",
              "\n",
              "  Target uniprot  mean  mean pIC50  ...  mean pKd  min  min pIC50  min pKi  \\\n",
              "0   ctsl  P07711   4.2         4.2  ...       NaN  4.2        4.2      NaN   \n",
              "1    src  P12931   5.0         NaN  ...       NaN  5.0        NaN      5.0   \n",
              "2    src  P12931   5.8         NaN  ...       NaN  5.8        NaN      5.8   \n",
              "3    src  P12931   5.5         NaN  ...       NaN  5.5        NaN      5.5   \n",
              "4   pnmt  P11086   5.9         NaN  ...       NaN  5.9        NaN      5.9   \n",
              "\n",
              "   min pKd  max  max pIC50  max pKi  max pKd  score  \n",
              "0      NaN  4.2        4.2      NaN      NaN    0.5  \n",
              "1      NaN  5.0        NaN      5.0      NaN    0.5  \n",
              "2      NaN  5.8        NaN      5.8      NaN    0.5  \n",
              "3      NaN  5.5        NaN      5.5      NaN    0.5  \n",
              "4      NaN  5.9        NaN      5.9      NaN    0.5  \n",
              "\n",
              "[5 rows x 21 columns]"
            ]
          },
          "execution_count": 2,
          "metadata": {},
          "output_type": "execute_result"
        }
      ],
      "source": [
        "LCIdb_path = 'LCIdb_v2.csv'\n",
        " \n",
        "LCIdb = pd.read_csv(LCIdb_path,low_memory=False)\n",
        "LCIdb.head()"
      ]
    },
    {
      "cell_type": "markdown",
      "metadata": {},
      "source": [
        "## Compute CV folds\n",
        "\n",
        "Loads the interaction data from a CSV file, preprocesses the data to generate numerical indices for unique smiles (molecules) and fasta (proteins), \n",
        "and splits the data into cross-validation training and testing datasets based on the specified split type. \n",
        "\n",
        "Options are \n",
        "* \"full\" \n",
        "* \"unseen_drug\" \n",
        "* \"unseen_target\" \n",
        "* \"Orphan\" "
      ]
    },
    {
      "cell_type": "code",
      "execution_count": 8,
      "metadata": {},
      "outputs": [
        {
          "name": "stdout",
          "output_type": "stream",
          "text": [
            "cpu\n",
            "nombre de smiles:  271180\n",
            "nombre de fasta:  2060\n"
          ]
        },
        {
          "name": "stderr",
          "output_type": "stream",
          "text": [
            "/Users/gguichaoua/Dropbox/gwenn/these/chemogenomique/komet/docs/source/vignettes/komet.py:2025: FutureWarning: In a future version of pandas all arguments of DataFrame.drop except for the argument 'labels' will be keyword-only.\n",
            "  df = df.drop(indsmiles_index_with_nan,0)\n",
            "/Users/gguichaoua/Dropbox/gwenn/these/chemogenomique/komet/docs/source/vignettes/komet.py:2028: FutureWarning: In a future version of pandas all arguments of DataFrame.drop except for the argument 'labels' will be keyword-only.\n",
            "  df = df.drop(indfasta_index_with_nan,0)\n"
          ]
        },
        {
          "name": "stdout",
          "output_type": "stream",
          "text": [
            "matrice d'interactions:  (2060, 271180)\n",
            "train (352100, 3)\n",
            "nb of interactions + in test 43653\n",
            "number of interactions + deleted in test 0\n",
            "number of interactions + in test 43653\n",
            "number of interactions - (7965, 2)\n",
            "number of np.nan (557958247, 2)\n",
            "i_end 474771903\n",
            "number of interactions - in test 43653\n",
            "test (87306, 3)\n",
            "train (335638, 3)\n",
            "nb of interactions + in test 46706\n",
            "number of interactions + deleted in test 0\n",
            "number of interactions + in test 46706\n",
            "number of interactions - (7965, 2)\n",
            "number of np.nan (557958247, 2)\n",
            "i_end 491762422\n",
            "number of interactions - in test 46706\n",
            "test (93412, 3)\n",
            "train (321062, 3)\n",
            "nb of interactions + in test 50310\n",
            "number of interactions + deleted in test 0\n",
            "number of interactions + in test 50310\n",
            "number of interactions - (7965, 2)\n",
            "number of np.nan (557958247, 2)\n",
            "i_end 360985565\n",
            "number of interactions - in test 50310\n",
            "test (100620, 3)\n",
            "train (331310, 3)\n",
            "nb of interactions + in test 47831\n",
            "number of interactions + deleted in test 0\n",
            "number of interactions + in test 47831\n",
            "number of interactions - (7965, 2)\n",
            "number of np.nan (557958247, 2)\n",
            "i_end 467274895\n",
            "number of interactions - in test 47831\n",
            "test (95662, 3)\n",
            "train (310338, 3)\n",
            "nb of interactions + in test 52719\n",
            "number of interactions + deleted in test 0\n",
            "number of interactions + in test 52719\n",
            "number of interactions - (7965, 2)\n",
            "number of np.nan (557958247, 2)\n",
            "i_end 445551151\n",
            "number of interactions - in test 52719\n",
            "test (105438, 3)\n",
            "Train/test datasets prepared.\n",
            "Train datasets prepared.\n"
          ]
        }
      ],
      "source": [
        "from komet import make_CV_train_test\n",
        "\n",
        "train_arr, test_arr = make_CV_train_test('LCIdb_v2.csv', \"Orphan\", \"./\", 5)"
      ]
    },
    {
      "cell_type": "code",
      "execution_count": 9,
      "metadata": {},
      "outputs": [
        {
          "name": "stdout",
          "output_type": "stream",
          "text": [
            "cpu\n"
          ]
        },
        {
          "data": {
            "text/html": [
              "<div>\n",
              "<style scoped>\n",
              "    .dataframe tbody tr th:only-of-type {\n",
              "        vertical-align: middle;\n",
              "    }\n",
              "\n",
              "    .dataframe tbody tr th {\n",
              "        vertical-align: top;\n",
              "    }\n",
              "\n",
              "    .dataframe thead th {\n",
              "        text-align: right;\n",
              "    }\n",
              "</style>\n",
              "<table border=\"1\" class=\"dataframe\">\n",
              "  <thead>\n",
              "    <tr style=\"text-align: right;\">\n",
              "      <th></th>\n",
              "      <th>SMILES</th>\n",
              "      <th>Target Sequence</th>\n",
              "      <th>Label</th>\n",
              "    </tr>\n",
              "  </thead>\n",
              "  <tbody>\n",
              "    <tr>\n",
              "      <th>0</th>\n",
              "      <td>BrC[C@H]1CC[C@H](c2nnn3cnc4[nH]ccc4c23)CC1</td>\n",
              "      <td>MGMACLTMTEMEGTSTSSIYQNGDISGNANSMKQIDPVLQVYLYHS...</td>\n",
              "      <td>1</td>\n",
              "    </tr>\n",
              "    <tr>\n",
              "      <th>1</th>\n",
              "      <td>BrC[C@H]1CC[C@H](c2nnn3cnc4[nH]ccc4c23)CC1</td>\n",
              "      <td>MQYLNIKEDCNAMAFCAKMRSSKKTEVNLEAPEPGVEVIFYLSDRE...</td>\n",
              "      <td>1</td>\n",
              "    </tr>\n",
              "    <tr>\n",
              "      <th>2</th>\n",
              "      <td>BrC[C@H]1CC[C@H](c2nnn3cnc4[nH]ccc4c23)CC1</td>\n",
              "      <td>MKTPWKVLLGLLGAAALVTIITVPVVLLNKGTDDATADSRKTYTLT...</td>\n",
              "      <td>0</td>\n",
              "    </tr>\n",
              "    <tr>\n",
              "      <th>3</th>\n",
              "      <td>BrC[C@H]1CC[C@H](c2nnn3cnc4[nH]ccc4c23)CC1</td>\n",
              "      <td>MLEICLKLVGCKSKKGLSSSSSCYLEEALQRPVASDFEPQGLSEAA...</td>\n",
              "      <td>0</td>\n",
              "    </tr>\n",
              "    <tr>\n",
              "      <th>4</th>\n",
              "      <td>Brc1cc(CN2CCC(c3nnn4cnc5[nH]ccc5c34)CC2)sc1Br</td>\n",
              "      <td>MGMACLTMTEMEGTSTSSIYQNGDISGNANSMKQIDPVLQVYLYHS...</td>\n",
              "      <td>1</td>\n",
              "    </tr>\n",
              "  </tbody>\n",
              "</table>\n",
              "</div>"
            ],
            "text/plain": [
              "                                          SMILES  \\\n",
              "0     BrC[C@H]1CC[C@H](c2nnn3cnc4[nH]ccc4c23)CC1   \n",
              "1     BrC[C@H]1CC[C@H](c2nnn3cnc4[nH]ccc4c23)CC1   \n",
              "2     BrC[C@H]1CC[C@H](c2nnn3cnc4[nH]ccc4c23)CC1   \n",
              "3     BrC[C@H]1CC[C@H](c2nnn3cnc4[nH]ccc4c23)CC1   \n",
              "4  Brc1cc(CN2CCC(c3nnn4cnc5[nH]ccc5c34)CC2)sc1Br   \n",
              "\n",
              "                                     Target Sequence  Label  \n",
              "0  MGMACLTMTEMEGTSTSSIYQNGDISGNANSMKQIDPVLQVYLYHS...      1  \n",
              "1  MQYLNIKEDCNAMAFCAKMRSSKKTEVNLEAPEPGVEVIFYLSDRE...      1  \n",
              "2  MKTPWKVLLGLLGAAALVTIITVPVVLLNKGTDDATADSRKTYTLT...      0  \n",
              "3  MLEICLKLVGCKSKKGLSSSSSCYLEEALQRPVASDFEPQGLSEAA...      0  \n",
              "4  MGMACLTMTEMEGTSTSSIYQNGDISGNANSMKQIDPVLQVYLYHS...      1  "
            ]
          },
          "execution_count": 9,
          "metadata": {},
          "output_type": "execute_result"
        }
      ],
      "source": [
        "train = train_arr[0]\n",
        "test = test_arr[0]\n",
        "\n",
        "train.head()"
      ]
    },
    {
      "cell_type": "code",
      "execution_count": 13,
      "metadata": {},
      "outputs": [
        {
          "name": "stdout",
          "output_type": "stream",
          "text": [
            "number of drugs in train 135084\n",
            "number of drugs in test 62676\n",
            "**************************************************\n",
            "number of proteins in train 1180\n",
            "number of proteins in test 880\n"
          ]
        }
      ],
      "source": [
        "print(\"number of drugs in train\", train['SMILES'].nunique())\n",
        "print(\"number of drugs in test\", test['SMILES'].nunique())\n",
        "\n",
        "print(\"*\"*50)\n",
        "print(\"number of proteins in train\", train['Target Sequence'].nunique())\n",
        "print(\"number of proteins in test\", test['Target Sequence'].nunique())\n"
      ]
    },
    {
      "cell_type": "code",
      "execution_count": 16,
      "metadata": {},
      "outputs": [
        {
          "name": "stdout",
          "output_type": "stream",
          "text": [
            "number of interactions in train\n"
          ]
        },
        {
          "data": {
            "text/plain": [
              "Label\n",
              "0    176050\n",
              "1    176050\n",
              "dtype: int64"
            ]
          },
          "execution_count": 16,
          "metadata": {},
          "output_type": "execute_result"
        }
      ],
      "source": [
        "print(\"number of interactions in train\")\n",
        "train.value_counts('Label')"
      ]
    },
    {
      "cell_type": "code",
      "execution_count": 17,
      "metadata": {},
      "outputs": [
        {
          "name": "stdout",
          "output_type": "stream",
          "text": [
            "number of interactions in test\n"
          ]
        },
        {
          "data": {
            "text/plain": [
              "Label\n",
              "1    43653\n",
              "0    43652\n",
              "dtype: int64"
            ]
          },
          "execution_count": 17,
          "metadata": {},
          "output_type": "execute_result"
        }
      ],
      "source": [
        "print(\"number of interactions in test\")\n",
        "test.value_counts('Label')"
      ]
    },
    {
      "cell_type": "code",
      "execution_count": null,
      "metadata": {},
      "outputs": [],
      "source": []
    }
  ],
  "metadata": {
    "colab": {
      "provenance": []
    },
    "kernelspec": {
      "display_name": "Python 3",
      "name": "python3"
    },
    "language_info": {
      "codemirror_mode": {
        "name": "ipython",
        "version": 3
      },
      "file_extension": ".py",
      "mimetype": "text/x-python",
      "name": "python",
      "nbconvert_exporter": "python",
      "pygments_lexer": "ipython3",
      "version": "3.9.-1"
    }
  },
  "nbformat": 4,
  "nbformat_minor": 0
}
