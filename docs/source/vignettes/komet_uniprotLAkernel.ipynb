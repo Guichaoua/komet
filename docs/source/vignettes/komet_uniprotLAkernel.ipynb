{
  "cells": [
    {
      "cell_type": "markdown",
      "metadata": {
        "id": "IBvjSNOwug5H"
      },
      "source": [
        "# Komet with Uniprot LAkernel\n",
        "\n",
        "1. Downloading the dataset (train/val/test) : you can choose different databases\n",
        "2. Calculating of molecule features using a subsample of train molecules (MorganFP kernel approximated via Nystrom approximation)\n",
        "3. Loading approximated protein features, using SVD of the Local Alignment kernel precalculated on 20605 human proteins\n",
        "4. Searching for the best lambda by choosing the best AUPR on the validation dataset\n",
        "5. Testing with best lambda"
      ]
    },
    {
      "cell_type": "code",
      "execution_count": 1,
      "metadata": {
        "colab": {
          "base_uri": "https://localhost:8080/"
        },
        "id": "9pU7RSvJug5I",
        "outputId": "d6c9572b-5e88-4642-c67c-3d7ddb3c3b08"
      },
      "outputs": [
        {
          "name": "stdout",
          "output_type": "stream",
          "text": [
            "cuda:0\n"
          ]
        }
      ],
      "source": [
        "%load_ext autoreload\n",
        "%autoreload 2\n",
        "import torch\n",
        "import torch.optim as optim\n",
        "\n",
        "import matplotlib.pyplot as plt\n",
        "import pandas as pd\n",
        "import numpy as np\n",
        "import zipfile\n",
        "import pickle\n",
        "\n",
        "import time\n",
        "\n",
        "from sklearn.metrics import  average_precision_score,  roc_curve, confusion_matrix, precision_score, recall_score, auc\n",
        "\n",
        "device = torch.device(\"cuda:0\" if torch.cuda.is_available() else \"cpu\")\n",
        "device_cpu = torch.device(\"cpu\")\n",
        "device_cpu = device\n",
        "print( device )\n",
        "\n",
        "mytype = torch.float16 # to save memory (only on GPU)\n",
        "mytype = torch.float32"
      ]
    },
    {
      "cell_type": "code",
      "execution_count": 2,
      "metadata": {
        "colab": {
          "base_uri": "https://localhost:8080/"
        },
        "id": "RI3yUJbVug5J",
        "outputId": "474e939a-8904-4857-f6e3-536e258a5c1c"
      },
      "outputs": [
        {
          "name": "stdout",
          "output_type": "stream",
          "text": [
            "Collecting rdkit\n",
            "  Downloading rdkit-2023.9.5-cp310-cp310-manylinux_2_17_x86_64.manylinux2014_x86_64.whl (34.4 MB)\n",
            "\u001b[2K     \u001b[90m━━━━━━━━━━━━━━━━━━━━━━━━━━━━━━━━━━━━━━━━\u001b[0m \u001b[32m34.4/34.4 MB\u001b[0m \u001b[31m28.8 MB/s\u001b[0m eta \u001b[36m0:00:00\u001b[0m\n",
            "\u001b[?25hRequirement already satisfied: numpy in /usr/local/lib/python3.10/dist-packages (from rdkit) (1.25.2)\n",
            "Requirement already satisfied: Pillow in /usr/local/lib/python3.10/dist-packages (from rdkit) (9.4.0)\n",
            "Installing collected packages: rdkit\n",
            "Successfully installed rdkit-2023.9.5\n"
          ]
        }
      ],
      "source": [
        "!pip install rdkit"
      ]
    },
    {
      "cell_type": "markdown",
      "metadata": {
        "id": "cEXyT3zFug5J"
      },
      "source": [
        "### 1. Download from a GitHub repo."
      ]
    },
    {
      "cell_type": "markdown",
      "metadata": {
        "id": "vaE0Z5gJug5J"
      },
      "source": [
        "#### Download utils"
      ]
    },
    {
      "cell_type": "code",
      "execution_count": 3,
      "metadata": {
        "id": "fdovYExbug5J"
      },
      "outputs": [],
      "source": [
        "!wget -q https://github.com/Guichaoua/komet/raw/main/komet/komet.py"
      ]
    },
    {
      "cell_type": "code",
      "execution_count": 4,
      "metadata": {
        "colab": {
          "base_uri": "https://localhost:8080/"
        },
        "id": "xHGhvUREug5J",
        "outputId": "ecbf9b96-5706-40d5-9ce6-5c18bdf0bcb2"
      },
      "outputs": [
        {
          "name": "stdout",
          "output_type": "stream",
          "text": [
            "cuda:0\n"
          ]
        }
      ],
      "source": [
        "import komet"
      ]
    },
    {
      "cell_type": "markdown",
      "metadata": {
        "id": "MngEUfcFug5J"
      },
      "source": [
        "#### Download train/val/test\n",
        "Exemples of dataset :\n",
        "* LCIdb/Orphan,\n",
        "* BIOSNAP(full_data,unseen_drug, unseen_protein),\n",
        "* BindingDB.\n",
        "  \n",
        "These last datasets can be also downloaded on MolTrans Github ex: https://raw.githubusercontent.com/kexinhuang12345/MolTrans/master/dataset/DAVIS/test.csv)"
      ]
    },
    {
      "cell_type": "code",
      "execution_count": 5,
      "metadata": {
        "id": "w7i3WCequg5K"
      },
      "outputs": [],
      "source": [
        "!mkdir data/\n",
        "!wget -q https://github.com/Guichaoua/komet/raw/main/data/LCIdb/Orphan/test.csv\n",
        "!mv test.csv data/\n",
        "!wget -q https://github.com/Guichaoua/komet/raw/main/data/LCIdb/Orphan/train.csv.zip\n",
        "!mv train.csv.zip data/\n",
        "!wget -q https://github.com/Guichaoua/komet/raw/main/data/LCIdb/Orphan/val.csv\n",
        "!mv val.csv data/\n",
        "!wget -q https://github.com/Guichaoua/komet/raw/main/data/dict_ind2fasta_all.data\n",
        "!mv dict_ind2fasta_all.data data/\n",
        "!wget -q https://github.com/Guichaoua/komet/raw/main/data/U_small.npy\n",
        "!mv U_small.npy data/\n",
        "!wget -q https://github.com/Guichaoua/komet/raw/main/data/Lambda_small.npy\n",
        "!mv Lambda_small.npy data/"
      ]
    },
    {
      "cell_type": "code",
      "execution_count": 6,
      "metadata": {
        "colab": {
          "base_uri": "https://localhost:8080/"
        },
        "id": "HiDwVkZeug5K",
        "outputId": "e2364ec7-f685-4c68-a295-fa9c8c63ce11"
      },
      "outputs": [
        {
          "name": "stdout",
          "output_type": "stream",
          "text": [
            "number of smiles to clean: 0\n",
            "train.csv shape (236530, 3)\n",
            "number of smiles to clean: 0\n",
            "val.csv shape (21844, 3)\n",
            "number of smiles to clean: 0\n",
            "test.csv shape (45005, 3)\n",
            "full shape (303379, 3)\n"
          ]
        }
      ],
      "source": [
        "dataset_dir = \"data/\"\n",
        "\n",
        "# load data\n",
        "train = komet.load_df(\"train.csv.zip\",dataset_dir)\n",
        "val = komet.load_df(\"val.csv\",dataset_dir)\n",
        "test = komet.load_df(\"test.csv\",dataset_dir)\n",
        "\n",
        "# dataframe full has all smiles and fasta sequences\n",
        "full = pd.concat([train, val, test])\n",
        "print(\"full shape\",full.shape)"
      ]
    },
    {
      "cell_type": "markdown",
      "metadata": {
        "id": "eqwx_0tqug5L"
      },
      "source": [
        "### 2. Calculation of molecule features using a subsample of train molecules (molecule kernel approximated via Nystrom approximation)"
      ]
    },
    {
      "cell_type": "code",
      "execution_count": 7,
      "metadata": {
        "colab": {
          "base_uri": "https://localhost:8080/"
        },
        "id": "TKJS8Xifug5L",
        "outputId": "5e97cf88-931e-4496-cfb9-8e81399d28d8"
      },
      "outputs": [
        {
          "name": "stdout",
          "output_type": "stream",
          "text": [
            "number of different smiles (mol): 143255\n"
          ]
        }
      ],
      "source": [
        "#### MOLECULE####\n",
        "# Index of the smiles in the dataset\n",
        "list_smiles = full[['SMILES']].drop_duplicates().values.flatten()\n",
        "nM = len(list_smiles)\n",
        "print(\"number of different smiles (mol):\",nM)\n",
        "dict_smiles2ind = {list_smiles[i]:i for i in range(nM)}\n",
        "\n",
        "# add indsmiles in train, val, test\n",
        "train['indsmiles'] = train['SMILES'].apply(lambda x:dict_smiles2ind[x] )\n",
        "val['indsmiles'] = val['SMILES'].apply(lambda x: dict_smiles2ind[x])\n",
        "test['indsmiles'] = test['SMILES'].apply(lambda x: dict_smiles2ind[x])"
      ]
    },
    {
      "cell_type": "code",
      "execution_count": 8,
      "metadata": {
        "colab": {
          "base_uri": "https://localhost:8080/"
        },
        "id": "jgQGeHUqug5L",
        "outputId": "2ac52954-fd00-4986-fb33-dce2bf3a040d"
      },
      "outputs": [
        {
          "name": "stdout",
          "output_type": "stream",
          "text": [
            "mM 3000 dM 1000\n"
          ]
        }
      ],
      "source": [
        "# Choice of the parameters for the Nystrom approximation and the reduction dimension of the features\n",
        "mM = 3000 #all mol to compute the mol kernel for medium-scale database\n",
        "dM = 1000 #all dim for the mol features for medium-scale database\n",
        "\n",
        "# In case there are less molecules than the number of molecules to compute the Nystrom approximation\n",
        "mM = min(mM,nM) # number of molecule to compute nystrom\n",
        "dM = min(dM,nM) # final dimension of features for molecules\n",
        "print(\"mM\",mM,\"dM\",dM)"
      ]
    },
    {
      "cell_type": "code",
      "execution_count": 9,
      "metadata": {
        "colab": {
          "base_uri": "https://localhost:8080/"
        },
        "id": "9rHKuAbKb6xs",
        "outputId": "f3756da6-630d-4808-d1a4-ad99f179e87e"
      },
      "outputs": [
        {
          "name": "stdout",
          "output_type": "stream",
          "text": [
            "mol kernel shape torch.Size([3000, 143255])\n",
            "mol features shape torch.Size([143255, 1000])\n"
          ]
        }
      ],
      "source": [
        "# molecule kernel_first step : computation of Morgan fingerprint for all molecules\n",
        "MorganFP = komet.Morgan_FP(list_smiles)\n",
        "\n",
        "# compute the Nystrom approximation of the mol kernel and the features of the Kronecker kernel (features normalized and calculated on all mol contained in the dataset (train/val/test))\n",
        "X_cn = komet.Nystrom_X_cn(mM,dM,nM,MorganFP,n_max = max(train['indsmiles']))\n",
        "print(\"mol features shape\",X_cn.shape)"
      ]
    },
    {
      "cell_type": "markdown",
      "metadata": {
        "id": "j3S4lGo5n77C"
      },
      "source": [
        "### 3. Approximated protein features, using SVD of the Local Alignment kernel precalculated on 20605 human proteins\n",
        "\n",
        "$K_P = U \\Lambda U.T$  \n",
        "\n",
        "With file size constraints on Github, we can only load $U_{small} = U[:,:1200]$ and $\\Lambda_{small} = \\Lambda[:,:1200]$\n",
        "\n",
        "You can look in dict_ind2fasta_all.data which proteins are present."
      ]
    },
    {
      "cell_type": "code",
      "execution_count": 10,
      "metadata": {
        "colab": {
          "base_uri": "https://localhost:8080/"
        },
        "id": "db-Tz8gpug5L",
        "outputId": "b093680c-7996-4184-a676-888ebad514cc"
      },
      "outputs": [
        {
          "name": "stdout",
          "output_type": "stream",
          "text": [
            "U.shape torch.Size([20605, 1200]) Lambda.shape torch.Size([1200])\n"
          ]
        }
      ],
      "source": [
        "# Load Precomputed kernel and dict for the proteins\n",
        "dict_ind2fasta_all = pickle.load(open(\"data/dict_ind2fasta_all.data\", 'rb'))\n",
        "dict_fasta2ind_all = {fasta:ind for ind,fasta in dict_ind2fasta_all.items()}\n",
        "U = torch.from_numpy(np.load(\"data/U_small.npy\"))\n",
        "Lambda = torch.from_numpy(np.load(\"data/Lambda_small.npy\"))\n",
        "print(\"U.shape\",U.shape,\"Lambda.shape\",Lambda.shape)"
      ]
    },
    {
      "cell_type": "code",
      "execution_count": 11,
      "metadata": {
        "id": "3nqe97eGug5L"
      },
      "outputs": [],
      "source": [
        "# computation of feature for protein (no nystrom, just SVD)\n",
        "dP = min(U.shape[0],1200)\n",
        "Y_all = U[:,:dP] @ torch.diag(torch.sqrt(Lambda[:dP]))\n",
        "Y_all = U[:,:dP] @ torch.diag(torch.sqrt(Lambda[:dP]))\n",
        "Y_all = Y_all.to(device)"
      ]
    },
    {
      "cell_type": "code",
      "execution_count": 12,
      "metadata": {
        "colab": {
          "base_uri": "https://localhost:8080/"
        },
        "id": "LhizPQINv2Vh",
        "outputId": "4187bd49-d72f-40f8-a6de-47e961629b83"
      },
      "outputs": [
        {
          "name": "stdout",
          "output_type": "stream",
          "text": [
            "number of different Fasta (protein): 2069\n"
          ]
        }
      ],
      "source": [
        "# Index of the protein in the dataset\n",
        "fasta = full[['Target Sequence']].drop_duplicates().values.flatten() # fasta sequence on the dataset, in the same order as the dataset\n",
        "print(\"number of different Fasta (protein):\",len(fasta))\n",
        "# add ind_fasta dans train, val et test\n",
        "train['indfasta'] = train['Target Sequence'].apply(lambda x: np.where(fasta==x)[0][0])\n",
        "val['indfasta'] = val['Target Sequence'].apply(lambda x: np.where(fasta==x)[0][0])\n",
        "test['indfasta'] = test['Target Sequence'].apply(lambda x:  np.where(fasta==x)[0][0])"
      ]
    },
    {
      "cell_type": "code",
      "execution_count": 13,
      "metadata": {
        "colab": {
          "base_uri": "https://localhost:8080/"
        },
        "id": "Btg8zHhLug5L",
        "outputId": "afb77ceb-78a6-4600-8b25-8f088935026a"
      },
      "outputs": [
        {
          "name": "stdout",
          "output_type": "stream",
          "text": [
            "features shape torch.Size([2069, 1200])\n"
          ]
        },
        {
          "name": "stderr",
          "output_type": "stream",
          "text": [
            "<ipython-input-13-02af9936bc10>:3: UserWarning: To copy construct from a tensor, it is recommended to use sourceTensor.clone().detach() or sourceTensor.clone().detach().requires_grad_(True), rather than torch.tensor(sourceTensor).\n",
            "  Y = torch.tensor(Y,dtype = mytype,device = device)\n"
          ]
        }
      ],
      "source": [
        "I_fasta = [int(dict_fasta2ind_all[fasta[i]]) for i in range(len(fasta))] # indeY of fasta in the precomputed dict and protein kernel, in the same order as the dataset\n",
        "Y = Y_all[I_fasta,:]\n",
        "Y = torch.tensor(Y,dtype = mytype,device = device)\n",
        "n_max = max(train['indfasta'])\n",
        "Y_c = Y - Y[:n_max,:].mean(axis = 0)\n",
        "Y_cn = Y_c / torch.norm(Y_c,dim = 1)[:,None]\n",
        "print(\"features shape\",Y_cn.shape)"
      ]
    },
    {
      "cell_type": "markdown",
      "metadata": {
        "id": "Q3XpBFstnvcX"
      },
      "source": [
        "#### INDEX OF INTERACTIONS"
      ]
    },
    {
      "cell_type": "code",
      "execution_count": 14,
      "metadata": {
        "colab": {
          "base_uri": "https://localhost:8080/"
        },
        "id": "ateIiBrUug5M",
        "outputId": "6856e84c-ca6b-4ad8-85a9-597bcd84e3aa"
      },
      "outputs": [
        {
          "name": "stdout",
          "output_type": "stream",
          "text": [
            "len(train) 236530\n"
          ]
        }
      ],
      "source": [
        "# TRAIN\n",
        "I, J, y = komet.load_datas(train)\n",
        "n = len(I)\n",
        "print(\"len(train)\",n)"
      ]
    },
    {
      "cell_type": "markdown",
      "metadata": {
        "id": "DGIdvdGdiFgC"
      },
      "source": [
        "### 4. Komet algorithm\n"
      ]
    },
    {
      "cell_type": "markdown",
      "metadata": {
        "id": "ivsC2DHkug5M"
      },
      "source": [
        "#### training with a choosen lambda"
      ]
    },
    {
      "cell_type": "code",
      "execution_count": 15,
      "metadata": {
        "colab": {
          "base_uri": "https://localhost:8080/"
        },
        "id": "vf7gb1p-ug5M",
        "outputId": "de20afef-c252-491e-975b-20a93f10083f"
      },
      "outputs": [
        {
          "name": "stdout",
          "output_type": "stream",
          "text": [
            "L-BFGS time: 5.8838 seconds\n"
          ]
        }
      ],
      "source": [
        "lamb = 0.01\n",
        "# train the model\n",
        "w_bfgs,b_bfgs,history_lbfgs_SVM = komet.SVM_bfgs(X_cn,Y_cn,y,I,J,lamb,niter=50)\n",
        "# compute a probability using weights (Platt scaling)\n",
        "s,t,history_lbfgs_Platt = komet.compute_proba_Platt_Scalling(w_bfgs,X_cn,Y_cn,y,I,J,niter=20)"
      ]
    },
    {
      "cell_type": "code",
      "execution_count": 16,
      "metadata": {
        "colab": {
          "base_uri": "https://localhost:8080/"
        },
        "id": "3X4gcIMNxjP0",
        "outputId": "38ce9c78-eda3-4706-bb3d-0f7dac5ead9d"
      },
      "outputs": [
        {
          "name": "stdout",
          "output_type": "stream",
          "text": [
            "len(val) 21844\n"
          ]
        }
      ],
      "source": [
        "# Validation\n",
        "I_val, J_val, y_val = komet.load_datas(val)\n",
        "n_val = len(I_val)\n",
        "print(\"len(val)\",n_val)"
      ]
    },
    {
      "cell_type": "code",
      "execution_count": 17,
      "metadata": {
        "colab": {
          "base_uri": "https://localhost:8080/"
        },
        "id": "O8h3uuXUyTbZ",
        "outputId": "64f3bdb7-9060-4201-ac4d-57e3bb0fed61"
      },
      "outputs": [
        {
          "name": "stdout",
          "output_type": "stream",
          "text": [
            "roc AUC = 0.7556\n",
            "AUPR = 0.7649\n",
            "accuracy (threshold 0.5)= 0.5000\n",
            "best threshold = 0.3497\n",
            "accuracy (best threshold)= 0.6925\n",
            "false positive (best threshold)= 0.3917\n"
          ]
        }
      ],
      "source": [
        "#### val ####\n",
        "# we compute a probability using weights (Platt scaling)\n",
        "m,y_pred, proba_pred = komet.compute_proba(w_bfgs,b_bfgs,s,t,X_cn,Y_cn,I_val,J_val)\n",
        "# we compute the results\n",
        "acc1,au_Roc,au_PR,thred_optim,acc_best,cm,FP = komet.results(y_val.cpu(),y_pred.cpu(),proba_pred.cpu())\n",
        "print(f\"roc AUC = {au_Roc:.4f}\")\n",
        "print(f\"AUPR = {au_PR:.4f}\")\n",
        "print(f\"accuracy (threshold 0.5)= {acc1:.4f}\")\n",
        "print(f\"best threshold = {thred_optim:.4f}\")\n",
        "print(f\"accuracy (best threshold)= {acc_best:.4f}\")\n",
        "print(f\"false positive (best threshold)= {FP:.4f}\")"
      ]
    },
    {
      "cell_type": "markdown",
      "metadata": {
        "id": "I64pDSWXug5N"
      },
      "source": [
        "### Choice of $\\lambda$:  Search for the best lambda by choosing the best AUPR on the validation dataset"
      ]
    },
    {
      "cell_type": "code",
      "execution_count": 18,
      "metadata": {
        "colab": {
          "base_uri": "https://localhost:8080/"
        },
        "id": "Aucg5_0jug5N",
        "outputId": "49c40bdb-0423-407e-d568-400f8acc42f5"
      },
      "outputs": [
        {
          "name": "stdout",
          "output_type": "stream",
          "text": [
            "lambda= 1e-11\n",
            "L-BFGS time: 11.6659 seconds\n",
            "lambda= 1e-10\n",
            "L-BFGS time: 11.8968 seconds\n",
            "lambda= 1e-09\n",
            "L-BFGS time: 11.7499 seconds\n",
            "lambda= 1e-08\n",
            "L-BFGS time: 12.1045 seconds\n",
            "lambda= 1e-07\n",
            "L-BFGS time: 12.0310 seconds\n",
            "lambda= 1e-06\n",
            "L-BFGS time: 12.0544 seconds\n",
            "lambda= 1e-05\n",
            "L-BFGS time: 12.3243 seconds\n",
            "lambda= 0.0001\n",
            "L-BFGS time: 12.3547 seconds\n",
            "lambda= 0.001\n",
            "L-BFGS time: 6.4322 seconds\n",
            "lambda= 0.01\n",
            "L-BFGS time: 3.9367 seconds\n",
            "lambda= 0.1\n",
            "L-BFGS time: 3.6088 seconds\n",
            "lambda= 1.0\n",
            "L-BFGS time: 3.6306 seconds\n",
            "lambda= 10.0\n",
            "L-BFGS time: 3.6039 seconds\n",
            "lambda= 100.0\n",
            "L-BFGS time: 3.5971 seconds\n",
            "------------------------------\n",
            "lambda_max 1e-05\n",
            "aupr_max for val 0.8511095652601627\n"
          ]
        }
      ],
      "source": [
        "#### Choice of the hyperparameters ####\n",
        "# we use the validation set to choose the hyperparameters\n",
        "# we use the AUPR as a criterion\n",
        "lambdas = np.logspace(-11, 2, num=14)\n",
        "accs = []\n",
        "aupr = []\n",
        "lambda_max = 0\n",
        "aupr_max = 0\n",
        "\n",
        "for lamb in lambdas:\n",
        "    print(\"lambda=\",lamb)\n",
        "\n",
        "    # train the model\n",
        "    w_bfgs,b_bfgs,history_lbfgs_SVM = komet.SVM_bfgs(X_cn,Y_cn,y,I,J,lamb,niter=50)\n",
        "    # compute a probability using weights (Platt scaling)\n",
        "    s,t,history_lbfgs_Platt = komet.compute_proba_Platt_Scalling(w_bfgs,X_cn,Y_cn,y,I,J,niter=20)\n",
        "\n",
        "    # accuracy on the validation set\n",
        "    m,y_pred_val, proba_pred_val = komet.compute_proba(w_bfgs,b_bfgs,s,t,X_cn,Y_cn,I_val,J_val)\n",
        "    # we compute the results\n",
        "    acc1,au_Roc,au_PR,thred_optim,acc_best,cm,FP = komet.results(y_val.cpu(),y_pred_val.cpu(),proba_pred_val.cpu())\n",
        "\n",
        "    accs.append(acc1)\n",
        "    aupr.append(au_PR)\n",
        "\n",
        "    if au_PR > aupr_max:\n",
        "        lambda_max=lamb\n",
        "        aupr_max = au_PR\n",
        "\n",
        "print(\"-\"*30)\n",
        "print(\"lambda_max\",lambda_max)\n",
        "print(\"aupr_max for val\",aupr_max)\n"
      ]
    },
    {
      "cell_type": "markdown",
      "metadata": {
        "id": "i7QH9uaxug5N"
      },
      "source": [
        "Plot accuracy in function of lambda"
      ]
    },
    {
      "cell_type": "code",
      "execution_count": 19,
      "metadata": {
        "colab": {
          "base_uri": "https://localhost:8080/",
          "height": 457
        },
        "id": "JFSAJYE2ug5N",
        "outputId": "8fbdb75d-b0d7-4b09-a77f-920bca1d33d8"
      },
      "outputs": [
        {
          "data": {
            "image/png": "[encoded data removed]",
            "text/plain": [
              "<Figure size 640x480 with 1 Axes>"
            ]
          },
          "metadata": {},
          "output_type": "display_data"
        }
      ],
      "source": [
        "import matplotlib.pyplot as plt\n",
        "plt.plot(lambdas,accs)\n",
        "plt.xscale('log')\n",
        "plt.title('Accuracy in function of lambda')\n",
        "plt.show()"
      ]
    },
    {
      "cell_type": "code",
      "execution_count": 20,
      "metadata": {
        "colab": {
          "base_uri": "https://localhost:8080/",
          "height": 457
        },
        "id": "yNCNt_nWug5N",
        "outputId": "2bd1cc3f-a2b3-4aec-88d4-731f596621ea"
      },
      "outputs": [
        {
          "data": {
            "image/png": "[encoded data removed]",
            "text/plain": [
              "<Figure size 640x480 with 1 Axes>"
            ]
          },
          "metadata": {},
          "output_type": "display_data"
        }
      ],
      "source": [
        "plt.plot(lambdas,aupr)\n",
        "plt.xscale('log')\n",
        "plt.title('AUPR in function of lambda')\n",
        "plt.show()"
      ]
    },
    {
      "cell_type": "markdown",
      "metadata": {
        "id": "WHRGD0YNiJ2I"
      },
      "source": [
        "### Training/testing with lambda_max"
      ]
    },
    {
      "cell_type": "code",
      "execution_count": 21,
      "metadata": {
        "colab": {
          "base_uri": "https://localhost:8080/"
        },
        "id": "Jb1qHf_fug5N",
        "outputId": "333d3a80-e22a-4357-dcf7-1dc09a7dcf27"
      },
      "outputs": [
        {
          "name": "stdout",
          "output_type": "stream",
          "text": [
            "lambda_max= 1e-05\n",
            "L-BFGS time: 12.1627 seconds\n"
          ]
        }
      ],
      "source": [
        "lamb = lambda_max\n",
        "print(\"lambda_max=\",lamb)\n",
        "# train the model\n",
        "w_bfgs,b_bfgs,history_lbfgs_SVM = komet.SVM_bfgs(X_cn,Y_cn,y,I,J,lamb,niter=50)\n",
        "# compute a probability using weights (Platt scaling)\n",
        "s,t,history_lbfgs_Platt = komet.compute_proba_Platt_Scalling(w_bfgs,X_cn,Y_cn,y,I,J,niter=20)"
      ]
    },
    {
      "cell_type": "code",
      "execution_count": 22,
      "metadata": {
        "colab": {
          "base_uri": "https://localhost:8080/"
        },
        "id": "u3bjKnt5ug5N",
        "outputId": "571b5ac7-6874-48a9-9aa6-dbf6608b19ff"
      },
      "outputs": [
        {
          "name": "stdout",
          "output_type": "stream",
          "text": [
            "len(test) 45005\n"
          ]
        }
      ],
      "source": [
        "# Test\n",
        "I_test, J_test, y_test = komet.load_datas(test)\n",
        "n_test = len(I_test)\n",
        "print(\"len(test)\",n_test)"
      ]
    },
    {
      "cell_type": "code",
      "execution_count": 23,
      "metadata": {
        "colab": {
          "base_uri": "https://localhost:8080/"
        },
        "id": "mobx7atuug5O",
        "outputId": "a98145b9-3315-44a8-c527-e1bc94c234b4"
      },
      "outputs": [
        {
          "name": "stdout",
          "output_type": "stream",
          "text": [
            "roc AUC = 0.8625\n",
            "AUPR = 0.8726\n",
            "accuracy (threshold 0.5)= 0.7828\n",
            "best threshold = 0.1004\n",
            "accuracy (best threshold)= 0.8002\n",
            "false positive (best threshold)= 0.1670\n"
          ]
        }
      ],
      "source": [
        "#### TEST ####\n",
        "# we compute a probability using weights (Platt scaling)\n",
        "m,y_pred, proba_pred = komet.compute_proba(w_bfgs,b_bfgs,s,t,X_cn,Y_cn,I_test,J_test)\n",
        "# we compute the results\n",
        "acc1,au_Roc,au_PR,thred_optim,acc_best,cm,FP = komet.results(y_test.cpu(),y_pred.cpu(),proba_pred.cpu())\n",
        "print(f\"roc AUC = {au_Roc:.4f}\")\n",
        "print(f\"AUPR = {au_PR:.4f}\")\n",
        "print(f\"accuracy (threshold 0.5)= {acc1:.4f}\")\n",
        "print(f\"best threshold = {thred_optim:.4f}\")\n",
        "print(f\"accuracy (best threshold)= {acc_best:.4f}\")\n",
        "print(f\"false positive (best threshold)= {FP:.4f}\")"
      ]
    },
    {
      "cell_type": "code",
      "execution_count": 24,
      "metadata": {
        "colab": {
          "base_uri": "https://localhost:8080/",
          "height": 449
        },
        "id": "QR3RzZmFug5O",
        "outputId": "a92c0555-78a8-4370-b46b-148f95a854e5"
      },
      "outputs": [
        {
          "data": {
            "image/png": "[encoded data removed]",
            "text/plain": [
              "<Figure size 640x480 with 2 Axes>"
            ]
          },
          "metadata": {},
          "output_type": "display_data"
        }
      ],
      "source": [
        "# plot confusion matrix\n",
        "from sklearn.metrics import ConfusionMatrixDisplay\n",
        "labels = [-1., 1.]\n",
        "disp = ConfusionMatrixDisplay(confusion_matrix=cm,\n",
        "                              display_labels=labels)\n",
        "disp.plot()\n",
        "plt.show()"
      ]
    },
    {
      "cell_type": "code",
      "execution_count": 25,
      "metadata": {
        "colab": {
          "base_uri": "https://localhost:8080/",
          "height": 452
        },
        "id": "a31X7I4rug5O",
        "outputId": "54ce5092-63c3-4103-e119-72bf70a31ddf"
      },
      "outputs": [
        {
          "data": {
            "image/png": "[encoded data removed]",
            "text/plain": [
              "<Figure size 640x480 with 1 Axes>"
            ]
          },
          "metadata": {},
          "output_type": "display_data"
        }
      ],
      "source": [
        "# plot distribution (density) of p when y_test=1\n",
        "plt.hist(proba_pred.cpu().numpy()[y_test.cpu().numpy()==1],bins=10,alpha=0.8,color='green',label='y_test=1');\n",
        "plt.hist(proba_pred.cpu().numpy()[y_test.cpu()==-1],bins=10,alpha=0.5,color='red',label='y_test=-1');\n",
        "plt.legend()\n",
        "plt.title('Distribution of predicted probability')\n",
        "plt.show()"
      ]
    },
    {
      "cell_type": "code",
      "execution_count": 25,
      "metadata": {
        "id": "LHeHyJ36y3bU"
      },
      "outputs": [],
      "source": []
    }
  ],
  "metadata": {
    "accelerator": "GPU",
    "colab": {
      "gpuType": "T4",
      "provenance": []
    },
    "kernelspec": {
      "display_name": "Python 3",
      "name": "python3"
    },
    "language_info": {
      "codemirror_mode": {
        "name": "ipython",
        "version": 3
      },
      "file_extension": ".py",
      "mimetype": "text/x-python",
      "name": "python",
      "nbconvert_exporter": "python",
      "pygments_lexer": "ipython3",
      "version": "3.9.16"
    }
  },
  "nbformat": 4,
  "nbformat_minor": 0
}
