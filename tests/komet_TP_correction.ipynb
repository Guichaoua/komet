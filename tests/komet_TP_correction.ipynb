{
  "cells": [
    {
      "cell_type": "markdown",
      "metadata": {
        "id": "K-x3OPM4Sao2"
      },
      "source": [
        "# komet : Kronecker Optimized METhod for DTI prediction\n",
        "\n",
        "In this TP, we will present the LCIdb database and the Komet algorithm.\n",
        "\n",
        "1. Downloading utils and the dataset (train/val/test) from Github\n",
        "2. Calculation of molecule features using a subsample of train molecules (MorganFP kernel approximated via Nystrom approximation)\n",
        "3. Calculation of protein features (SVD on LAkernel)\n",
        "4. Train/Testing with a chosen lambda\n",
        "5. Make some predictions"
      ]
    },
    {
      "cell_type": "code",
      "execution_count": 2,
      "metadata": {
        "id": "ZNoCADZ3Sao3"
      },
      "outputs": [],
      "source": [
        "%load_ext autoreload\n",
        "%autoreload 2\n",
        "\n",
        "# Importing the current libraries\n",
        "\n",
        "import matplotlib.pyplot as plt\n",
        "import pandas as pd\n",
        "import numpy as np\n",
        "import zipfile\n",
        "import pickle\n",
        "import time\n",
        "\n",
        "from sklearn.metrics import  average_precision_score,  roc_curve, confusion_matrix, precision_score, recall_score, auc"
      ]
    },
    {
      "cell_type": "code",
      "execution_count": 3,
      "metadata": {
        "id": "gLGulFXBSao3",
        "colab": {
          "base_uri": "https://localhost:8080/"
        },
        "outputId": "96509d1c-0b99-49af-ee30-aca04ce36331"
      },
      "outputs": [
        {
          "output_type": "stream",
          "name": "stdout",
          "text": [
            "cuda:0\n"
          ]
        }
      ],
      "source": [
        "# Importing the pytorch libraries and define the device\n",
        "\n",
        "import torch\n",
        "import torch.optim as optim\n",
        "\n",
        "device = torch.device(\"cuda:0\" if torch.cuda.is_available() else \"cpu\")\n",
        "device_cpu = torch.device(\"cpu\")\n",
        "device_cpu = device\n",
        "print( device )\n",
        "\n",
        "mytype = torch.float16 # to save memory (only on GPU)\n",
        "mytype = torch.float32"
      ]
    },
    {
      "cell_type": "markdown",
      "metadata": {
        "id": "z-RgOZ6ESao4"
      },
      "source": [
        "### 0. Presentation of the rdkit library"
      ]
    },
    {
      "cell_type": "code",
      "execution_count": 4,
      "metadata": {
        "id": "MYUkXGrISao4",
        "colab": {
          "base_uri": "https://localhost:8080/"
        },
        "outputId": "7a9d4512-c0c4-4518-c619-2b2c152315da"
      },
      "outputs": [
        {
          "output_type": "stream",
          "name": "stdout",
          "text": [
            "Collecting rdkit\n",
            "  Downloading rdkit-2024.9.4-cp310-cp310-manylinux_2_28_x86_64.whl.metadata (4.0 kB)\n",
            "Requirement already satisfied: numpy in /usr/local/lib/python3.10/dist-packages (from rdkit) (1.26.4)\n",
            "Requirement already satisfied: Pillow in /usr/local/lib/python3.10/dist-packages (from rdkit) (11.1.0)\n",
            "Downloading rdkit-2024.9.4-cp310-cp310-manylinux_2_28_x86_64.whl (34.2 MB)\n",
            "\u001b[2K   \u001b[90m━━━━━━━━━━━━━━━━━━━━━━━━━━━━━━━━━━━━━━━━\u001b[0m \u001b[32m34.2/34.2 MB\u001b[0m \u001b[31m45.8 MB/s\u001b[0m eta \u001b[36m0:00:00\u001b[0m\n",
            "\u001b[?25hInstalling collected packages: rdkit\n",
            "Successfully installed rdkit-2024.9.4\n"
          ]
        }
      ],
      "source": [
        "!pip install rdkit"
      ]
    },
    {
      "cell_type": "markdown",
      "metadata": {
        "id": "V0-AyFEcSao4"
      },
      "source": [
        "**Question 1** Consult the following [link](https://www.rdkit.org/docs/GettingStartedInPython.html) and draw the aspirin molecule in the code box below."
      ]
    },
    {
      "cell_type": "code",
      "execution_count": 5,
      "metadata": {
        "id": "glLrym-YSao4",
        "colab": {
          "base_uri": "https://localhost:8080/",
          "height": 317
        },
        "outputId": "73958010-a2dd-498f-ac2d-af2566a05ede"
      },
      "outputs": [
        {
          "output_type": "execute_result",
          "data": {
            "text/plain": [
              "<PIL.PngImagePlugin.PngImageFile image mode=RGB size=300x300>"
            ],
            "image/png": "[encoded data removed]",
            "image/jpeg": "[encoded data removed]"
          },
          "metadata": {},
          "execution_count": 5
        }
      ],
      "source": [
        "# correction\n",
        "from rdkit import Chem\n",
        "asp =  Chem.MolFromSmiles('CC(=O)OC1=CC=CC=C1C(=O)O') #https://pubchem.ncbi.nlm.nih.gov/compound/Aspirin\n",
        "from rdkit.Chem import Draw\n",
        "Draw.MolToImage(asp)"
      ]
    },
    {
      "cell_type": "markdown",
      "metadata": {
        "id": "nD31PgWLSao5"
      },
      "source": [
        "### 1. Download the data from a GitHub repo."
      ]
    },
    {
      "cell_type": "markdown",
      "metadata": {
        "id": "ckfWwTf4Sao5"
      },
      "source": [
        "#### Download utils"
      ]
    },
    {
      "cell_type": "code",
      "execution_count": 6,
      "metadata": {
        "id": "zSdIPGUwSao5"
      },
      "outputs": [],
      "source": [
        "!wget -q https://github.com/Guichaoua/komet/raw/main/komet/komet.py"
      ]
    },
    {
      "cell_type": "code",
      "execution_count": 7,
      "metadata": {
        "id": "l5qcazaJSao5",
        "colab": {
          "base_uri": "https://localhost:8080/"
        },
        "outputId": "f5e12c1c-479f-42e4-fa5b-27d331dcd47c"
      },
      "outputs": [
        {
          "output_type": "stream",
          "name": "stdout",
          "text": [
            "cuda:0\n"
          ]
        }
      ],
      "source": [
        "import komet"
      ]
    },
    {
      "cell_type": "markdown",
      "metadata": {
        "id": "dxAKSLGfSao5"
      },
      "source": [
        "**Question 2** In the file icon on the left, download the komet.py file and observe its structure."
      ]
    },
    {
      "cell_type": "markdown",
      "metadata": {
        "id": "GnmZXH-HSao6"
      },
      "source": [
        "correction: Python file with the functions that are used in this notebook."
      ]
    },
    {
      "cell_type": "markdown",
      "metadata": {
        "id": "TITmlGtSSao6"
      },
      "source": [
        "#### Download train/val/test"
      ]
    },
    {
      "cell_type": "code",
      "execution_count": 8,
      "metadata": {
        "id": "-IBdyQctSao6"
      },
      "outputs": [],
      "source": [
        "!mkdir data/\n",
        "!wget -q https://github.com/Guichaoua/komet/raw/main/data/LCIdb/Orphan/dict_ind2fasta_LCIdb.data\n",
        "!mv dict_ind2fasta_LCIdb.data data/\n",
        "!wget -q https://github.com/Guichaoua/komet/raw/main/data/LCIdb/Orphan/dict_ind2fasta_LCIdb_K_prot.data\n",
        "!mv dict_ind2fasta_LCIdb_K_prot.data data/\n",
        "!wget -q https://github.com/Guichaoua/komet/raw/main/data/LCIdb/Orphan/test.csv\n",
        "!mv test.csv data/\n",
        "!wget -q https://github.com/Guichaoua/komet/raw/main/data/LCIdb/Orphan/train.csv.zip\n",
        "!mv train.csv.zip data/\n",
        "!wget -q https://github.com/Guichaoua/komet/raw/main/data/LCIdb/Orphan/val.csv\n",
        "!mv val.csv data/"
      ]
    },
    {
      "cell_type": "markdown",
      "metadata": {
        "id": "QCQ-1FkJSao6"
      },
      "source": [
        "**Question 3** Check that the files have been uploaded successfully in data file."
      ]
    },
    {
      "cell_type": "markdown",
      "metadata": {
        "id": "p-f_2GtDSao6"
      },
      "source": [
        "correction: data folder with 5 files."
      ]
    },
    {
      "cell_type": "code",
      "execution_count": 9,
      "metadata": {
        "id": "vrF-lw-HSao6",
        "colab": {
          "base_uri": "https://localhost:8080/"
        },
        "outputId": "f936c58c-09e9-4a6f-bac7-32cb220e0536"
      },
      "outputs": [
        {
          "output_type": "stream",
          "name": "stderr",
          "text": [
            "[12:44:34] Explicit valence for atom # 5 P, 7, is greater than permitted\n",
            "[12:44:34] Explicit valence for atom # 23 P, 7, is greater than permitted\n",
            "[12:44:35] Explicit valence for atom # 19 P, 7, is greater than permitted\n",
            "[12:44:36] Explicit valence for atom # 10 P, 7, is greater than permitted\n",
            "[12:44:36] Explicit valence for atom # 5 P, 7, is greater than permitted\n",
            "[12:44:36] Explicit valence for atom # 16 P, 7, is greater than permitted\n",
            "[12:44:36] Explicit valence for atom # 20 P, 7, is greater than permitted\n",
            "[12:44:38] Explicit valence for atom # 5 P, 7, is greater than permitted\n",
            "[12:44:38] Explicit valence for atom # 9 P, 7, is greater than permitted\n",
            "[12:44:38] Explicit valence for atom # 5 P, 7, is greater than permitted\n",
            "[12:44:38] Explicit valence for atom # 10 P, 7, is greater than permitted\n",
            "[12:44:40] Explicit valence for atom # 17 P, 7, is greater than permitted\n",
            "[12:44:40] Explicit valence for atom # 10 P, 7, is greater than permitted\n",
            "[12:44:41] Explicit valence for atom # 10 P, 7, is greater than permitted\n",
            "[12:44:50] Explicit valence for atom # 13 P, 7, is greater than permitted\n",
            "[12:44:50] Explicit valence for atom # 7 P, 7, is greater than permitted\n",
            "[12:44:52] Explicit valence for atom # 13 P, 7, is greater than permitted\n",
            "[12:44:52] Explicit valence for atom # 14 P, 7, is greater than permitted\n",
            "[12:44:53] Explicit valence for atom # 3 P, 7, is greater than permitted\n",
            "[12:44:54] Explicit valence for atom # 1 P, 7, is greater than permitted\n",
            "[12:44:54] Explicit valence for atom # 17 P, 7, is greater than permitted\n",
            "[12:44:55] Explicit valence for atom # 3 P, 7, is greater than permitted\n",
            "[12:44:56] Explicit valence for atom # 1 P, 7, is greater than permitted\n",
            "[12:45:01] Explicit valence for atom # 1 P, 7, is greater than permitted\n",
            "[12:45:01] Explicit valence for atom # 11 P, 7, is greater than permitted\n",
            "[12:45:01] Explicit valence for atom # 14 P, 7, is greater than permitted\n",
            "[12:45:01] Explicit valence for atom # 1 P, 7, is greater than permitted\n",
            "[12:45:02] Explicit valence for atom # 18 P, 7, is greater than permitted\n",
            "[12:45:02] Explicit valence for atom # 46 P, 7, is greater than permitted\n",
            "[12:45:02] Explicit valence for atom # 37 P, 7, is greater than permitted\n",
            "[12:45:02] Explicit valence for atom # 1 P, 7, is greater than permitted\n",
            "[12:45:03] Explicit valence for atom # 1 P, 7, is greater than permitted\n",
            "[12:45:03] Explicit valence for atom # 13 P, 7, is greater than permitted\n",
            "[12:45:03] Explicit valence for atom # 3 P, 7, is greater than permitted\n",
            "[12:45:03] Explicit valence for atom # 16 P, 7, is greater than permitted\n"
          ]
        },
        {
          "output_type": "stream",
          "name": "stdout",
          "text": [
            "number of smiles to clean: 35\n",
            "train.csv shape (236396, 3)\n"
          ]
        },
        {
          "output_type": "stream",
          "name": "stderr",
          "text": [
            "[12:45:04] Explicit valence for atom # 43 P, 7, is greater than permitted\n",
            "[12:45:07] Explicit valence for atom # 8 P, 7, is greater than permitted\n",
            "[12:45:08] Explicit valence for atom # 20 P, 7, is greater than permitted\n",
            "[12:45:09] Explicit valence for atom # 11 P, 7, is greater than permitted\n"
          ]
        },
        {
          "output_type": "stream",
          "name": "stdout",
          "text": [
            "number of smiles to clean: 4\n",
            "val.csv shape (21839, 3)\n"
          ]
        },
        {
          "output_type": "stream",
          "name": "stderr",
          "text": [
            "[12:45:14] Explicit valence for atom # 19 P, 7, is greater than permitted\n",
            "[12:45:17] Explicit valence for atom # 18 P, 7, is greater than permitted\n",
            "[12:45:17] Explicit valence for atom # 16 P, 7, is greater than permitted\n",
            "[12:45:17] Explicit valence for atom # 16 P, 7, is greater than permitted\n",
            "[12:45:17] Explicit valence for atom # 1 P, 7, is greater than permitted\n",
            "[12:45:17] Explicit valence for atom # 16 P, 7, is greater than permitted\n",
            "[12:45:17] Explicit valence for atom # 18 P, 7, is greater than permitted\n",
            "[12:45:17] Explicit valence for atom # 9 P, 7, is greater than permitted\n",
            "[12:45:19] Explicit valence for atom # 17 P, 7, is greater than permitted\n",
            "[12:45:20] Explicit valence for atom # 8 P, 7, is greater than permitted\n",
            "[12:45:20] Explicit valence for atom # 4 P, 7, is greater than permitted\n"
          ]
        },
        {
          "output_type": "stream",
          "name": "stdout",
          "text": [
            "number of smiles to clean: 11\n",
            "test.csv shape (44985, 3)\n",
            "full shape (303220, 3)\n"
          ]
        }
      ],
      "source": [
        "dataset_dir = \"data/\"\n",
        "\n",
        "# load data\n",
        "train = komet.load_df(\"train.csv.zip\",dataset_dir)\n",
        "val = komet.load_df(\"val.csv\",dataset_dir)\n",
        "test = komet.load_df(\"test.csv\",dataset_dir)\n",
        "\n",
        "# dataframe full has all smiles and fasta sequences\n",
        "full = pd.concat([train, val, test])\n",
        "print(\"full shape\",full.shape)"
      ]
    },
    {
      "cell_type": "markdown",
      "metadata": {
        "id": "1aBN8ViESao6"
      },
      "source": [
        "**Question 4**\n",
        "1. Go to the komet.py file to see what the `load_df` function does.\n",
        "2. What is the type of train? Show first lines. How many values ​​for the Label?"
      ]
    },
    {
      "cell_type": "markdown",
      "source": [
        "When the SMILES string is improperly encoded, the function `Chem.MolFromSmiles()` returns `None`. We remove the pairs that correspond to these molecules."
      ],
      "metadata": {
        "id": "5_DmH3bgtgX1"
      }
    },
    {
      "cell_type": "code",
      "execution_count": 10,
      "metadata": {
        "id": "0HtkyVX6Sao6",
        "colab": {
          "base_uri": "https://localhost:8080/",
          "height": 178
        },
        "outputId": "f729d166-73fa-4574-bdaf-64ca50677c69"
      },
      "outputs": [
        {
          "output_type": "execute_result",
          "data": {
            "text/plain": [
              "Label\n",
              "1    118198\n",
              "0    118198\n",
              "Name: count, dtype: int64"
            ],
            "text/html": [
              "<div>\n",
              "<style scoped>\n",
              "    .dataframe tbody tr th:only-of-type {\n",
              "        vertical-align: middle;\n",
              "    }\n",
              "\n",
              "    .dataframe tbody tr th {\n",
              "        vertical-align: top;\n",
              "    }\n",
              "\n",
              "    .dataframe thead th {\n",
              "        text-align: right;\n",
              "    }\n",
              "</style>\n",
              "<table border=\"1\" class=\"dataframe\">\n",
              "  <thead>\n",
              "    <tr style=\"text-align: right;\">\n",
              "      <th></th>\n",
              "      <th>count</th>\n",
              "    </tr>\n",
              "    <tr>\n",
              "      <th>Label</th>\n",
              "      <th></th>\n",
              "    </tr>\n",
              "  </thead>\n",
              "  <tbody>\n",
              "    <tr>\n",
              "      <th>1</th>\n",
              "      <td>118198</td>\n",
              "    </tr>\n",
              "    <tr>\n",
              "      <th>0</th>\n",
              "      <td>118198</td>\n",
              "    </tr>\n",
              "  </tbody>\n",
              "</table>\n",
              "</div><br><label><b>dtype:</b> int64</label>"
            ]
          },
          "metadata": {},
          "execution_count": 10
        }
      ],
      "source": [
        "# correction\n",
        "train.head() #pd.DataFrame\n",
        "train[\"Label\"].value_counts()"
      ]
    },
    {
      "cell_type": "markdown",
      "metadata": {
        "id": "poTnmTTjSao6"
      },
      "source": [
        "### 2. Calculation of molecule features using a subsample of train molecules (molecule kernel approximated via Nystrom approximation)\n"
      ]
    },
    {
      "cell_type": "code",
      "execution_count": 11,
      "metadata": {
        "id": "lNkyEraQSao6",
        "colab": {
          "base_uri": "https://localhost:8080/"
        },
        "outputId": "5bc6b34e-8a83-4134-8ef7-b9118b54b8db"
      },
      "outputs": [
        {
          "output_type": "stream",
          "name": "stdout",
          "text": [
            "number of different smiles (mol): 143206\n"
          ]
        }
      ],
      "source": [
        "#### MOLECULE####\n",
        "\n",
        "list_smiles = full[['SMILES']].drop_duplicates().values.flatten()\n",
        "nM = len(list_smiles)\n",
        "print(\"number of different smiles (mol):\",nM)\n",
        "\n",
        "# add indsmiles in train, val, test\n",
        "#dict_ind2smiles = {i:list_smiles[i] for i in range(nM)}\n",
        "dict_smiles2ind = {list_smiles[i]:i for i in range(nM)}\n",
        "train['indsmiles'] = train['SMILES'].apply(lambda x:dict_smiles2ind[x] )\n",
        "val['indsmiles'] = val['SMILES'].apply(lambda x: dict_smiles2ind[x])\n",
        "test['indsmiles'] = test['SMILES'].apply(lambda x: dict_smiles2ind[x])"
      ]
    },
    {
      "cell_type": "code",
      "execution_count": 12,
      "metadata": {
        "id": "oYc3VQF9Sao6"
      },
      "outputs": [],
      "source": [
        "# molecule kernel_first step : compute Morgan FP for each smiles of all the dataset\n",
        "MorganFP = komet.Morgan_FP(list_smiles)"
      ]
    },
    {
      "cell_type": "markdown",
      "metadata": {
        "id": "pwN1GHdwSao7"
      },
      "source": [
        "**Question 5**\n",
        "What are the dimensions of `MorganFP` ? Plot Morgan FP for the first molecule.\n",
        "\n",
        "For more [details on Morgan FP](https://chemicbook.com/2021/03/25/a-beginners-guide-for-understanding-extended-connectivity-fingerprints.html)."
      ]
    },
    {
      "cell_type": "code",
      "execution_count": 13,
      "metadata": {
        "id": "OHkZ7TRxSao8",
        "colab": {
          "base_uri": "https://localhost:8080/",
          "height": 467
        },
        "outputId": "eca2114e-7c65-4b9b-b4ee-03059ab79cd7"
      },
      "outputs": [
        {
          "output_type": "stream",
          "name": "stdout",
          "text": [
            "torch.Size([143206, 1024])\n"
          ]
        },
        {
          "output_type": "execute_result",
          "data": {
            "text/plain": [
              "<matplotlib.collections.PathCollection at 0x791527326fe0>"
            ]
          },
          "metadata": {},
          "execution_count": 13
        },
        {
          "output_type": "display_data",
          "data": {
            "text/plain": [
              "<Figure size 640x480 with 1 Axes>"
            ],
            "image/png": "[encoded data removed]"
          },
          "metadata": {}
        }
      ],
      "source": [
        "print(MorganFP.shape)\n",
        "plt.scatter(range(1024),MorganFP[0,:].cpu())"
      ]
    },
    {
      "cell_type": "code",
      "execution_count": 14,
      "metadata": {
        "id": "xGCdCUlOSao8",
        "colab": {
          "base_uri": "https://localhost:8080/"
        },
        "outputId": "cd85adae-6471-4dcc-9b52-9e95907c7451"
      },
      "outputs": [
        {
          "output_type": "stream",
          "name": "stdout",
          "text": [
            "mM 3000 dM 1000\n"
          ]
        }
      ],
      "source": [
        "# Choice of the parameters for the Nystrom approximation and the reduction dimension of the features\n",
        "mM = 3000 #all mol to compute the mol kernel for medium-scale database\n",
        "dM = 1000 #all dim for the mol features for medium-scale database\n",
        "\n",
        "# In case there are less molecules than the number of molecules to compute the Nystrom approximation\n",
        "mM = min(mM,nM) # number of molecule to compute nystrom\n",
        "dM = min(dM,nM) # final dimension of features for molecules\n",
        "print(\"mM\",mM,\"dM\",dM)"
      ]
    },
    {
      "cell_type": "code",
      "execution_count": 15,
      "metadata": {
        "id": "NP1ipteQSao8",
        "colab": {
          "base_uri": "https://localhost:8080/"
        },
        "outputId": "9e5480d9-59bf-4a83-fee5-632eede86395"
      },
      "outputs": [
        {
          "output_type": "stream",
          "name": "stdout",
          "text": [
            "mol kernel shape torch.Size([3000, 143206])\n",
            "mol features shape torch.Size([143206, 1000])\n"
          ]
        }
      ],
      "source": [
        "# compute the Nystrom approximation of the mol kernel and the features of the Kronecker kernel (features normalized and calculated on all mol contained in the dataset (train/val/test))\n",
        "X_cn = komet.Nystrom_X_cn(mM,dM,nM,MorganFP,n_max = max(train['indsmiles']))\n",
        "print(\"mol features shape\",X_cn.shape)"
      ]
    },
    {
      "cell_type": "markdown",
      "metadata": {
        "id": "crlyCOkYSao8"
      },
      "source": [
        "**Question 6**\n",
        "1. Understand the different steps of the function `Nystrom_X_cn`, in particular explain the formula for Tanimoto kernel.\n",
        "1. What are the dimensions of `X_cn` ? Plot features for the first molecule.\n"
      ]
    },
    {
      "cell_type": "code",
      "execution_count": 16,
      "metadata": {
        "id": "P0iPxC1ZSao8",
        "colab": {
          "base_uri": "https://localhost:8080/",
          "height": 467
        },
        "outputId": "844f64c9-744b-45ac-b06e-6727ee9ae2be"
      },
      "outputs": [
        {
          "output_type": "stream",
          "name": "stdout",
          "text": [
            "X_cn torch.Size([143206, 1000])\n"
          ]
        },
        {
          "output_type": "execute_result",
          "data": {
            "text/plain": [
              "<matplotlib.collections.PathCollection at 0x791527b6e6e0>"
            ]
          },
          "metadata": {},
          "execution_count": 16
        },
        {
          "output_type": "display_data",
          "data": {
            "text/plain": [
              "<Figure size 640x480 with 1 Axes>"
            ],
            "image/png": "[encoded data removed]"
          },
          "metadata": {}
        }
      ],
      "source": [
        "print(\"X_cn\",X_cn.shape)\n",
        "plt.scatter(range(1000),X_cn[0,:].cpu())"
      ]
    },
    {
      "cell_type": "markdown",
      "metadata": {
        "id": "j3S4lGo5n77C"
      },
      "source": [
        "### 3. Calculation of protein features"
      ]
    },
    {
      "cell_type": "code",
      "execution_count": 17,
      "metadata": {
        "id": "5W9DRIRdSao8",
        "colab": {
          "base_uri": "https://localhost:8080/"
        },
        "outputId": "84060644-7485-44f6-dd2f-fee21cc31bf6"
      },
      "outputs": [
        {
          "output_type": "stream",
          "name": "stdout",
          "text": [
            "number of different Fasta (protein): 2069\n"
          ]
        }
      ],
      "source": [
        "# Index of the protein in the dataset\n",
        "fasta = full[['Target Sequence']].drop_duplicates().values.flatten() # fasta sequence on the dataset, in the same order as the dataset\n",
        "print(\"number of different Fasta (protein):\",len(fasta))\n",
        "# add ind_fasta dans train, val et test\n",
        "train['indfasta'] = train['Target Sequence'].apply(lambda x: np.where(fasta==x)[0][0])\n",
        "val['indfasta'] = val['Target Sequence'].apply(lambda x: np.where(fasta==x)[0][0])\n",
        "test['indfasta'] = test['Target Sequence'].apply(lambda x:  np.where(fasta==x)[0][0])"
      ]
    },
    {
      "cell_type": "code",
      "execution_count": 18,
      "metadata": {
        "id": "lzx9OhMLSao8"
      },
      "outputs": [],
      "source": [
        "# Load Protein kernel and dictionary of index\n",
        "dict_ind2fasta_LCIdb = pickle.load(open(dataset_dir + \"dict_ind2fasta_LCIdb.data\", 'rb'))\n",
        "dict_fasta2ind_LCIdb = {fasta:ind for ind,fasta in dict_ind2fasta_LCIdb.items()}\n",
        "with open(dataset_dir + \"dict_ind2fasta_LCIdb_K_prot.data\", 'rb') as f:\n",
        "    KP_LCIdb = pickle.load(f)"
      ]
    },
    {
      "cell_type": "code",
      "execution_count": 19,
      "metadata": {
        "id": "Dfrw9cIESao8"
      },
      "outputs": [],
      "source": [
        "# Protein kernel for the dataset\n",
        "I_fasta = [int(dict_fasta2ind_LCIdb[fasta[i]]) for i in range(len(fasta))] # index of fasta in the precomputed dict and protein kernel, in the same order as the dataset\n",
        "KP = KP_LCIdb[I_fasta,:][:,I_fasta]\n",
        "KP = torch.tensor(KP, dtype=mytype).to(device)"
      ]
    },
    {
      "cell_type": "code",
      "execution_count": 20,
      "metadata": {
        "id": "gfMBpZl5Sao9"
      },
      "outputs": [],
      "source": [
        "# computation of feature for protein (no nystrom, just SVD)\n",
        "rP = KP.shape[0]#min(KP.shape[0],500)\n",
        "U, Lambda, VT = torch.svd(KP)\n",
        "Y = U[:,:rP] @ torch.diag(torch.sqrt(Lambda[:rP]))\n",
        "\n",
        "# nomramlisation of the features\n",
        "n_max = max(train['indfasta'])\n",
        "Y_c = Y - Y[:n_max,:].mean(axis = 0)\n",
        "Y_cn = Y_c / torch.norm(Y_c,dim = 1)[:,None]"
      ]
    },
    {
      "cell_type": "markdown",
      "metadata": {
        "id": "jPQzmJLhSao9"
      },
      "source": [
        "**Question 7**\n",
        "1. What are the dimensions of  `KP`? and `Y_cn`?\n",
        "2. Can we easily modify the dimensions of protein features ?"
      ]
    },
    {
      "cell_type": "code",
      "execution_count": 21,
      "metadata": {
        "id": "82DOl0pRSao9",
        "colab": {
          "base_uri": "https://localhost:8080/",
          "height": 467
        },
        "outputId": "0ae8772b-aee9-4b29-ca3b-403fd9f25c1f"
      },
      "outputs": [
        {
          "output_type": "stream",
          "name": "stdout",
          "text": [
            "torch.Size([2069, 2069]) torch.Size([2069, 2069])\n"
          ]
        },
        {
          "output_type": "execute_result",
          "data": {
            "text/plain": [
              "[<matplotlib.lines.Line2D at 0x79152779f790>]"
            ]
          },
          "metadata": {},
          "execution_count": 21
        },
        {
          "output_type": "display_data",
          "data": {
            "text/plain": [
              "<Figure size 640x480 with 1 Axes>"
            ],
            "image/png": "[encoded data removed]"
          },
          "metadata": {}
        }
      ],
      "source": [
        "print(KP.shape,Y_cn.shape)\n",
        "# we can change rP\n",
        "plt.plot(Lambda.cpu())"
      ]
    },
    {
      "cell_type": "markdown",
      "metadata": {
        "id": "Q3XpBFstnvcX"
      },
      "source": [
        "### Load interactions index for train and test"
      ]
    },
    {
      "cell_type": "code",
      "execution_count": 22,
      "metadata": {
        "id": "GqcXX6mkSao9",
        "colab": {
          "base_uri": "https://localhost:8080/"
        },
        "outputId": "5c58c221-5bfd-4c08-e2a3-746e245a2280"
      },
      "outputs": [
        {
          "output_type": "stream",
          "name": "stdout",
          "text": [
            "len(train) 236396\n"
          ]
        }
      ],
      "source": [
        "# Train\n",
        "I, J, y = komet.load_datas(train)\n",
        "n = len(I)\n",
        "print(\"len(train)\",n)"
      ]
    },
    {
      "cell_type": "markdown",
      "metadata": {
        "id": "hI8-YiiySao9"
      },
      "source": [
        "**Question 7**\n",
        "What are `I`, `J`, `y` ?"
      ]
    },
    {
      "cell_type": "code",
      "execution_count": 23,
      "metadata": {
        "id": "wxXEF3nhSao9",
        "colab": {
          "base_uri": "https://localhost:8080/"
        },
        "outputId": "d715ff39-4393-401f-e5e6-ac3bb71a66ea"
      },
      "outputs": [
        {
          "output_type": "execute_result",
          "data": {
            "text/plain": [
              "(torch.Size([236396]), torch.Size([236396]), torch.Size([236396]))"
            ]
          },
          "metadata": {},
          "execution_count": 23
        }
      ],
      "source": [
        "I.shape,J.shape,y.shape"
      ]
    },
    {
      "cell_type": "code",
      "source": [
        "I[:10],J[:10],y[:10]\n",
        "# I,J indices of the molecules and proteins in the dataset\n",
        "# y the labels"
      ],
      "metadata": {
        "colab": {
          "base_uri": "https://localhost:8080/"
        },
        "id": "PONw12nkvEY6",
        "outputId": "f71c0892-297e-4028-eb38-16fd3948aa89"
      },
      "execution_count": 24,
      "outputs": [
        {
          "output_type": "execute_result",
          "data": {
            "text/plain": [
              "(tensor([0, 0, 0, 0, 0, 0, 1, 1, 1, 1], device='cuda:0'),\n",
              " tensor([0, 1, 2, 3, 4, 5, 0, 6, 7, 8], device='cuda:0'),\n",
              " tensor([ 1., -1.,  1., -1.,  1., -1.,  1.,  1., -1., -1.], device='cuda:0',\n",
              "        dtype=torch.float64))"
            ]
          },
          "metadata": {},
          "execution_count": 24
        }
      ]
    },
    {
      "cell_type": "code",
      "execution_count": 25,
      "metadata": {
        "id": "Tci3f2gISao9",
        "colab": {
          "base_uri": "https://localhost:8080/"
        },
        "outputId": "a83f7643-fdfc-4e09-90bf-3cac300c2255"
      },
      "outputs": [
        {
          "output_type": "stream",
          "name": "stdout",
          "text": [
            "len(test) 44985\n"
          ]
        }
      ],
      "source": [
        "# Test\n",
        "I_test, J_test, y_test = komet.load_datas(test)\n",
        "n_test = len(I_test)\n",
        "print(\"len(test)\",n_test)"
      ]
    },
    {
      "cell_type": "code",
      "source": [
        "I_test[:10],J_test[:10],y_test[:10]"
      ],
      "metadata": {
        "colab": {
          "base_uri": "https://localhost:8080/"
        },
        "id": "Mxa3r0fTvKOh",
        "outputId": "318f2b6c-3bc7-401f-f1be-fb52be89ad25"
      },
      "execution_count": 26,
      "outputs": [
        {
          "output_type": "execute_result",
          "data": {
            "text/plain": [
              "(tensor([108143, 108143, 108144, 108144, 108145, 108146, 108146, 104746, 108147,\n",
              "         108147], device='cuda:0'),\n",
              " tensor([1898, 1528, 1898, 1528, 1898, 1898, 1654, 1898, 1898, 2058],\n",
              "        device='cuda:0'),\n",
              " tensor([ 1.,  1.,  1.,  1.,  1.,  1., -1.,  1.,  1.,  1.], device='cuda:0',\n",
              "        dtype=torch.float64))"
            ]
          },
          "metadata": {},
          "execution_count": 26
        }
      ]
    },
    {
      "cell_type": "markdown",
      "metadata": {
        "id": "D2LLQCb2Sao-"
      },
      "source": [
        "**Question 8**\n",
        "This dataset is named Orphan because none of the molecules present in a pair of the train, are present in the test, same for proteins. Can you check it ?"
      ]
    },
    {
      "cell_type": "code",
      "execution_count": 27,
      "metadata": {
        "id": "jyatVeGESao-",
        "colab": {
          "base_uri": "https://localhost:8080/"
        },
        "outputId": "28458ec0-7021-4f4f-edd6-96b2ec92557a"
      },
      "outputs": [
        {
          "output_type": "execute_result",
          "data": {
            "text/plain": [
              "((0,), (0,))"
            ]
          },
          "metadata": {},
          "execution_count": 27
        }
      ],
      "source": [
        "np.intersect1d(I_test.cpu(),I.cpu()).shape, np.intersect1d(J_test.cpu(),J.cpu()).shape"
      ]
    },
    {
      "cell_type": "markdown",
      "metadata": {
        "id": "2_cNcAY2Sao-"
      },
      "source": [
        "### Training/Testing with a choosen lambda"
      ]
    },
    {
      "cell_type": "code",
      "execution_count": 28,
      "metadata": {
        "id": "_osObT7WSao-",
        "colab": {
          "base_uri": "https://localhost:8080/"
        },
        "outputId": "303250e7-9fb6-4b45-c2ef-23521c8e28b7"
      },
      "outputs": [
        {
          "output_type": "stream",
          "name": "stdout",
          "text": [
            "L-BFGS time: 19.3570 seconds\n"
          ]
        }
      ],
      "source": [
        "#### TRAINING ####\n",
        "lamb = 1e-6\n",
        "# train the model\n",
        "w_bfgs,b_bfgs,history_lbfgs_SVM = komet.SVM_bfgs(X_cn,Y_cn,y,I,J,lamb,niter=70)\n",
        "# compute a probability using weights (Platt scaling)\n",
        "s,t,history_lbfgs_Platt = komet.compute_proba_Platt_Scalling(w_bfgs,X_cn,Y_cn,y,I,J,niter=30)"
      ]
    },
    {
      "cell_type": "markdown",
      "metadata": {
        "id": "I2qkejMfSao-"
      },
      "source": [
        "**Question 9**\n",
        "1. Explains the different steps of the function `SVM_bfgs`.\n",
        "2. Plot `history_lbfgs_SVM` and explain the graphic."
      ]
    },
    {
      "cell_type": "code",
      "execution_count": 29,
      "metadata": {
        "id": "fdGHurM6Sao-",
        "colab": {
          "base_uri": "https://localhost:8080/",
          "height": 448
        },
        "outputId": "ead8f0d6-f11d-4ce6-9fe9-5ebf99c05b12"
      },
      "outputs": [
        {
          "output_type": "execute_result",
          "data": {
            "text/plain": [
              "[<matplotlib.lines.Line2D at 0x7914e8830e80>]"
            ]
          },
          "metadata": {},
          "execution_count": 29
        },
        {
          "output_type": "display_data",
          "data": {
            "text/plain": [
              "<Figure size 640x480 with 1 Axes>"
            ],
            "image/png": "[encoded data removed]"
          },
          "metadata": {}
        }
      ],
      "source": [
        "plt.plot(history_lbfgs_SVM)"
      ]
    },
    {
      "cell_type": "code",
      "execution_count": 30,
      "metadata": {
        "id": "l3ENR8IPSao-",
        "colab": {
          "base_uri": "https://localhost:8080/"
        },
        "outputId": "ba383b4a-4bcd-42ab-de1c-f5008bc998df"
      },
      "outputs": [
        {
          "output_type": "stream",
          "name": "stdout",
          "text": [
            "roc AUC = 0.9995\n",
            "AUPR = 0.9990\n",
            "accuracy (threshold 0.5)= 0.9978\n",
            "best threshold = 0.4200\n",
            "accuracy (best threshold)= 0.9978\n",
            "false positive (best threshold)= 0.0031\n"
          ]
        }
      ],
      "source": [
        "#### TRAIN ####\n",
        "# we compute a probability using weights (Platt scaling)\n",
        "m_train,y_pred_train, proba_pred_train = komet.compute_proba(w_bfgs,b_bfgs,s,t,X_cn,Y_cn,I,J)\n",
        "# we compute the results\n",
        "acc1_train,au_Roc_train,au_PR_train,thred_optim_train,acc_best_train,cm_train,FP_train = komet.results(y.cpu(),y_pred_train.cpu(),proba_pred_train.cpu())\n",
        "print(f\"roc AUC = {au_Roc_train:.4f}\")\n",
        "print(f\"AUPR = {au_PR_train:.4f}\")\n",
        "print(f\"accuracy (threshold 0.5)= {acc1_train:.4f}\")\n",
        "print(f\"best threshold = {thred_optim_train:.4f}\")\n",
        "print(f\"accuracy (best threshold)= {acc_best_train:.4f}\")\n",
        "print(f\"false positive (best threshold)= {FP_train:.4f}\")"
      ]
    },
    {
      "cell_type": "code",
      "execution_count": 31,
      "metadata": {
        "id": "pxi7E00ESao-",
        "colab": {
          "base_uri": "https://localhost:8080/"
        },
        "outputId": "21f9b51d-155e-446a-db3b-00bd3be2597f"
      },
      "outputs": [
        {
          "output_type": "stream",
          "name": "stdout",
          "text": [
            "roc AUC = 0.8829\n",
            "AUPR = 0.8973\n",
            "accuracy (threshold 0.5)= 0.6832\n",
            "best threshold = 0.0011\n",
            "accuracy (best threshold)= 0.8133\n",
            "false positive (best threshold)= 0.1614\n"
          ]
        }
      ],
      "source": [
        "#### TEST ####\n",
        "# we compute a probability using weights (Platt scaling)\n",
        "m,y_pred, proba_pred = komet.compute_proba(w_bfgs,b_bfgs,s,t,X_cn,Y_cn,I_test,J_test)\n",
        "# we compute the results\n",
        "acc1,au_Roc,au_PR,thred_optim,acc_best,cm,FP = komet.results(y_test.cpu(),y_pred.cpu(),proba_pred.cpu())\n",
        "print(f\"roc AUC = {au_Roc:.4f}\")\n",
        "print(f\"AUPR = {au_PR:.4f}\")\n",
        "print(f\"accuracy (threshold 0.5)= {acc1:.4f}\")\n",
        "print(f\"best threshold = {thred_optim:.4f}\")\n",
        "print(f\"accuracy (best threshold)= {acc_best:.4f}\")\n",
        "print(f\"false positive (best threshold)= {FP:.4f}\")"
      ]
    },
    {
      "cell_type": "code",
      "execution_count": 32,
      "metadata": {
        "id": "vxUjH0AYSao-",
        "colab": {
          "base_uri": "https://localhost:8080/",
          "height": 452
        },
        "outputId": "abacf6b4-b43d-4dde-904d-fea5aecfcbb3"
      },
      "outputs": [
        {
          "output_type": "display_data",
          "data": {
            "text/plain": [
              "<Figure size 640x480 with 1 Axes>"
            ],
            "image/png": "[encoded data removed]"
          },
          "metadata": {}
        }
      ],
      "source": [
        "# plot distribution (density) of p when y_test=1\n",
        "plt.hist(proba_pred.cpu().numpy()[y_test.cpu().numpy()==1],bins=100,alpha=0.8,color='green',label='y_test=1');\n",
        "plt.hist(proba_pred.cpu().numpy()[y_test.cpu()==-1],bins=100,alpha=0.5,color='red',label='y_test=-1');\n",
        "plt.legend()\n",
        "plt.title('Distribution of predicted probability')\n",
        "plt.show()"
      ]
    },
    {
      "cell_type": "code",
      "execution_count": 33,
      "metadata": {
        "id": "GXMDOOPqSao-",
        "colab": {
          "base_uri": "https://localhost:8080/",
          "height": 449
        },
        "outputId": "d3ca27f8-ec8e-40dd-d614-dcc63f29b403"
      },
      "outputs": [
        {
          "output_type": "display_data",
          "data": {
            "text/plain": [
              "<Figure size 640x480 with 2 Axes>"
            ],
            "image/png": "[encoded data removed]"
          },
          "metadata": {}
        }
      ],
      "source": [
        "# plot confusion matrix\n",
        "from sklearn.metrics import ConfusionMatrixDisplay\n",
        "labels = [-1., 1.]\n",
        "disp = ConfusionMatrixDisplay(confusion_matrix=cm,\n",
        "                              display_labels=labels)\n",
        "disp.plot()\n",
        "plt.show()"
      ]
    },
    {
      "cell_type": "markdown",
      "metadata": {
        "id": "4WlxCPDrSao-"
      },
      "source": [
        "**Question 10**\n",
        "Comments the code and different results."
      ]
    },
    {
      "cell_type": "markdown",
      "source": [
        "The performances are very good on the train, with a risk of overfitting. The marked gap between the train and test scores confirms the difficulty of the model to generalize.\n",
        "The optimal threshold is very different between train and test, the distribution of probabilities is radically different on the test data. The model must lower its threshold to predict more positives which we see in the distribution plot.\n",
        "\n",
        "We remind you that this case of DTI prediction is very difficult because neither the molecules nor the proteins are the same in the train and the test. Research is active to find better models in these cases."
      ],
      "metadata": {
        "id": "SPGip9omyrK5"
      }
    },
    {
      "cell_type": "code",
      "execution_count": 34,
      "metadata": {
        "id": "OM_zSRGmSao-",
        "colab": {
          "base_uri": "https://localhost:8080/"
        },
        "outputId": "59326100-f5df-4005-84b4-73c59684ee9e"
      },
      "outputs": [
        {
          "output_type": "stream",
          "name": "stdout",
          "text": [
            "torch.Size([2069, 2069]) torch.Size([236396, 2069])\n"
          ]
        }
      ],
      "source": [
        "YJ = Y_cn[J, :]\n",
        "print(Y_cn.shape,YJ.shape)\n",
        "# in the komet code : torch.sum((Y_cn @ w)[J, :] * XI , axis=1) is faster than torch.sum(YJ @ w * XI , axis=1) considering the size of YJ"
      ]
    },
    {
      "cell_type": "code",
      "source": [
        "# Confusion matrix with thershold = 0.5:\n",
        "# few False positive (good when we have to do in vitro tests )\n",
        "#\n",
        "cm2 = confusion_matrix(y_test.cpu(), y_pred.cpu())\n",
        "# plot confusion matrix\n",
        "from sklearn.metrics import ConfusionMatrixDisplay\n",
        "labels = [-1., 1.]\n",
        "disp = ConfusionMatrixDisplay(confusion_matrix=cm2,\n",
        "                              display_labels=labels)\n",
        "disp.plot()\n",
        "plt.show()"
      ],
      "metadata": {
        "colab": {
          "base_uri": "https://localhost:8080/",
          "height": 449
        },
        "id": "mPHUsFURzrVg",
        "outputId": "246037ef-e027-45bf-bee0-b4a50ca0312a"
      },
      "execution_count": 35,
      "outputs": [
        {
          "output_type": "display_data",
          "data": {
            "text/plain": [
              "<Figure size 640x480 with 2 Axes>"
            ],
            "image/png": "[encoded data removed]"
          },
          "metadata": {}
        }
      ]
    },
    {
      "cell_type": "markdown",
      "metadata": {
        "id": "XcgUKCcsSao-"
      },
      "source": [
        "###\n",
        "**Question 11**\n",
        "1. Is the aspirin molecule in train/val/test ?\n",
        "2. Train the model with the full dataset.\n",
        "3. Predict for the aspirin molecule, protein(s) which bind with.\n",
        "4. Compare with Targets of the [Drugbank database](https://go.drugbank.com/drugs/)."
      ]
    },
    {
      "cell_type": "code",
      "execution_count": 36,
      "metadata": {
        "id": "zxuRMH4cSao-",
        "colab": {
          "base_uri": "https://localhost:8080/"
        },
        "outputId": "70ecb523-de2a-4c10-a360-4deea1b46baf"
      },
      "outputs": [
        {
          "output_type": "execute_result",
          "data": {
            "text/plain": [
              "False"
            ]
          },
          "metadata": {},
          "execution_count": 36
        }
      ],
      "source": [
        "#1. Is the aspirin molecule in train/val/test\n",
        "\n",
        "asp_smiles = 'CC(=O)OC1=CC=CC=C1C(=O)O'\n",
        "asp_smiles in dict_smiles2ind"
      ]
    },
    {
      "cell_type": "code",
      "source": [
        "# similarity with molecules in full dataset\n",
        "sim = (MorganFP[:-1] @ MorganFP[-1].T ) / ( 1024 - (1-MorganFP[:-1]) @ (1-MorganFP[-1].T))\n",
        "print(torch.max(sim),torch.argmax(sim))\n",
        "# Aspirin is not in the dataset and is even quite far from the molecules that are there. It is not a trivial example."
      ],
      "metadata": {
        "colab": {
          "base_uri": "https://localhost:8080/"
        },
        "id": "oEHmrNnD0oW1",
        "outputId": "0e5cc40a-92a4-444d-f438-cf0f05ea92f9"
      },
      "execution_count": 37,
      "outputs": [
        {
          "output_type": "stream",
          "name": "stdout",
          "text": [
            "tensor(0.6452, device='cuda:0') tensor(12388, device='cuda:0')\n"
          ]
        },
        {
          "output_type": "stream",
          "name": "stderr",
          "text": [
            "<ipython-input-37-34665d21836f>:2: UserWarning: The use of `x.T` on tensors of dimension other than 2 to reverse their shape is deprecated and it will throw an error in a future release. Consider `x.mT` to transpose batches of matrices or `x.permute(*torch.arange(x.ndim - 1, -1, -1))` to reverse the dimensions of a tensor. (Triggered internally at ../aten/src/ATen/native/TensorShape.cpp:3683.)\n",
            "  sim = (MorganFP[:-1] @ MorganFP[-1].T ) / ( 1024 - (1-MorganFP[:-1]) @ (1-MorganFP[-1].T))\n"
          ]
        }
      ]
    },
    {
      "cell_type": "code",
      "source": [
        "plt.hist(sim.cpu(),bins=50);"
      ],
      "metadata": {
        "colab": {
          "base_uri": "https://localhost:8080/",
          "height": 430
        },
        "id": "zjAtgjXp00kG",
        "outputId": "579c82c1-a053-4254-d979-0e7eb4fdcb78"
      },
      "execution_count": 38,
      "outputs": [
        {
          "output_type": "display_data",
          "data": {
            "text/plain": [
              "<Figure size 640x480 with 1 Axes>"
            ],
            "image/png": "[encoded data removed]"
          },
          "metadata": {}
        }
      ]
    },
    {
      "cell_type": "code",
      "source": [
        "#2. Prediction of the aspirin molecule\n",
        "\n",
        "# compute the feature of the aspirin molecule\n",
        "asp_fp = komet.Morgan_FP([asp_smiles])\n",
        "MorganFP = torch.concat((MorganFP,asp_fp))\n",
        "X_cn = komet.Nystrom_X_cn(mM,dM,nM+1,MorganFP, n_max = nM)"
      ],
      "metadata": {
        "colab": {
          "base_uri": "https://localhost:8080/"
        },
        "id": "e0dxo2Yn05QT",
        "outputId": "cafe71f1-c31f-4849-9f84-1c4a46ed94c7"
      },
      "execution_count": 39,
      "outputs": [
        {
          "output_type": "stream",
          "name": "stdout",
          "text": [
            "mol kernel shape torch.Size([3000, 143207])\n"
          ]
        }
      ]
    },
    {
      "cell_type": "code",
      "source": [
        "# train the model on the full dataset\n",
        "\n",
        "I_train, J_train, y_train = komet.load_datas(train)\n",
        "n_train = len(I_train)\n",
        "I_val, J_val, y_val = komet.load_datas(val)\n",
        "n_val = len(I_val)\n",
        "I_test, J_test, y_test = komet.load_datas(test)\n",
        "n_test = len(I_test)\n",
        "I_full = torch.concat((I_train,I_val,I_test))\n",
        "J_full = torch.concat((J_train,J_val,J_test))\n",
        "y_full = torch.concat((y_train,y_val,y_test))"
      ],
      "metadata": {
        "id": "j0kbOPUa075Q"
      },
      "execution_count": 40,
      "outputs": []
    },
    {
      "cell_type": "code",
      "source": [
        "# training\n",
        "lamb = 1e-6\n",
        "w_bfgs,b_bfgs,history_lbfgs_SVM = komet.SVM_bfgs(X_cn,Y_cn,y_full,I_full,J_full,lamb,niter=50)\n",
        "# compute a probability using weights (Platt scaling)\n",
        "s,t,history_lbfgs_Platt = komet.compute_proba_Platt_Scalling(w_bfgs,X_cn,Y_cn,y_full,I_full,J_full,niter=20)"
      ],
      "metadata": {
        "colab": {
          "base_uri": "https://localhost:8080/"
        },
        "id": "KM1coHlr09fj",
        "outputId": "736815a4-5d54-467c-d745-c6f4cab99044"
      },
      "execution_count": 41,
      "outputs": [
        {
          "output_type": "stream",
          "name": "stdout",
          "text": [
            "L-BFGS time: 15.4312 seconds\n"
          ]
        }
      ]
    },
    {
      "cell_type": "code",
      "source": [
        "# compute the probability of the aspirin molecule on protein of the protein dataset (in train and test)\n",
        "ind_asp = X_cn.shape[0] - 1\n",
        "m_asp,y_pred_asp, proba_pred_asp = komet.compute_proba(w_bfgs,b_bfgs,s,t,X_cn,Y_cn,[ind_asp],range(Y_cn.shape[0]))\n",
        "plt.hist(proba_pred_asp.cpu(), bins=100);"
      ],
      "metadata": {
        "colab": {
          "base_uri": "https://localhost:8080/",
          "height": 430
        },
        "id": "WLllF8yr0_RR",
        "outputId": "2ee8fff9-a94a-4034-f591-ec6e33132423"
      },
      "execution_count": 42,
      "outputs": [
        {
          "output_type": "display_data",
          "data": {
            "text/plain": [
              "<Figure size 640x480 with 1 Axes>"
            ],
            "image/png": "[encoded data removed]"
          },
          "metadata": {}
        }
      ]
    },
    {
      "cell_type": "code",
      "source": [
        "pd_result = pd.DataFrame({'fasta':dict_ind2fasta_LCIdb.values() ,'proba':proba_pred_asp.cpu(), 'y_pred_asp':y_pred_asp.cpu()})\n",
        "pd_result = pd_result.sort_values(by='proba',ascending=False)\n",
        "pd_result.head()"
      ],
      "metadata": {
        "colab": {
          "base_uri": "https://localhost:8080/",
          "height": 206
        },
        "id": "Ycgl1Lz41A7E",
        "outputId": "37e6355c-9ed0-4637-dc7d-90fda0c7a4e1"
      },
      "execution_count": 43,
      "outputs": [
        {
          "output_type": "execute_result",
          "data": {
            "text/plain": [
              "                                                 fasta     proba  y_pred_asp\n",
              "240  MPGMVLFGRRWAIASDDLVFPGFFELVVRVLWWIGILTLYLMHRGK...  0.999801         1.0\n",
              "2    MAPPSEETPLIPQRSCSLLSTEAGALHVLLPARGPGPPQRLSFSFG...  0.999560         1.0\n",
              "442  MWELVALLLLTLAYLFWPKRRCPGAKYPKSLLSLPLVGSLPFLPRH...  0.999322         1.0\n",
              "6    MLLSKINSLAHLRAAPCNDLHATKLAPGKEKEPLESQYQVGPLLGS...  0.997636         1.0\n",
              "35   MHSKVTIICIRFLFWFLLLCMLIGKSHTEDDIIIATKNGKVRGMNL...  0.996996         1.0"
            ],
            "text/html": [
              "\n",
              "  <div id=\"df-22415364-7798-4aad-9c35-91854679867f\" class=\"colab-df-container\">\n",
              "    <div>\n",
              "<style scoped>\n",
              "    .dataframe tbody tr th:only-of-type {\n",
              "        vertical-align: middle;\n",
              "    }\n",
              "\n",
              "    .dataframe tbody tr th {\n",
              "        vertical-align: top;\n",
              "    }\n",
              "\n",
              "    .dataframe thead th {\n",
              "        text-align: right;\n",
              "    }\n",
              "</style>\n",
              "<table border=\"1\" class=\"dataframe\">\n",
              "  <thead>\n",
              "    <tr style=\"text-align: right;\">\n",
              "      <th></th>\n",
              "      <th>fasta</th>\n",
              "      <th>proba</th>\n",
              "      <th>y_pred_asp</th>\n",
              "    </tr>\n",
              "  </thead>\n",
              "  <tbody>\n",
              "    <tr>\n",
              "      <th>240</th>\n",
              "      <td>MPGMVLFGRRWAIASDDLVFPGFFELVVRVLWWIGILTLYLMHRGK...</td>\n",
              "      <td>0.999801</td>\n",
              "      <td>1.0</td>\n",
              "    </tr>\n",
              "    <tr>\n",
              "      <th>2</th>\n",
              "      <td>MAPPSEETPLIPQRSCSLLSTEAGALHVLLPARGPGPPQRLSFSFG...</td>\n",
              "      <td>0.999560</td>\n",
              "      <td>1.0</td>\n",
              "    </tr>\n",
              "    <tr>\n",
              "      <th>442</th>\n",
              "      <td>MWELVALLLLTLAYLFWPKRRCPGAKYPKSLLSLPLVGSLPFLPRH...</td>\n",
              "      <td>0.999322</td>\n",
              "      <td>1.0</td>\n",
              "    </tr>\n",
              "    <tr>\n",
              "      <th>6</th>\n",
              "      <td>MLLSKINSLAHLRAAPCNDLHATKLAPGKEKEPLESQYQVGPLLGS...</td>\n",
              "      <td>0.997636</td>\n",
              "      <td>1.0</td>\n",
              "    </tr>\n",
              "    <tr>\n",
              "      <th>35</th>\n",
              "      <td>MHSKVTIICIRFLFWFLLLCMLIGKSHTEDDIIIATKNGKVRGMNL...</td>\n",
              "      <td>0.996996</td>\n",
              "      <td>1.0</td>\n",
              "    </tr>\n",
              "  </tbody>\n",
              "</table>\n",
              "</div>\n",
              "    <div class=\"colab-df-buttons\">\n",
              "\n",
              "  <div class=\"colab-df-container\">\n",
              "    <button class=\"colab-df-convert\" onclick=\"convertToInteractive('df-22415364-7798-4aad-9c35-91854679867f')\"\n",
              "            title=\"Convert this dataframe to an interactive table.\"\n",
              "            style=\"display:none;\">\n",
              "\n",
              "  <svg xmlns=\"http://www.w3.org/2000/svg\" height=\"24px\" viewBox=\"0 -960 960 960\">\n",
              "    <path d=\"M120-120v-720h720v720H120Zm60-500h600v-160H180v160Zm220 220h160v-160H400v160Zm0 220h160v-160H400v160ZM180-400h160v-160H180v160Zm440 0h160v-160H620v160ZM180-180h160v-160H180v160Zm440 0h160v-160H620v160Z\"/>\n",
              "  </svg>\n",
              "    </button>\n",
              "\n",
              "  <style>\n",
              "    .colab-df-container {\n",
              "      display:flex;\n",
              "      gap: 12px;\n",
              "    }\n",
              "\n",
              "    .colab-df-convert {\n",
              "      background-color: #E8F0FE;\n",
              "      border: none;\n",
              "      border-radius: 50%;\n",
              "      cursor: pointer;\n",
              "      display: none;\n",
              "      fill: #1967D2;\n",
              "      height: 32px;\n",
              "      padding: 0 0 0 0;\n",
              "      width: 32px;\n",
              "    }\n",
              "\n",
              "    .colab-df-convert:hover {\n",
              "      background-color: #E2EBFA;\n",
              "      box-shadow: 0px 1px 2px rgba(60, 64, 67, 0.3), 0px 1px 3px 1px rgba(60, 64, 67, 0.15);\n",
              "      fill: #174EA6;\n",
              "    }\n",
              "\n",
              "    .colab-df-buttons div {\n",
              "      margin-bottom: 4px;\n",
              "    }\n",
              "\n",
              "    [theme=dark] .colab-df-convert {\n",
              "      background-color: #3B4455;\n",
              "      fill: #D2E3FC;\n",
              "    }\n",
              "\n",
              "    [theme=dark] .colab-df-convert:hover {\n",
              "      background-color: #434B5C;\n",
              "      box-shadow: 0px 1px 3px 1px rgba(0, 0, 0, 0.15);\n",
              "      filter: drop-shadow(0px 1px 2px rgba(0, 0, 0, 0.3));\n",
              "      fill: #FFFFFF;\n",
              "    }\n",
              "  </style>\n",
              "\n",
              "    <script>\n",
              "      const buttonEl =\n",
              "        document.querySelector('#df-22415364-7798-4aad-9c35-91854679867f button.colab-df-convert');\n",
              "      buttonEl.style.display =\n",
              "        google.colab.kernel.accessAllowed ? 'block' : 'none';\n",
              "\n",
              "      async function convertToInteractive(key) {\n",
              "        const element = document.querySelector('#df-22415364-7798-4aad-9c35-91854679867f');\n",
              "        const dataTable =\n",
              "          await google.colab.kernel.invokeFunction('convertToInteractive',\n",
              "                                                    [key], {});\n",
              "        if (!dataTable) return;\n",
              "\n",
              "        const docLinkHtml = 'Like what you see? Visit the ' +\n",
              "          '<a target=\"_blank\" href=https://colab.research.google.com/notebooks/data_table.ipynb>data table notebook</a>'\n",
              "          + ' to learn more about interactive tables.';\n",
              "        element.innerHTML = '';\n",
              "        dataTable['output_type'] = 'display_data';\n",
              "        await google.colab.output.renderOutput(dataTable, element);\n",
              "        const docLink = document.createElement('div');\n",
              "        docLink.innerHTML = docLinkHtml;\n",
              "        element.appendChild(docLink);\n",
              "      }\n",
              "    </script>\n",
              "  </div>\n",
              "\n",
              "\n",
              "<div id=\"df-a710d409-5cca-49a6-a6e9-5d720b023750\">\n",
              "  <button class=\"colab-df-quickchart\" onclick=\"quickchart('df-a710d409-5cca-49a6-a6e9-5d720b023750')\"\n",
              "            title=\"Suggest charts\"\n",
              "            style=\"display:none;\">\n",
              "\n",
              "<svg xmlns=\"http://www.w3.org/2000/svg\" height=\"24px\"viewBox=\"0 0 24 24\"\n",
              "     width=\"24px\">\n",
              "    <g>\n",
              "        <path d=\"M19 3H5c-1.1 0-2 .9-2 2v14c0 1.1.9 2 2 2h14c1.1 0 2-.9 2-2V5c0-1.1-.9-2-2-2zM9 17H7v-7h2v7zm4 0h-2V7h2v10zm4 0h-2v-4h2v4z\"/>\n",
              "    </g>\n",
              "</svg>\n",
              "  </button>\n",
              "\n",
              "<style>\n",
              "  .colab-df-quickchart {\n",
              "      --bg-color: #E8F0FE;\n",
              "      --fill-color: #1967D2;\n",
              "      --hover-bg-color: #E2EBFA;\n",
              "      --hover-fill-color: #174EA6;\n",
              "      --disabled-fill-color: #AAA;\n",
              "      --disabled-bg-color: #DDD;\n",
              "  }\n",
              "\n",
              "  [theme=dark] .colab-df-quickchart {\n",
              "      --bg-color: #3B4455;\n",
              "      --fill-color: #D2E3FC;\n",
              "      --hover-bg-color: #434B5C;\n",
              "      --hover-fill-color: #FFFFFF;\n",
              "      --disabled-bg-color: #3B4455;\n",
              "      --disabled-fill-color: #666;\n",
              "  }\n",
              "\n",
              "  .colab-df-quickchart {\n",
              "    background-color: var(--bg-color);\n",
              "    border: none;\n",
              "    border-radius: 50%;\n",
              "    cursor: pointer;\n",
              "    display: none;\n",
              "    fill: var(--fill-color);\n",
              "    height: 32px;\n",
              "    padding: 0;\n",
              "    width: 32px;\n",
              "  }\n",
              "\n",
              "  .colab-df-quickchart:hover {\n",
              "    background-color: var(--hover-bg-color);\n",
              "    box-shadow: 0 1px 2px rgba(60, 64, 67, 0.3), 0 1px 3px 1px rgba(60, 64, 67, 0.15);\n",
              "    fill: var(--button-hover-fill-color);\n",
              "  }\n",
              "\n",
              "  .colab-df-quickchart-complete:disabled,\n",
              "  .colab-df-quickchart-complete:disabled:hover {\n",
              "    background-color: var(--disabled-bg-color);\n",
              "    fill: var(--disabled-fill-color);\n",
              "    box-shadow: none;\n",
              "  }\n",
              "\n",
              "  .colab-df-spinner {\n",
              "    border: 2px solid var(--fill-color);\n",
              "    border-color: transparent;\n",
              "    border-bottom-color: var(--fill-color);\n",
              "    animation:\n",
              "      spin 1s steps(1) infinite;\n",
              "  }\n",
              "\n",
              "  @keyframes spin {\n",
              "    0% {\n",
              "      border-color: transparent;\n",
              "      border-bottom-color: var(--fill-color);\n",
              "      border-left-color: var(--fill-color);\n",
              "    }\n",
              "    20% {\n",
              "      border-color: transparent;\n",
              "      border-left-color: var(--fill-color);\n",
              "      border-top-color: var(--fill-color);\n",
              "    }\n",
              "    30% {\n",
              "      border-color: transparent;\n",
              "      border-left-color: var(--fill-color);\n",
              "      border-top-color: var(--fill-color);\n",
              "      border-right-color: var(--fill-color);\n",
              "    }\n",
              "    40% {\n",
              "      border-color: transparent;\n",
              "      border-right-color: var(--fill-color);\n",
              "      border-top-color: var(--fill-color);\n",
              "    }\n",
              "    60% {\n",
              "      border-color: transparent;\n",
              "      border-right-color: var(--fill-color);\n",
              "    }\n",
              "    80% {\n",
              "      border-color: transparent;\n",
              "      border-right-color: var(--fill-color);\n",
              "      border-bottom-color: var(--fill-color);\n",
              "    }\n",
              "    90% {\n",
              "      border-color: transparent;\n",
              "      border-bottom-color: var(--fill-color);\n",
              "    }\n",
              "  }\n",
              "</style>\n",
              "\n",
              "  <script>\n",
              "    async function quickchart(key) {\n",
              "      const quickchartButtonEl =\n",
              "        document.querySelector('#' + key + ' button');\n",
              "      quickchartButtonEl.disabled = true;  // To prevent multiple clicks.\n",
              "      quickchartButtonEl.classList.add('colab-df-spinner');\n",
              "      try {\n",
              "        const charts = await google.colab.kernel.invokeFunction(\n",
              "            'suggestCharts', [key], {});\n",
              "      } catch (error) {\n",
              "        console.error('Error during call to suggestCharts:', error);\n",
              "      }\n",
              "      quickchartButtonEl.classList.remove('colab-df-spinner');\n",
              "      quickchartButtonEl.classList.add('colab-df-quickchart-complete');\n",
              "    }\n",
              "    (() => {\n",
              "      let quickchartButtonEl =\n",
              "        document.querySelector('#df-a710d409-5cca-49a6-a6e9-5d720b023750 button');\n",
              "      quickchartButtonEl.style.display =\n",
              "        google.colab.kernel.accessAllowed ? 'block' : 'none';\n",
              "    })();\n",
              "  </script>\n",
              "</div>\n",
              "\n",
              "    </div>\n",
              "  </div>\n"
            ],
            "application/vnd.google.colaboratory.intrinsic+json": {
              "type": "dataframe",
              "variable_name": "pd_result",
              "summary": "{\n  \"name\": \"pd_result\",\n  \"rows\": 2069,\n  \"fields\": [\n    {\n      \"column\": \"fasta\",\n      \"properties\": {\n        \"dtype\": \"string\",\n        \"num_unique_values\": 2069,\n        \"samples\": [\n          \"MAEGERQPPPDSSEEAPPATQNFIIPKKEIHTVPDMGKWKRSQAYADYIGFILTLNEGVKGKKLTFEYRVSEMWNEVHEEKEQAAKQSVSCDECIPLPRAGHCAPSEAIEKLVALLNTLDRWIDETPPVDQPSRFGNKAYRTWYAKLDEEAENLVATVVPTHLAAAVPEVAVYLKESVGNSTRIDYGTGHEAAFAAFLCCLCKIGVLRVDDQIAIVFKVFNRYLEVMRKLQKTYRMEPAGSQGVWGLDDFQFLPFIWGSSQLIDHPYLEPRHFVDEKAVNENHKDYMFLECILFITEMKTGPFAEHSNQLWNISAVPSWSKVNQGLIRMYKAECLEKFPVIQHFKFGSLLPIHPVTSG\",\n          \"MDSLASLVLCGVSLLLSGTVEGAMDLILINSLPLVSDAETSLTCIASGWRPHEPITIGRDFEALMNQHQDPLEVTQDVTREWAKKVVWKREKASKINGAYFCEGRVRGEAIRIRTMKMRQQASFLPATLTMTVDKGDNVNISFKKVLIKEEDAVIYKNGSFIHSVPRHEVPDILEVHLPHAQPQDAGVYSARYIGGNLFTSAFTRLIVRRCEAQKWGPECNHLCTACMNNGVCHEDTGECICPPGFMGRTCEKACELHTFGRTCKERCSGQEGCKSYVFCLPDPYGCSCATGWKGLQCNEACHPGFYGPDCKLRCSCNNGEMCDRFQGCLCSPGWQGLQCEREGIQRMTPKIVDLPDHIEVNSGKFNPICKASGWPLPTNEEMTLVKPDGTVLHPKDFNHTDHFSVAIFTIHRILPPDSGVWVCSVNTVAGMVEKPFNISVKVLPKPLNAPNVIDTGHNFAVINISSEPYFGDGPIKSKKLLYKPVNHYEAWQHIQVTNEIVTLNYLEPRTEYELCVQLVRRGEGGEGHPGPVRRFTTASIGLPPPRGLNLLPKSQTTLNLTWQPIFPSSEDDFYVEVERRSVQKSDQQNIKVPGNLTSVLLNNLHPREQYVVRARVNTKAQGEWSEDLTAWTLSDILPPQPENIKISNITHSSAVISWTILDGYSISSITIRYKVQGKNEDQHVDVKIKNATITQYQLKGLEPETAYQVDIFAENNIGSSNPAFSHELVTLPESQAPADLGGGKMLLIAILGSAGMTCLTVLLAFLIILQLKRANVQRRMAQAFQNVREEPAVQFNSGTLALNRKVKNNPDPTIYPVLDWNDIKFQDVIGEGNFGQVLKARIKKDGLRMDAAIKRMKEYASKDDHRDFAGELEVLCKLGHHPNIINLLGACEHRGYLYLAIEYAPHGNLLDFLRKSRVLETDPAFAIANSTASTLSSQQLLHFAADVARGMDYLSQKQFIHRDLAARNILVGENYVAKIADFGLSRGQEVYVKKTMGRLPVRWMAIESLNYSVYTTNSDVWSYGVLLWEIVSLGGTPYCGMTCAELYEKLPQGYRLEKPLNCDDEVYDLMRQCWREKPYERPSFAQILVSLNRMLEERKTYVNTTLYEKFTYAGIDCSAEEAA\",\n          \"MAQRMTTQLLLLLVWVAVVGEAQTRIAWARTELLNVCMNAKHHKEKPGPEDKLHEQCRPWRKNACCSTNTSQEAHKDVSYLYRFNWNHCGEMAPACKRHFIQDTCLYECSPNLGPWIQQVDQSWRKERVLNVPLCKEDCEQWWEDCRTSYTCKSNWHKGWNWTSGFNKCAVGAACQPFHFYFPTPTVLCNEIWTHSYKVSNYSRGSGRCIQMWFDPAQGNPNEEVARFYAAAMSGAGPWAAWPFLLSLALMLLWLLS\"\n        ],\n        \"semantic_type\": \"\",\n        \"description\": \"\"\n      }\n    },\n    {\n      \"column\": \"proba\",\n      \"properties\": {\n        \"dtype\": \"float32\",\n        \"num_unique_values\": 2069,\n        \"samples\": [\n          7.36904013365347e-08,\n          0.6104720830917358,\n          8.017886284505948e-05\n        ],\n        \"semantic_type\": \"\",\n        \"description\": \"\"\n      }\n    },\n    {\n      \"column\": \"y_pred_asp\",\n      \"properties\": {\n        \"dtype\": \"float32\",\n        \"num_unique_values\": 2,\n        \"samples\": [\n          -1.0,\n          1.0\n        ],\n        \"semantic_type\": \"\",\n        \"description\": \"\"\n      }\n    }\n  ]\n}"
            }
          },
          "metadata": {},
          "execution_count": 43
        }
      ]
    },
    {
      "cell_type": "code",
      "source": [
        "!wget -q https://github.com/Guichaoua/komet/raw/main/data/prot_uniprot_fasta_all.csv\n",
        "!mv prot_uniprot_fasta_all.csv data/"
      ],
      "metadata": {
        "id": "dUsBvLG11Com"
      },
      "execution_count": 44,
      "outputs": []
    },
    {
      "cell_type": "code",
      "source": [
        "pd_fasta = pd.read_csv('data/prot_uniprot_fasta_all.csv')\n",
        "pd_fasta.head()"
      ],
      "metadata": {
        "colab": {
          "base_uri": "https://localhost:8080/",
          "height": 330
        },
        "id": "vzhz3GjY1E28",
        "outputId": "6b20839f-ef41-45a2-a5e4-273c2c460a34"
      },
      "execution_count": 45,
      "outputs": [
        {
          "output_type": "execute_result",
          "data": {
            "text/plain": [
              "  Target       Match type Approved symbol                     Approved name  \\\n",
              "0    a2m  Approved symbol             A2M             alpha-2-macroglobulin   \n",
              "1  aadac  Approved symbol           AADAC         arylacetamide deacetylase   \n",
              "2  aadat  Approved symbol           AADAT     aminoadipate aminotransferase   \n",
              "3   aak1  Approved symbol            AAK1           AP2 associated kinase 1   \n",
              "4  aanat  Approved symbol           AANAT  aralkylamine N-acetyltransferase   \n",
              "\n",
              "      HGNC ID uniprot                                              fasta  \n",
              "0      HGNC:7  P01023  MGKNKLLHPSLVLLLLVLLPTDASVSGKPQYMVLVPSLLHTETTEK...  \n",
              "1     HGNC:17  P22760  MGRKSLYLLIVGILIAYYIYTPLPDNVEEPWRMMWINAHLKTIQNL...  \n",
              "2  HGNC:17929  Q8N5Z0  MNYARFITAASAARNPSPIRTMTDILSRGPKSMISLAGGLPNPNMF...  \n",
              "3  HGNC:19679  Q2M2I8  MKKFFDSRREQGGSGLGSGSSGGGGSTSGLGSGYIGRVFGIGRQQV...  \n",
              "4     HGNC:19  Q16613  MSTQSTHPLKPEAPRLPPGIPESPSCQRRHTLPASEFRCLTPEDAV...  "
            ],
            "text/html": [
              "\n",
              "  <div id=\"df-b4e4a8d6-c0fe-423c-8cc4-9a3dc33c37f5\" class=\"colab-df-container\">\n",
              "    <div>\n",
              "<style scoped>\n",
              "    .dataframe tbody tr th:only-of-type {\n",
              "        vertical-align: middle;\n",
              "    }\n",
              "\n",
              "    .dataframe tbody tr th {\n",
              "        vertical-align: top;\n",
              "    }\n",
              "\n",
              "    .dataframe thead th {\n",
              "        text-align: right;\n",
              "    }\n",
              "</style>\n",
              "<table border=\"1\" class=\"dataframe\">\n",
              "  <thead>\n",
              "    <tr style=\"text-align: right;\">\n",
              "      <th></th>\n",
              "      <th>Target</th>\n",
              "      <th>Match type</th>\n",
              "      <th>Approved symbol</th>\n",
              "      <th>Approved name</th>\n",
              "      <th>HGNC ID</th>\n",
              "      <th>uniprot</th>\n",
              "      <th>fasta</th>\n",
              "    </tr>\n",
              "  </thead>\n",
              "  <tbody>\n",
              "    <tr>\n",
              "      <th>0</th>\n",
              "      <td>a2m</td>\n",
              "      <td>Approved symbol</td>\n",
              "      <td>A2M</td>\n",
              "      <td>alpha-2-macroglobulin</td>\n",
              "      <td>HGNC:7</td>\n",
              "      <td>P01023</td>\n",
              "      <td>MGKNKLLHPSLVLLLLVLLPTDASVSGKPQYMVLVPSLLHTETTEK...</td>\n",
              "    </tr>\n",
              "    <tr>\n",
              "      <th>1</th>\n",
              "      <td>aadac</td>\n",
              "      <td>Approved symbol</td>\n",
              "      <td>AADAC</td>\n",
              "      <td>arylacetamide deacetylase</td>\n",
              "      <td>HGNC:17</td>\n",
              "      <td>P22760</td>\n",
              "      <td>MGRKSLYLLIVGILIAYYIYTPLPDNVEEPWRMMWINAHLKTIQNL...</td>\n",
              "    </tr>\n",
              "    <tr>\n",
              "      <th>2</th>\n",
              "      <td>aadat</td>\n",
              "      <td>Approved symbol</td>\n",
              "      <td>AADAT</td>\n",
              "      <td>aminoadipate aminotransferase</td>\n",
              "      <td>HGNC:17929</td>\n",
              "      <td>Q8N5Z0</td>\n",
              "      <td>MNYARFITAASAARNPSPIRTMTDILSRGPKSMISLAGGLPNPNMF...</td>\n",
              "    </tr>\n",
              "    <tr>\n",
              "      <th>3</th>\n",
              "      <td>aak1</td>\n",
              "      <td>Approved symbol</td>\n",
              "      <td>AAK1</td>\n",
              "      <td>AP2 associated kinase 1</td>\n",
              "      <td>HGNC:19679</td>\n",
              "      <td>Q2M2I8</td>\n",
              "      <td>MKKFFDSRREQGGSGLGSGSSGGGGSTSGLGSGYIGRVFGIGRQQV...</td>\n",
              "    </tr>\n",
              "    <tr>\n",
              "      <th>4</th>\n",
              "      <td>aanat</td>\n",
              "      <td>Approved symbol</td>\n",
              "      <td>AANAT</td>\n",
              "      <td>aralkylamine N-acetyltransferase</td>\n",
              "      <td>HGNC:19</td>\n",
              "      <td>Q16613</td>\n",
              "      <td>MSTQSTHPLKPEAPRLPPGIPESPSCQRRHTLPASEFRCLTPEDAV...</td>\n",
              "    </tr>\n",
              "  </tbody>\n",
              "</table>\n",
              "</div>\n",
              "    <div class=\"colab-df-buttons\">\n",
              "\n",
              "  <div class=\"colab-df-container\">\n",
              "    <button class=\"colab-df-convert\" onclick=\"convertToInteractive('df-b4e4a8d6-c0fe-423c-8cc4-9a3dc33c37f5')\"\n",
              "            title=\"Convert this dataframe to an interactive table.\"\n",
              "            style=\"display:none;\">\n",
              "\n",
              "  <svg xmlns=\"http://www.w3.org/2000/svg\" height=\"24px\" viewBox=\"0 -960 960 960\">\n",
              "    <path d=\"M120-120v-720h720v720H120Zm60-500h600v-160H180v160Zm220 220h160v-160H400v160Zm0 220h160v-160H400v160ZM180-400h160v-160H180v160Zm440 0h160v-160H620v160ZM180-180h160v-160H180v160Zm440 0h160v-160H620v160Z\"/>\n",
              "  </svg>\n",
              "    </button>\n",
              "\n",
              "  <style>\n",
              "    .colab-df-container {\n",
              "      display:flex;\n",
              "      gap: 12px;\n",
              "    }\n",
              "\n",
              "    .colab-df-convert {\n",
              "      background-color: #E8F0FE;\n",
              "      border: none;\n",
              "      border-radius: 50%;\n",
              "      cursor: pointer;\n",
              "      display: none;\n",
              "      fill: #1967D2;\n",
              "      height: 32px;\n",
              "      padding: 0 0 0 0;\n",
              "      width: 32px;\n",
              "    }\n",
              "\n",
              "    .colab-df-convert:hover {\n",
              "      background-color: #E2EBFA;\n",
              "      box-shadow: 0px 1px 2px rgba(60, 64, 67, 0.3), 0px 1px 3px 1px rgba(60, 64, 67, 0.15);\n",
              "      fill: #174EA6;\n",
              "    }\n",
              "\n",
              "    .colab-df-buttons div {\n",
              "      margin-bottom: 4px;\n",
              "    }\n",
              "\n",
              "    [theme=dark] .colab-df-convert {\n",
              "      background-color: #3B4455;\n",
              "      fill: #D2E3FC;\n",
              "    }\n",
              "\n",
              "    [theme=dark] .colab-df-convert:hover {\n",
              "      background-color: #434B5C;\n",
              "      box-shadow: 0px 1px 3px 1px rgba(0, 0, 0, 0.15);\n",
              "      filter: drop-shadow(0px 1px 2px rgba(0, 0, 0, 0.3));\n",
              "      fill: #FFFFFF;\n",
              "    }\n",
              "  </style>\n",
              "\n",
              "    <script>\n",
              "      const buttonEl =\n",
              "        document.querySelector('#df-b4e4a8d6-c0fe-423c-8cc4-9a3dc33c37f5 button.colab-df-convert');\n",
              "      buttonEl.style.display =\n",
              "        google.colab.kernel.accessAllowed ? 'block' : 'none';\n",
              "\n",
              "      async function convertToInteractive(key) {\n",
              "        const element = document.querySelector('#df-b4e4a8d6-c0fe-423c-8cc4-9a3dc33c37f5');\n",
              "        const dataTable =\n",
              "          await google.colab.kernel.invokeFunction('convertToInteractive',\n",
              "                                                    [key], {});\n",
              "        if (!dataTable) return;\n",
              "\n",
              "        const docLinkHtml = 'Like what you see? Visit the ' +\n",
              "          '<a target=\"_blank\" href=https://colab.research.google.com/notebooks/data_table.ipynb>data table notebook</a>'\n",
              "          + ' to learn more about interactive tables.';\n",
              "        element.innerHTML = '';\n",
              "        dataTable['output_type'] = 'display_data';\n",
              "        await google.colab.output.renderOutput(dataTable, element);\n",
              "        const docLink = document.createElement('div');\n",
              "        docLink.innerHTML = docLinkHtml;\n",
              "        element.appendChild(docLink);\n",
              "      }\n",
              "    </script>\n",
              "  </div>\n",
              "\n",
              "\n",
              "<div id=\"df-37e42310-7c48-4cba-93e1-f6ff0f1cf894\">\n",
              "  <button class=\"colab-df-quickchart\" onclick=\"quickchart('df-37e42310-7c48-4cba-93e1-f6ff0f1cf894')\"\n",
              "            title=\"Suggest charts\"\n",
              "            style=\"display:none;\">\n",
              "\n",
              "<svg xmlns=\"http://www.w3.org/2000/svg\" height=\"24px\"viewBox=\"0 0 24 24\"\n",
              "     width=\"24px\">\n",
              "    <g>\n",
              "        <path d=\"M19 3H5c-1.1 0-2 .9-2 2v14c0 1.1.9 2 2 2h14c1.1 0 2-.9 2-2V5c0-1.1-.9-2-2-2zM9 17H7v-7h2v7zm4 0h-2V7h2v10zm4 0h-2v-4h2v4z\"/>\n",
              "    </g>\n",
              "</svg>\n",
              "  </button>\n",
              "\n",
              "<style>\n",
              "  .colab-df-quickchart {\n",
              "      --bg-color: #E8F0FE;\n",
              "      --fill-color: #1967D2;\n",
              "      --hover-bg-color: #E2EBFA;\n",
              "      --hover-fill-color: #174EA6;\n",
              "      --disabled-fill-color: #AAA;\n",
              "      --disabled-bg-color: #DDD;\n",
              "  }\n",
              "\n",
              "  [theme=dark] .colab-df-quickchart {\n",
              "      --bg-color: #3B4455;\n",
              "      --fill-color: #D2E3FC;\n",
              "      --hover-bg-color: #434B5C;\n",
              "      --hover-fill-color: #FFFFFF;\n",
              "      --disabled-bg-color: #3B4455;\n",
              "      --disabled-fill-color: #666;\n",
              "  }\n",
              "\n",
              "  .colab-df-quickchart {\n",
              "    background-color: var(--bg-color);\n",
              "    border: none;\n",
              "    border-radius: 50%;\n",
              "    cursor: pointer;\n",
              "    display: none;\n",
              "    fill: var(--fill-color);\n",
              "    height: 32px;\n",
              "    padding: 0;\n",
              "    width: 32px;\n",
              "  }\n",
              "\n",
              "  .colab-df-quickchart:hover {\n",
              "    background-color: var(--hover-bg-color);\n",
              "    box-shadow: 0 1px 2px rgba(60, 64, 67, 0.3), 0 1px 3px 1px rgba(60, 64, 67, 0.15);\n",
              "    fill: var(--button-hover-fill-color);\n",
              "  }\n",
              "\n",
              "  .colab-df-quickchart-complete:disabled,\n",
              "  .colab-df-quickchart-complete:disabled:hover {\n",
              "    background-color: var(--disabled-bg-color);\n",
              "    fill: var(--disabled-fill-color);\n",
              "    box-shadow: none;\n",
              "  }\n",
              "\n",
              "  .colab-df-spinner {\n",
              "    border: 2px solid var(--fill-color);\n",
              "    border-color: transparent;\n",
              "    border-bottom-color: var(--fill-color);\n",
              "    animation:\n",
              "      spin 1s steps(1) infinite;\n",
              "  }\n",
              "\n",
              "  @keyframes spin {\n",
              "    0% {\n",
              "      border-color: transparent;\n",
              "      border-bottom-color: var(--fill-color);\n",
              "      border-left-color: var(--fill-color);\n",
              "    }\n",
              "    20% {\n",
              "      border-color: transparent;\n",
              "      border-left-color: var(--fill-color);\n",
              "      border-top-color: var(--fill-color);\n",
              "    }\n",
              "    30% {\n",
              "      border-color: transparent;\n",
              "      border-left-color: var(--fill-color);\n",
              "      border-top-color: var(--fill-color);\n",
              "      border-right-color: var(--fill-color);\n",
              "    }\n",
              "    40% {\n",
              "      border-color: transparent;\n",
              "      border-right-color: var(--fill-color);\n",
              "      border-top-color: var(--fill-color);\n",
              "    }\n",
              "    60% {\n",
              "      border-color: transparent;\n",
              "      border-right-color: var(--fill-color);\n",
              "    }\n",
              "    80% {\n",
              "      border-color: transparent;\n",
              "      border-right-color: var(--fill-color);\n",
              "      border-bottom-color: var(--fill-color);\n",
              "    }\n",
              "    90% {\n",
              "      border-color: transparent;\n",
              "      border-bottom-color: var(--fill-color);\n",
              "    }\n",
              "  }\n",
              "</style>\n",
              "\n",
              "  <script>\n",
              "    async function quickchart(key) {\n",
              "      const quickchartButtonEl =\n",
              "        document.querySelector('#' + key + ' button');\n",
              "      quickchartButtonEl.disabled = true;  // To prevent multiple clicks.\n",
              "      quickchartButtonEl.classList.add('colab-df-spinner');\n",
              "      try {\n",
              "        const charts = await google.colab.kernel.invokeFunction(\n",
              "            'suggestCharts', [key], {});\n",
              "      } catch (error) {\n",
              "        console.error('Error during call to suggestCharts:', error);\n",
              "      }\n",
              "      quickchartButtonEl.classList.remove('colab-df-spinner');\n",
              "      quickchartButtonEl.classList.add('colab-df-quickchart-complete');\n",
              "    }\n",
              "    (() => {\n",
              "      let quickchartButtonEl =\n",
              "        document.querySelector('#df-37e42310-7c48-4cba-93e1-f6ff0f1cf894 button');\n",
              "      quickchartButtonEl.style.display =\n",
              "        google.colab.kernel.accessAllowed ? 'block' : 'none';\n",
              "    })();\n",
              "  </script>\n",
              "</div>\n",
              "\n",
              "    </div>\n",
              "  </div>\n"
            ],
            "application/vnd.google.colaboratory.intrinsic+json": {
              "type": "dataframe",
              "variable_name": "pd_fasta",
              "summary": "{\n  \"name\": \"pd_fasta\",\n  \"rows\": 4460,\n  \"fields\": [\n    {\n      \"column\": \"Target\",\n      \"properties\": {\n        \"dtype\": \"string\",\n        \"num_unique_values\": 4460,\n        \"samples\": [\n          \"arl8b\",\n          \"malt1\",\n          \"kcnj11\"\n        ],\n        \"semantic_type\": \"\",\n        \"description\": \"\"\n      }\n    },\n    {\n      \"column\": \"Match type\",\n      \"properties\": {\n        \"dtype\": \"category\",\n        \"num_unique_values\": 3,\n        \"samples\": [\n          \"Approved symbol\",\n          \"Alias symbol\",\n          \"Previous symbol\"\n        ],\n        \"semantic_type\": \"\",\n        \"description\": \"\"\n      }\n    },\n    {\n      \"column\": \"Approved symbol\",\n      \"properties\": {\n        \"dtype\": \"string\",\n        \"num_unique_values\": 4451,\n        \"samples\": [\n          \"CNR1\",\n          \"SMN1\",\n          \"MMP12\"\n        ],\n        \"semantic_type\": \"\",\n        \"description\": \"\"\n      }\n    },\n    {\n      \"column\": \"Approved name\",\n      \"properties\": {\n        \"dtype\": \"string\",\n        \"num_unique_values\": 4451,\n        \"samples\": [\n          \"cannabinoid receptor 1\",\n          \"survival of motor neuron 1, telomeric\",\n          \"matrix metallopeptidase 12\"\n        ],\n        \"semantic_type\": \"\",\n        \"description\": \"\"\n      }\n    },\n    {\n      \"column\": \"HGNC ID\",\n      \"properties\": {\n        \"dtype\": \"string\",\n        \"num_unique_values\": 4451,\n        \"samples\": [\n          \"HGNC:2159\",\n          \"HGNC:11117\",\n          \"HGNC:7158\"\n        ],\n        \"semantic_type\": \"\",\n        \"description\": \"\"\n      }\n    },\n    {\n      \"column\": \"uniprot\",\n      \"properties\": {\n        \"dtype\": \"string\",\n        \"num_unique_values\": 4447,\n        \"samples\": [\n          \"O14684\",\n          \"Q96CH1\",\n          \"Q16690\"\n        ],\n        \"semantic_type\": \"\",\n        \"description\": \"\"\n      }\n    },\n    {\n      \"column\": \"fasta\",\n      \"properties\": {\n        \"dtype\": \"string\",\n        \"num_unique_values\": 4444,\n        \"samples\": [\n          \"MEVAEVESPLNPSCKIMTFRPSMEEFREFNKYLAYMESKGAHRAGLAKVIPPKEWKPRQCYDDIDNLLIPAPIQQMVTGQSGLFTQYNIQKKAMTVKEFRQLANSGKYCTPRYLDYEDLERKYWKNLTFVAPIYGADINGSIYDEGVDEWNIARLNTVLDVVEEECGISIEGVNTPYLYFGMWKTTFAWHTEDMDLYSINYLHFGEPKSWYAIPPEHGKRLERLAQGFFPSSSQGCDAFLRHKMTLISPSVLKKYGIPFDKITQEAGEFMITFPYGYHAGFNHGFNCAESTNFATVRWIDYGKVAKLCTCRKDMVKISMDIFVRKFQPDRYQLWKQGKDIYTIDHTKPTPASTPEVKAWLQRRRKVRKASRSFQCARSTSKRPKADEEEEVSDEVDGAEVPNPDSVTDDLKVSEKSEAAVKLRNTEASSEEESSASRMQVEQNLSDHIKLSGNSCLSTSVTEDIKTEDDKAYAYRSVPSISSEADDSIPLSSGYEKPEKSDPSELSWPKSPESCSSVAESNGVLTEGEESDVESHGNGLEPGEIPAVPSGERNSFKVPSIAEGENKTSKSWRHPLSRPPARSPMTLVKQQAPSDEELPEVLSIEEEVEETESWAKPLIHLWQTKSPNFAAEQEYNATVARMKPHCAICTLLMPYHKPDSSNEENDARWETKLDEVVTSEGKTKPLIPEMCFIYSEENIEYSPPNAFLEEDGTSLLISCAKCCVRVHASCYGIPSHEICDGWLCARCKRNAWTAECCLCNLRGGALKQTKNNKWAHVMCAVAVPEVRFTNVPERTQIDVGRIPLQRLKLKCIFCRHRVKRVSGACIQCSYGRCPASFHVTCAHAAGVLMEPDDWPYVVNITCFRHKVNPNVKSKACEKVISVGQTVITKHRNTRYYSCRVMAVTSQTFYEVMFDDGSFSRDTFPEDIVSRDCLKLGPPAEGEVVQVKWPDGKLYGAKYFGSNIAHMYQVEFEDGSQIAMKREDIYTLDEELPKRVKARFSTASDMRFEDTFYGADIIQGERKRQRVLSSRFKNEYVADPVYRTFLKSSFQKKCQKRQ\",\n          \"MSFLVSKPERIRRWVSEKFIVEGLRDLELFGEQPPGDTRRKTNDASSESIASFSKQEVMSSFLPEGGCYELLTVIGKGFEDLMTVNLARYKPTGEYVTVRRINLEACSNEMVTFLQGELHVSKLFNHPNIVPYRATFIADNELWVVTSFMAYGSAKDLICTHFMDGMNELAIAYILQGVLKALDYIHHMGYVHRSVKASHILISVDGKVYLSGLRSNLSMISHGQRQRVVHDFPKYSVKVLPWLSPEVLQQNLQGYDAKSDIYSVGITACELANGHVPFKDMPATQMLLEKLNGTVPCLLDTSTIPAEELTMSPSRSVANSGLSDSLTTSTPRPSNGDSPSHPYHRTFSPHFHHFVEQCLQRNPDARPSASTLLNHSFFKQIKRRASEALPELLRPVTPITNFEGSQSQDHSGIFGLVTNLEELEVDDWEF\",\n          \"MDLVGVASPEPGTAAAWGPSKCPWAIPQNTISCSLADVMSEQLAKELQLEEEAAVFPEVAVAEGPFITGENIDTSSDLMLAQMLQMEYDREYDAQLRREEKKFNGDSKVSISFENYRKVHPYEDSDSSEDEVDWQDTRDDPYRPAKPVPTPKKGFIGKGKDITTKHDEVVCGRKNTARMENFAPEFQVGDGIGMDLKLSNHVFNALKQHAYSEERRSARLHEKKEHSTAEKAVDPKTRLLMYKMVNSGMLETITGCISTGKESVVFHAYGGSMEDEKEDSKVIPTECAIKVFKTTLNEFKNRDKYIKDDFRFKDRFSKLNPRKIIRMWAEKEMHNLARMQRAGIPCPTVVLLKKHILVMSFIGHDQVPAPKLKEVKLNSEEMKEAYYQTLHLMRQLYHECTLVHADLSEYNMLWHAGKVWLIDVSQSVEPTHPHGLEFLFRDCRNVSQFFQKGGVKEALSERELFNAVSGLNITADNEADFLAEIEALEKMNEDHVQKNGRKAASFLKDDGDPPLLYDE\"\n        ],\n        \"semantic_type\": \"\",\n        \"description\": \"\"\n      }\n    }\n  ]\n}"
            }
          },
          "metadata": {},
          "execution_count": 45
        }
      ]
    },
    {
      "cell_type": "code",
      "source": [
        "pd_result = pd_result.merge(pd_fasta)\n",
        "pd_result.drop(columns=['Match type'],inplace=True)\n",
        "pd_result.head(10)"
      ],
      "metadata": {
        "colab": {
          "base_uri": "https://localhost:8080/",
          "height": 591
        },
        "id": "QC8eMe8t1GV-",
        "outputId": "681c4fd9-b9c8-4599-ce07-3d417dc16074"
      },
      "execution_count": 46,
      "outputs": [
        {
          "output_type": "execute_result",
          "data": {
            "text/plain": [
              "                                               fasta     proba  y_pred_asp  \\\n",
              "0  MPGMVLFGRRWAIASDDLVFPGFFELVVRVLWWIGILTLYLMHRGK...  0.999801         1.0   \n",
              "1  MAPPSEETPLIPQRSCSLLSTEAGALHVLLPARGPGPPQRLSFSFG...  0.999560         1.0   \n",
              "2  MWELVALLLLTLAYLFWPKRRCPGAKYPKSLLSLPLVGSLPFLPRH...  0.999322         1.0   \n",
              "3  MLLSKINSLAHLRAAPCNDLHATKLAPGKEKEPLESQYQVGPLLGS...  0.997636         1.0   \n",
              "4  MHSKVTIICIRFLFWFLLLCMLIGKSHTEDDIIIATKNGKVRGMNL...  0.996996         1.0   \n",
              "5  MATEEKKPETEAARAQPTPSSSATQSKPTPVKPNYALKFTLAGHTK...  0.996534         1.0   \n",
              "6  MLARALLLCAVLALSHTANPCCSHPCQNRGVCMSVGFDQYKCDCTR...  0.995244         1.0   \n",
              "7  MAGGPGPGEPAAPGAQHFLYEVPPWVMCRFYKVMDALEPADWCQFA...  0.994930         1.0   \n",
              "8  MVQKSRNGGVYPGPSGEKKLKVGFVGLDPGAPDSTRDGALLIAGSE...  0.991114         1.0   \n",
              "9  MEPSSWSGSESPAENMERMSDSADKPIDNDAEGVWSPDIEQSFQEA...  0.989426         1.0   \n",
              "\n",
              "    Target Approved symbol                                      Approved name  \\\n",
              "0    daglb           DAGLB                         diacylglycerol lipase beta   \n",
              "1     jak3            JAK3                                     Janus kinase 3   \n",
              "2  cyp17a1         CYP17A1     cytochrome P450 family 17 subfamily A member 1   \n",
              "3     pim1            PIM1      Pim-1 proto-oncogene, serine/threonine kinase   \n",
              "4     bche            BCHE                              butyrylcholinesterase   \n",
              "5     wdr5            WDR5                                 WD repeat domain 5   \n",
              "6    ptgs2           PTGS2              prostaglandin-endoperoxide synthase 2   \n",
              "7    irak1           IRAK1         interleukin 1 receptor associated kinase 1   \n",
              "8    kcnq2           KCNQ2  potassium voltage-gated channel subfamily Q me...   \n",
              "9    tead1           TEAD1                  TEA domain transcription factor 1   \n",
              "\n",
              "      HGNC ID uniprot  \n",
              "0  HGNC:28923  Q8NCG7  \n",
              "1   HGNC:6193  P52333  \n",
              "2   HGNC:2593  P05093  \n",
              "3   HGNC:8986  P11309  \n",
              "4    HGNC:983  P06276  \n",
              "5  HGNC:12757  P61964  \n",
              "6   HGNC:9605  P35354  \n",
              "7   HGNC:6112  P51617  \n",
              "8   HGNC:6296  O43526  \n",
              "9  HGNC:11714  P28347  "
            ],
            "text/html": [
              "\n",
              "  <div id=\"df-939c57ad-e901-41c1-b787-68d5966452e5\" class=\"colab-df-container\">\n",
              "    <div>\n",
              "<style scoped>\n",
              "    .dataframe tbody tr th:only-of-type {\n",
              "        vertical-align: middle;\n",
              "    }\n",
              "\n",
              "    .dataframe tbody tr th {\n",
              "        vertical-align: top;\n",
              "    }\n",
              "\n",
              "    .dataframe thead th {\n",
              "        text-align: right;\n",
              "    }\n",
              "</style>\n",
              "<table border=\"1\" class=\"dataframe\">\n",
              "  <thead>\n",
              "    <tr style=\"text-align: right;\">\n",
              "      <th></th>\n",
              "      <th>fasta</th>\n",
              "      <th>proba</th>\n",
              "      <th>y_pred_asp</th>\n",
              "      <th>Target</th>\n",
              "      <th>Approved symbol</th>\n",
              "      <th>Approved name</th>\n",
              "      <th>HGNC ID</th>\n",
              "      <th>uniprot</th>\n",
              "    </tr>\n",
              "  </thead>\n",
              "  <tbody>\n",
              "    <tr>\n",
              "      <th>0</th>\n",
              "      <td>MPGMVLFGRRWAIASDDLVFPGFFELVVRVLWWIGILTLYLMHRGK...</td>\n",
              "      <td>0.999801</td>\n",
              "      <td>1.0</td>\n",
              "      <td>daglb</td>\n",
              "      <td>DAGLB</td>\n",
              "      <td>diacylglycerol lipase beta</td>\n",
              "      <td>HGNC:28923</td>\n",
              "      <td>Q8NCG7</td>\n",
              "    </tr>\n",
              "    <tr>\n",
              "      <th>1</th>\n",
              "      <td>MAPPSEETPLIPQRSCSLLSTEAGALHVLLPARGPGPPQRLSFSFG...</td>\n",
              "      <td>0.999560</td>\n",
              "      <td>1.0</td>\n",
              "      <td>jak3</td>\n",
              "      <td>JAK3</td>\n",
              "      <td>Janus kinase 3</td>\n",
              "      <td>HGNC:6193</td>\n",
              "      <td>P52333</td>\n",
              "    </tr>\n",
              "    <tr>\n",
              "      <th>2</th>\n",
              "      <td>MWELVALLLLTLAYLFWPKRRCPGAKYPKSLLSLPLVGSLPFLPRH...</td>\n",
              "      <td>0.999322</td>\n",
              "      <td>1.0</td>\n",
              "      <td>cyp17a1</td>\n",
              "      <td>CYP17A1</td>\n",
              "      <td>cytochrome P450 family 17 subfamily A member 1</td>\n",
              "      <td>HGNC:2593</td>\n",
              "      <td>P05093</td>\n",
              "    </tr>\n",
              "    <tr>\n",
              "      <th>3</th>\n",
              "      <td>MLLSKINSLAHLRAAPCNDLHATKLAPGKEKEPLESQYQVGPLLGS...</td>\n",
              "      <td>0.997636</td>\n",
              "      <td>1.0</td>\n",
              "      <td>pim1</td>\n",
              "      <td>PIM1</td>\n",
              "      <td>Pim-1 proto-oncogene, serine/threonine kinase</td>\n",
              "      <td>HGNC:8986</td>\n",
              "      <td>P11309</td>\n",
              "    </tr>\n",
              "    <tr>\n",
              "      <th>4</th>\n",
              "      <td>MHSKVTIICIRFLFWFLLLCMLIGKSHTEDDIIIATKNGKVRGMNL...</td>\n",
              "      <td>0.996996</td>\n",
              "      <td>1.0</td>\n",
              "      <td>bche</td>\n",
              "      <td>BCHE</td>\n",
              "      <td>butyrylcholinesterase</td>\n",
              "      <td>HGNC:983</td>\n",
              "      <td>P06276</td>\n",
              "    </tr>\n",
              "    <tr>\n",
              "      <th>5</th>\n",
              "      <td>MATEEKKPETEAARAQPTPSSSATQSKPTPVKPNYALKFTLAGHTK...</td>\n",
              "      <td>0.996534</td>\n",
              "      <td>1.0</td>\n",
              "      <td>wdr5</td>\n",
              "      <td>WDR5</td>\n",
              "      <td>WD repeat domain 5</td>\n",
              "      <td>HGNC:12757</td>\n",
              "      <td>P61964</td>\n",
              "    </tr>\n",
              "    <tr>\n",
              "      <th>6</th>\n",
              "      <td>MLARALLLCAVLALSHTANPCCSHPCQNRGVCMSVGFDQYKCDCTR...</td>\n",
              "      <td>0.995244</td>\n",
              "      <td>1.0</td>\n",
              "      <td>ptgs2</td>\n",
              "      <td>PTGS2</td>\n",
              "      <td>prostaglandin-endoperoxide synthase 2</td>\n",
              "      <td>HGNC:9605</td>\n",
              "      <td>P35354</td>\n",
              "    </tr>\n",
              "    <tr>\n",
              "      <th>7</th>\n",
              "      <td>MAGGPGPGEPAAPGAQHFLYEVPPWVMCRFYKVMDALEPADWCQFA...</td>\n",
              "      <td>0.994930</td>\n",
              "      <td>1.0</td>\n",
              "      <td>irak1</td>\n",
              "      <td>IRAK1</td>\n",
              "      <td>interleukin 1 receptor associated kinase 1</td>\n",
              "      <td>HGNC:6112</td>\n",
              "      <td>P51617</td>\n",
              "    </tr>\n",
              "    <tr>\n",
              "      <th>8</th>\n",
              "      <td>MVQKSRNGGVYPGPSGEKKLKVGFVGLDPGAPDSTRDGALLIAGSE...</td>\n",
              "      <td>0.991114</td>\n",
              "      <td>1.0</td>\n",
              "      <td>kcnq2</td>\n",
              "      <td>KCNQ2</td>\n",
              "      <td>potassium voltage-gated channel subfamily Q me...</td>\n",
              "      <td>HGNC:6296</td>\n",
              "      <td>O43526</td>\n",
              "    </tr>\n",
              "    <tr>\n",
              "      <th>9</th>\n",
              "      <td>MEPSSWSGSESPAENMERMSDSADKPIDNDAEGVWSPDIEQSFQEA...</td>\n",
              "      <td>0.989426</td>\n",
              "      <td>1.0</td>\n",
              "      <td>tead1</td>\n",
              "      <td>TEAD1</td>\n",
              "      <td>TEA domain transcription factor 1</td>\n",
              "      <td>HGNC:11714</td>\n",
              "      <td>P28347</td>\n",
              "    </tr>\n",
              "  </tbody>\n",
              "</table>\n",
              "</div>\n",
              "    <div class=\"colab-df-buttons\">\n",
              "\n",
              "  <div class=\"colab-df-container\">\n",
              "    <button class=\"colab-df-convert\" onclick=\"convertToInteractive('df-939c57ad-e901-41c1-b787-68d5966452e5')\"\n",
              "            title=\"Convert this dataframe to an interactive table.\"\n",
              "            style=\"display:none;\">\n",
              "\n",
              "  <svg xmlns=\"http://www.w3.org/2000/svg\" height=\"24px\" viewBox=\"0 -960 960 960\">\n",
              "    <path d=\"M120-120v-720h720v720H120Zm60-500h600v-160H180v160Zm220 220h160v-160H400v160Zm0 220h160v-160H400v160ZM180-400h160v-160H180v160Zm440 0h160v-160H620v160ZM180-180h160v-160H180v160Zm440 0h160v-160H620v160Z\"/>\n",
              "  </svg>\n",
              "    </button>\n",
              "\n",
              "  <style>\n",
              "    .colab-df-container {\n",
              "      display:flex;\n",
              "      gap: 12px;\n",
              "    }\n",
              "\n",
              "    .colab-df-convert {\n",
              "      background-color: #E8F0FE;\n",
              "      border: none;\n",
              "      border-radius: 50%;\n",
              "      cursor: pointer;\n",
              "      display: none;\n",
              "      fill: #1967D2;\n",
              "      height: 32px;\n",
              "      padding: 0 0 0 0;\n",
              "      width: 32px;\n",
              "    }\n",
              "\n",
              "    .colab-df-convert:hover {\n",
              "      background-color: #E2EBFA;\n",
              "      box-shadow: 0px 1px 2px rgba(60, 64, 67, 0.3), 0px 1px 3px 1px rgba(60, 64, 67, 0.15);\n",
              "      fill: #174EA6;\n",
              "    }\n",
              "\n",
              "    .colab-df-buttons div {\n",
              "      margin-bottom: 4px;\n",
              "    }\n",
              "\n",
              "    [theme=dark] .colab-df-convert {\n",
              "      background-color: #3B4455;\n",
              "      fill: #D2E3FC;\n",
              "    }\n",
              "\n",
              "    [theme=dark] .colab-df-convert:hover {\n",
              "      background-color: #434B5C;\n",
              "      box-shadow: 0px 1px 3px 1px rgba(0, 0, 0, 0.15);\n",
              "      filter: drop-shadow(0px 1px 2px rgba(0, 0, 0, 0.3));\n",
              "      fill: #FFFFFF;\n",
              "    }\n",
              "  </style>\n",
              "\n",
              "    <script>\n",
              "      const buttonEl =\n",
              "        document.querySelector('#df-939c57ad-e901-41c1-b787-68d5966452e5 button.colab-df-convert');\n",
              "      buttonEl.style.display =\n",
              "        google.colab.kernel.accessAllowed ? 'block' : 'none';\n",
              "\n",
              "      async function convertToInteractive(key) {\n",
              "        const element = document.querySelector('#df-939c57ad-e901-41c1-b787-68d5966452e5');\n",
              "        const dataTable =\n",
              "          await google.colab.kernel.invokeFunction('convertToInteractive',\n",
              "                                                    [key], {});\n",
              "        if (!dataTable) return;\n",
              "\n",
              "        const docLinkHtml = 'Like what you see? Visit the ' +\n",
              "          '<a target=\"_blank\" href=https://colab.research.google.com/notebooks/data_table.ipynb>data table notebook</a>'\n",
              "          + ' to learn more about interactive tables.';\n",
              "        element.innerHTML = '';\n",
              "        dataTable['output_type'] = 'display_data';\n",
              "        await google.colab.output.renderOutput(dataTable, element);\n",
              "        const docLink = document.createElement('div');\n",
              "        docLink.innerHTML = docLinkHtml;\n",
              "        element.appendChild(docLink);\n",
              "      }\n",
              "    </script>\n",
              "  </div>\n",
              "\n",
              "\n",
              "<div id=\"df-cf9c2321-ec35-4151-b09c-50fd095aa1a7\">\n",
              "  <button class=\"colab-df-quickchart\" onclick=\"quickchart('df-cf9c2321-ec35-4151-b09c-50fd095aa1a7')\"\n",
              "            title=\"Suggest charts\"\n",
              "            style=\"display:none;\">\n",
              "\n",
              "<svg xmlns=\"http://www.w3.org/2000/svg\" height=\"24px\"viewBox=\"0 0 24 24\"\n",
              "     width=\"24px\">\n",
              "    <g>\n",
              "        <path d=\"M19 3H5c-1.1 0-2 .9-2 2v14c0 1.1.9 2 2 2h14c1.1 0 2-.9 2-2V5c0-1.1-.9-2-2-2zM9 17H7v-7h2v7zm4 0h-2V7h2v10zm4 0h-2v-4h2v4z\"/>\n",
              "    </g>\n",
              "</svg>\n",
              "  </button>\n",
              "\n",
              "<style>\n",
              "  .colab-df-quickchart {\n",
              "      --bg-color: #E8F0FE;\n",
              "      --fill-color: #1967D2;\n",
              "      --hover-bg-color: #E2EBFA;\n",
              "      --hover-fill-color: #174EA6;\n",
              "      --disabled-fill-color: #AAA;\n",
              "      --disabled-bg-color: #DDD;\n",
              "  }\n",
              "\n",
              "  [theme=dark] .colab-df-quickchart {\n",
              "      --bg-color: #3B4455;\n",
              "      --fill-color: #D2E3FC;\n",
              "      --hover-bg-color: #434B5C;\n",
              "      --hover-fill-color: #FFFFFF;\n",
              "      --disabled-bg-color: #3B4455;\n",
              "      --disabled-fill-color: #666;\n",
              "  }\n",
              "\n",
              "  .colab-df-quickchart {\n",
              "    background-color: var(--bg-color);\n",
              "    border: none;\n",
              "    border-radius: 50%;\n",
              "    cursor: pointer;\n",
              "    display: none;\n",
              "    fill: var(--fill-color);\n",
              "    height: 32px;\n",
              "    padding: 0;\n",
              "    width: 32px;\n",
              "  }\n",
              "\n",
              "  .colab-df-quickchart:hover {\n",
              "    background-color: var(--hover-bg-color);\n",
              "    box-shadow: 0 1px 2px rgba(60, 64, 67, 0.3), 0 1px 3px 1px rgba(60, 64, 67, 0.15);\n",
              "    fill: var(--button-hover-fill-color);\n",
              "  }\n",
              "\n",
              "  .colab-df-quickchart-complete:disabled,\n",
              "  .colab-df-quickchart-complete:disabled:hover {\n",
              "    background-color: var(--disabled-bg-color);\n",
              "    fill: var(--disabled-fill-color);\n",
              "    box-shadow: none;\n",
              "  }\n",
              "\n",
              "  .colab-df-spinner {\n",
              "    border: 2px solid var(--fill-color);\n",
              "    border-color: transparent;\n",
              "    border-bottom-color: var(--fill-color);\n",
              "    animation:\n",
              "      spin 1s steps(1) infinite;\n",
              "  }\n",
              "\n",
              "  @keyframes spin {\n",
              "    0% {\n",
              "      border-color: transparent;\n",
              "      border-bottom-color: var(--fill-color);\n",
              "      border-left-color: var(--fill-color);\n",
              "    }\n",
              "    20% {\n",
              "      border-color: transparent;\n",
              "      border-left-color: var(--fill-color);\n",
              "      border-top-color: var(--fill-color);\n",
              "    }\n",
              "    30% {\n",
              "      border-color: transparent;\n",
              "      border-left-color: var(--fill-color);\n",
              "      border-top-color: var(--fill-color);\n",
              "      border-right-color: var(--fill-color);\n",
              "    }\n",
              "    40% {\n",
              "      border-color: transparent;\n",
              "      border-right-color: var(--fill-color);\n",
              "      border-top-color: var(--fill-color);\n",
              "    }\n",
              "    60% {\n",
              "      border-color: transparent;\n",
              "      border-right-color: var(--fill-color);\n",
              "    }\n",
              "    80% {\n",
              "      border-color: transparent;\n",
              "      border-right-color: var(--fill-color);\n",
              "      border-bottom-color: var(--fill-color);\n",
              "    }\n",
              "    90% {\n",
              "      border-color: transparent;\n",
              "      border-bottom-color: var(--fill-color);\n",
              "    }\n",
              "  }\n",
              "</style>\n",
              "\n",
              "  <script>\n",
              "    async function quickchart(key) {\n",
              "      const quickchartButtonEl =\n",
              "        document.querySelector('#' + key + ' button');\n",
              "      quickchartButtonEl.disabled = true;  // To prevent multiple clicks.\n",
              "      quickchartButtonEl.classList.add('colab-df-spinner');\n",
              "      try {\n",
              "        const charts = await google.colab.kernel.invokeFunction(\n",
              "            'suggestCharts', [key], {});\n",
              "      } catch (error) {\n",
              "        console.error('Error during call to suggestCharts:', error);\n",
              "      }\n",
              "      quickchartButtonEl.classList.remove('colab-df-spinner');\n",
              "      quickchartButtonEl.classList.add('colab-df-quickchart-complete');\n",
              "    }\n",
              "    (() => {\n",
              "      let quickchartButtonEl =\n",
              "        document.querySelector('#df-cf9c2321-ec35-4151-b09c-50fd095aa1a7 button');\n",
              "      quickchartButtonEl.style.display =\n",
              "        google.colab.kernel.accessAllowed ? 'block' : 'none';\n",
              "    })();\n",
              "  </script>\n",
              "</div>\n",
              "\n",
              "    </div>\n",
              "  </div>\n"
            ],
            "application/vnd.google.colaboratory.intrinsic+json": {
              "type": "dataframe",
              "variable_name": "pd_result",
              "summary": "{\n  \"name\": \"pd_result\",\n  \"rows\": 2078,\n  \"fields\": [\n    {\n      \"column\": \"fasta\",\n      \"properties\": {\n        \"dtype\": \"string\",\n        \"num_unique_values\": 2069,\n        \"samples\": [\n          \"MAEGERQPPPDSSEEAPPATQNFIIPKKEIHTVPDMGKWKRSQAYADYIGFILTLNEGVKGKKLTFEYRVSEMWNEVHEEKEQAAKQSVSCDECIPLPRAGHCAPSEAIEKLVALLNTLDRWIDETPPVDQPSRFGNKAYRTWYAKLDEEAENLVATVVPTHLAAAVPEVAVYLKESVGNSTRIDYGTGHEAAFAAFLCCLCKIGVLRVDDQIAIVFKVFNRYLEVMRKLQKTYRMEPAGSQGVWGLDDFQFLPFIWGSSQLIDHPYLEPRHFVDEKAVNENHKDYMFLECILFITEMKTGPFAEHSNQLWNISAVPSWSKVNQGLIRMYKAECLEKFPVIQHFKFGSLLPIHPVTSG\",\n          \"MDSLASLVLCGVSLLLSGTVEGAMDLILINSLPLVSDAETSLTCIASGWRPHEPITIGRDFEALMNQHQDPLEVTQDVTREWAKKVVWKREKASKINGAYFCEGRVRGEAIRIRTMKMRQQASFLPATLTMTVDKGDNVNISFKKVLIKEEDAVIYKNGSFIHSVPRHEVPDILEVHLPHAQPQDAGVYSARYIGGNLFTSAFTRLIVRRCEAQKWGPECNHLCTACMNNGVCHEDTGECICPPGFMGRTCEKACELHTFGRTCKERCSGQEGCKSYVFCLPDPYGCSCATGWKGLQCNEACHPGFYGPDCKLRCSCNNGEMCDRFQGCLCSPGWQGLQCEREGIQRMTPKIVDLPDHIEVNSGKFNPICKASGWPLPTNEEMTLVKPDGTVLHPKDFNHTDHFSVAIFTIHRILPPDSGVWVCSVNTVAGMVEKPFNISVKVLPKPLNAPNVIDTGHNFAVINISSEPYFGDGPIKSKKLLYKPVNHYEAWQHIQVTNEIVTLNYLEPRTEYELCVQLVRRGEGGEGHPGPVRRFTTASIGLPPPRGLNLLPKSQTTLNLTWQPIFPSSEDDFYVEVERRSVQKSDQQNIKVPGNLTSVLLNNLHPREQYVVRARVNTKAQGEWSEDLTAWTLSDILPPQPENIKISNITHSSAVISWTILDGYSISSITIRYKVQGKNEDQHVDVKIKNATITQYQLKGLEPETAYQVDIFAENNIGSSNPAFSHELVTLPESQAPADLGGGKMLLIAILGSAGMTCLTVLLAFLIILQLKRANVQRRMAQAFQNVREEPAVQFNSGTLALNRKVKNNPDPTIYPVLDWNDIKFQDVIGEGNFGQVLKARIKKDGLRMDAAIKRMKEYASKDDHRDFAGELEVLCKLGHHPNIINLLGACEHRGYLYLAIEYAPHGNLLDFLRKSRVLETDPAFAIANSTASTLSSQQLLHFAADVARGMDYLSQKQFIHRDLAARNILVGENYVAKIADFGLSRGQEVYVKKTMGRLPVRWMAIESLNYSVYTTNSDVWSYGVLLWEIVSLGGTPYCGMTCAELYEKLPQGYRLEKPLNCDDEVYDLMRQCWREKPYERPSFAQILVSLNRMLEERKTYVNTTLYEKFTYAGIDCSAEEAA\",\n          \"MAQRMTTQLLLLLVWVAVVGEAQTRIAWARTELLNVCMNAKHHKEKPGPEDKLHEQCRPWRKNACCSTNTSQEAHKDVSYLYRFNWNHCGEMAPACKRHFIQDTCLYECSPNLGPWIQQVDQSWRKERVLNVPLCKEDCEQWWEDCRTSYTCKSNWHKGWNWTSGFNKCAVGAACQPFHFYFPTPTVLCNEIWTHSYKVSNYSRGSGRCIQMWFDPAQGNPNEEVARFYAAAMSGAGPWAAWPFLLSLALMLLWLLS\"\n        ],\n        \"semantic_type\": \"\",\n        \"description\": \"\"\n      }\n    },\n    {\n      \"column\": \"proba\",\n      \"properties\": {\n        \"dtype\": \"float32\",\n        \"num_unique_values\": 2069,\n        \"samples\": [\n          7.36904013365347e-08,\n          0.6104720830917358,\n          8.017886284505948e-05\n        ],\n        \"semantic_type\": \"\",\n        \"description\": \"\"\n      }\n    },\n    {\n      \"column\": \"y_pred_asp\",\n      \"properties\": {\n        \"dtype\": \"float32\",\n        \"num_unique_values\": 2,\n        \"samples\": [\n          -1.0,\n          1.0\n        ],\n        \"semantic_type\": \"\",\n        \"description\": \"\"\n      }\n    },\n    {\n      \"column\": \"Target\",\n      \"properties\": {\n        \"dtype\": \"string\",\n        \"num_unique_values\": 2078,\n        \"samples\": [\n          \"qpct\",\n          \"vdr\"\n        ],\n        \"semantic_type\": \"\",\n        \"description\": \"\"\n      }\n    },\n    {\n      \"column\": \"Approved symbol\",\n      \"properties\": {\n        \"dtype\": \"string\",\n        \"num_unique_values\": 2073,\n        \"samples\": [\n          \"CHRM2\",\n          \"ARG1\"\n        ],\n        \"semantic_type\": \"\",\n        \"description\": \"\"\n      }\n    },\n    {\n      \"column\": \"Approved name\",\n      \"properties\": {\n        \"dtype\": \"string\",\n        \"num_unique_values\": 2073,\n        \"samples\": [\n          \"cholinergic receptor muscarinic 2\",\n          \"arginase 1\"\n        ],\n        \"semantic_type\": \"\",\n        \"description\": \"\"\n      }\n    },\n    {\n      \"column\": \"HGNC ID\",\n      \"properties\": {\n        \"dtype\": \"string\",\n        \"num_unique_values\": 2073,\n        \"samples\": [\n          \"HGNC:1951\",\n          \"HGNC:663\"\n        ],\n        \"semantic_type\": \"\",\n        \"description\": \"\"\n      }\n    },\n    {\n      \"column\": \"uniprot\",\n      \"properties\": {\n        \"dtype\": \"string\",\n        \"num_unique_values\": 2072,\n        \"samples\": [\n          \"P46531\",\n          \"Q8TF76\"\n        ],\n        \"semantic_type\": \"\",\n        \"description\": \"\"\n      }\n    }\n  ]\n}"
            }
          },
          "metadata": {},
          "execution_count": 46
        }
      ]
    },
    {
      "cell_type": "code",
      "source": [
        "# comparison with Drugbank targets where binding affinity can be shown, we find only one target on the 2.\n",
        "pd_result[pd_result['Target'].isin(['ptgs1','ptgs2'])]"
      ],
      "metadata": {
        "colab": {
          "base_uri": "https://localhost:8080/",
          "height": 219
        },
        "id": "knBx-mHj1L9b",
        "outputId": "46b6c96d-0d3f-4567-a8bc-496be2466195"
      },
      "execution_count": 48,
      "outputs": [
        {
          "output_type": "execute_result",
          "data": {
            "text/plain": [
              "                                                  fasta     proba  y_pred_asp  \\\n",
              "6     MLARALLLCAVLALSHTANPCCSHPCQNRGVCMSVGFDQYKCDCTR...  0.995244         1.0   \n",
              "1587  MSRSLLLWFLLFLLLLPPLPVLLADPGAPTPVNPCCYYPCQHQGIC...  0.000071        -1.0   \n",
              "\n",
              "     Target Approved symbol                          Approved name    HGNC ID  \\\n",
              "6     ptgs2           PTGS2  prostaglandin-endoperoxide synthase 2  HGNC:9605   \n",
              "1587  ptgs1           PTGS1  prostaglandin-endoperoxide synthase 1  HGNC:9604   \n",
              "\n",
              "     uniprot  \n",
              "6     P35354  \n",
              "1587  P23219  "
            ],
            "text/html": [
              "\n",
              "  <div id=\"df-483dd83a-91f9-4eb2-9a7c-b0a7fa9714d3\" class=\"colab-df-container\">\n",
              "    <div>\n",
              "<style scoped>\n",
              "    .dataframe tbody tr th:only-of-type {\n",
              "        vertical-align: middle;\n",
              "    }\n",
              "\n",
              "    .dataframe tbody tr th {\n",
              "        vertical-align: top;\n",
              "    }\n",
              "\n",
              "    .dataframe thead th {\n",
              "        text-align: right;\n",
              "    }\n",
              "</style>\n",
              "<table border=\"1\" class=\"dataframe\">\n",
              "  <thead>\n",
              "    <tr style=\"text-align: right;\">\n",
              "      <th></th>\n",
              "      <th>fasta</th>\n",
              "      <th>proba</th>\n",
              "      <th>y_pred_asp</th>\n",
              "      <th>Target</th>\n",
              "      <th>Approved symbol</th>\n",
              "      <th>Approved name</th>\n",
              "      <th>HGNC ID</th>\n",
              "      <th>uniprot</th>\n",
              "    </tr>\n",
              "  </thead>\n",
              "  <tbody>\n",
              "    <tr>\n",
              "      <th>6</th>\n",
              "      <td>MLARALLLCAVLALSHTANPCCSHPCQNRGVCMSVGFDQYKCDCTR...</td>\n",
              "      <td>0.995244</td>\n",
              "      <td>1.0</td>\n",
              "      <td>ptgs2</td>\n",
              "      <td>PTGS2</td>\n",
              "      <td>prostaglandin-endoperoxide synthase 2</td>\n",
              "      <td>HGNC:9605</td>\n",
              "      <td>P35354</td>\n",
              "    </tr>\n",
              "    <tr>\n",
              "      <th>1587</th>\n",
              "      <td>MSRSLLLWFLLFLLLLPPLPVLLADPGAPTPVNPCCYYPCQHQGIC...</td>\n",
              "      <td>0.000071</td>\n",
              "      <td>-1.0</td>\n",
              "      <td>ptgs1</td>\n",
              "      <td>PTGS1</td>\n",
              "      <td>prostaglandin-endoperoxide synthase 1</td>\n",
              "      <td>HGNC:9604</td>\n",
              "      <td>P23219</td>\n",
              "    </tr>\n",
              "  </tbody>\n",
              "</table>\n",
              "</div>\n",
              "    <div class=\"colab-df-buttons\">\n",
              "\n",
              "  <div class=\"colab-df-container\">\n",
              "    <button class=\"colab-df-convert\" onclick=\"convertToInteractive('df-483dd83a-91f9-4eb2-9a7c-b0a7fa9714d3')\"\n",
              "            title=\"Convert this dataframe to an interactive table.\"\n",
              "            style=\"display:none;\">\n",
              "\n",
              "  <svg xmlns=\"http://www.w3.org/2000/svg\" height=\"24px\" viewBox=\"0 -960 960 960\">\n",
              "    <path d=\"M120-120v-720h720v720H120Zm60-500h600v-160H180v160Zm220 220h160v-160H400v160Zm0 220h160v-160H400v160ZM180-400h160v-160H180v160Zm440 0h160v-160H620v160ZM180-180h160v-160H180v160Zm440 0h160v-160H620v160Z\"/>\n",
              "  </svg>\n",
              "    </button>\n",
              "\n",
              "  <style>\n",
              "    .colab-df-container {\n",
              "      display:flex;\n",
              "      gap: 12px;\n",
              "    }\n",
              "\n",
              "    .colab-df-convert {\n",
              "      background-color: #E8F0FE;\n",
              "      border: none;\n",
              "      border-radius: 50%;\n",
              "      cursor: pointer;\n",
              "      display: none;\n",
              "      fill: #1967D2;\n",
              "      height: 32px;\n",
              "      padding: 0 0 0 0;\n",
              "      width: 32px;\n",
              "    }\n",
              "\n",
              "    .colab-df-convert:hover {\n",
              "      background-color: #E2EBFA;\n",
              "      box-shadow: 0px 1px 2px rgba(60, 64, 67, 0.3), 0px 1px 3px 1px rgba(60, 64, 67, 0.15);\n",
              "      fill: #174EA6;\n",
              "    }\n",
              "\n",
              "    .colab-df-buttons div {\n",
              "      margin-bottom: 4px;\n",
              "    }\n",
              "\n",
              "    [theme=dark] .colab-df-convert {\n",
              "      background-color: #3B4455;\n",
              "      fill: #D2E3FC;\n",
              "    }\n",
              "\n",
              "    [theme=dark] .colab-df-convert:hover {\n",
              "      background-color: #434B5C;\n",
              "      box-shadow: 0px 1px 3px 1px rgba(0, 0, 0, 0.15);\n",
              "      filter: drop-shadow(0px 1px 2px rgba(0, 0, 0, 0.3));\n",
              "      fill: #FFFFFF;\n",
              "    }\n",
              "  </style>\n",
              "\n",
              "    <script>\n",
              "      const buttonEl =\n",
              "        document.querySelector('#df-483dd83a-91f9-4eb2-9a7c-b0a7fa9714d3 button.colab-df-convert');\n",
              "      buttonEl.style.display =\n",
              "        google.colab.kernel.accessAllowed ? 'block' : 'none';\n",
              "\n",
              "      async function convertToInteractive(key) {\n",
              "        const element = document.querySelector('#df-483dd83a-91f9-4eb2-9a7c-b0a7fa9714d3');\n",
              "        const dataTable =\n",
              "          await google.colab.kernel.invokeFunction('convertToInteractive',\n",
              "                                                    [key], {});\n",
              "        if (!dataTable) return;\n",
              "\n",
              "        const docLinkHtml = 'Like what you see? Visit the ' +\n",
              "          '<a target=\"_blank\" href=https://colab.research.google.com/notebooks/data_table.ipynb>data table notebook</a>'\n",
              "          + ' to learn more about interactive tables.';\n",
              "        element.innerHTML = '';\n",
              "        dataTable['output_type'] = 'display_data';\n",
              "        await google.colab.output.renderOutput(dataTable, element);\n",
              "        const docLink = document.createElement('div');\n",
              "        docLink.innerHTML = docLinkHtml;\n",
              "        element.appendChild(docLink);\n",
              "      }\n",
              "    </script>\n",
              "  </div>\n",
              "\n",
              "\n",
              "<div id=\"df-ca1f1aa5-9da5-4808-9aca-a5aefa5e65f1\">\n",
              "  <button class=\"colab-df-quickchart\" onclick=\"quickchart('df-ca1f1aa5-9da5-4808-9aca-a5aefa5e65f1')\"\n",
              "            title=\"Suggest charts\"\n",
              "            style=\"display:none;\">\n",
              "\n",
              "<svg xmlns=\"http://www.w3.org/2000/svg\" height=\"24px\"viewBox=\"0 0 24 24\"\n",
              "     width=\"24px\">\n",
              "    <g>\n",
              "        <path d=\"M19 3H5c-1.1 0-2 .9-2 2v14c0 1.1.9 2 2 2h14c1.1 0 2-.9 2-2V5c0-1.1-.9-2-2-2zM9 17H7v-7h2v7zm4 0h-2V7h2v10zm4 0h-2v-4h2v4z\"/>\n",
              "    </g>\n",
              "</svg>\n",
              "  </button>\n",
              "\n",
              "<style>\n",
              "  .colab-df-quickchart {\n",
              "      --bg-color: #E8F0FE;\n",
              "      --fill-color: #1967D2;\n",
              "      --hover-bg-color: #E2EBFA;\n",
              "      --hover-fill-color: #174EA6;\n",
              "      --disabled-fill-color: #AAA;\n",
              "      --disabled-bg-color: #DDD;\n",
              "  }\n",
              "\n",
              "  [theme=dark] .colab-df-quickchart {\n",
              "      --bg-color: #3B4455;\n",
              "      --fill-color: #D2E3FC;\n",
              "      --hover-bg-color: #434B5C;\n",
              "      --hover-fill-color: #FFFFFF;\n",
              "      --disabled-bg-color: #3B4455;\n",
              "      --disabled-fill-color: #666;\n",
              "  }\n",
              "\n",
              "  .colab-df-quickchart {\n",
              "    background-color: var(--bg-color);\n",
              "    border: none;\n",
              "    border-radius: 50%;\n",
              "    cursor: pointer;\n",
              "    display: none;\n",
              "    fill: var(--fill-color);\n",
              "    height: 32px;\n",
              "    padding: 0;\n",
              "    width: 32px;\n",
              "  }\n",
              "\n",
              "  .colab-df-quickchart:hover {\n",
              "    background-color: var(--hover-bg-color);\n",
              "    box-shadow: 0 1px 2px rgba(60, 64, 67, 0.3), 0 1px 3px 1px rgba(60, 64, 67, 0.15);\n",
              "    fill: var(--button-hover-fill-color);\n",
              "  }\n",
              "\n",
              "  .colab-df-quickchart-complete:disabled,\n",
              "  .colab-df-quickchart-complete:disabled:hover {\n",
              "    background-color: var(--disabled-bg-color);\n",
              "    fill: var(--disabled-fill-color);\n",
              "    box-shadow: none;\n",
              "  }\n",
              "\n",
              "  .colab-df-spinner {\n",
              "    border: 2px solid var(--fill-color);\n",
              "    border-color: transparent;\n",
              "    border-bottom-color: var(--fill-color);\n",
              "    animation:\n",
              "      spin 1s steps(1) infinite;\n",
              "  }\n",
              "\n",
              "  @keyframes spin {\n",
              "    0% {\n",
              "      border-color: transparent;\n",
              "      border-bottom-color: var(--fill-color);\n",
              "      border-left-color: var(--fill-color);\n",
              "    }\n",
              "    20% {\n",
              "      border-color: transparent;\n",
              "      border-left-color: var(--fill-color);\n",
              "      border-top-color: var(--fill-color);\n",
              "    }\n",
              "    30% {\n",
              "      border-color: transparent;\n",
              "      border-left-color: var(--fill-color);\n",
              "      border-top-color: var(--fill-color);\n",
              "      border-right-color: var(--fill-color);\n",
              "    }\n",
              "    40% {\n",
              "      border-color: transparent;\n",
              "      border-right-color: var(--fill-color);\n",
              "      border-top-color: var(--fill-color);\n",
              "    }\n",
              "    60% {\n",
              "      border-color: transparent;\n",
              "      border-right-color: var(--fill-color);\n",
              "    }\n",
              "    80% {\n",
              "      border-color: transparent;\n",
              "      border-right-color: var(--fill-color);\n",
              "      border-bottom-color: var(--fill-color);\n",
              "    }\n",
              "    90% {\n",
              "      border-color: transparent;\n",
              "      border-bottom-color: var(--fill-color);\n",
              "    }\n",
              "  }\n",
              "</style>\n",
              "\n",
              "  <script>\n",
              "    async function quickchart(key) {\n",
              "      const quickchartButtonEl =\n",
              "        document.querySelector('#' + key + ' button');\n",
              "      quickchartButtonEl.disabled = true;  // To prevent multiple clicks.\n",
              "      quickchartButtonEl.classList.add('colab-df-spinner');\n",
              "      try {\n",
              "        const charts = await google.colab.kernel.invokeFunction(\n",
              "            'suggestCharts', [key], {});\n",
              "      } catch (error) {\n",
              "        console.error('Error during call to suggestCharts:', error);\n",
              "      }\n",
              "      quickchartButtonEl.classList.remove('colab-df-spinner');\n",
              "      quickchartButtonEl.classList.add('colab-df-quickchart-complete');\n",
              "    }\n",
              "    (() => {\n",
              "      let quickchartButtonEl =\n",
              "        document.querySelector('#df-ca1f1aa5-9da5-4808-9aca-a5aefa5e65f1 button');\n",
              "      quickchartButtonEl.style.display =\n",
              "        google.colab.kernel.accessAllowed ? 'block' : 'none';\n",
              "    })();\n",
              "  </script>\n",
              "</div>\n",
              "\n",
              "    </div>\n",
              "  </div>\n"
            ],
            "application/vnd.google.colaboratory.intrinsic+json": {
              "type": "dataframe",
              "summary": "{\n  \"name\": \"pd_result[pd_result['Target']\",\n  \"rows\": 2,\n  \"fields\": [\n    {\n      \"column\": \"fasta\",\n      \"properties\": {\n        \"dtype\": \"string\",\n        \"num_unique_values\": 2,\n        \"samples\": [\n          \"MSRSLLLWFLLFLLLLPPLPVLLADPGAPTPVNPCCYYPCQHQGICVRFGLDRYQCDCTRTGYSGPNCTIPGLWTWLRNSLRPSPSFTHFLLTHGRWFWEFVNATFIREMLMRLVLTVRSNLIPSPPTYNSAHDYISWESFSNVSYYTRILPSVPKDCPTPMGTKGKKQLPDAQLLARRFLLRRKFIPDPQGTNLMFAFFAQHFTHQFFKTSGKMGPGFTKALGHGVDLGHIYGDNLERQYQLRLFKDGKLKYQVLDGEMYPPSVEEAPVLMHYPRGIPPQSQMAVGQEVFGLLPGLMLYATLWLREHNRVCDLLKAEHPTWGDEQLFQTTRLILIGETIKIVIEEYVQQLSGYFLQLKFDPELLFGVQFQYRNRIAMEFNHLYHWHPLMPDSFKVGSQEYSYEQFLFNTSMLVDYGVEALVDAFSRQIAGRIGGGRNMDHHILHVAVDVIRESREMRLQPFNEYRKRFGMKPYTSFQELVGEKEMAAELEELYGDIDALEFYPGLLLEKCHPNSIFGESMIEIGAPFSLKGLLGNPICSPEYWKPSTFGGEVGFNIVKTATLKKLVCLNTKTCPYVSFRVPDASQDDGPAVERPSTEL\",\n          \"MLARALLLCAVLALSHTANPCCSHPCQNRGVCMSVGFDQYKCDCTRTGFYGENCSTPEFLTRIKLFLKPTPNTVHYILTHFKGFWNVVNNIPFLRNAIMSYVLTSRSHLIDSPPTYNADYGYKSWEAFSNLSYYTRALPPVPDDCPTPLGVKGKKQLPDSNEIVEKLLLRRKFIPDPQGSNMMFAFFAQHFTHQFFKTDHKRGPAFTNGLGHGVDLNHIYGETLARQRKLRLFKDGKMKYQIIDGEMYPPTVKDTQAEMIYPPQVPEHLRFAVGQEVFGLVPGLMMYATIWLREHNRVCDVLKQEHPEWGDEQLFQTSRLILIGETIKIVIEDYVQHLSGYHFKLKFDPELLFNKQFQYQNRIAAEFNTLYHWHPLLPDTFQIHDQKYNYQQFIYNNSILLEHGITQFVESFTRQIAGRVAGGRNVPPAVQKVSQASIDQSRQMKYQSFNEYRKRFMLKPYESFEELTGEKEMSAELEALYGDIDAVELYPALLVEKPRPDAIFGETMVEVGAPFSLKGLMGNVICSPAYWKPSTFGGEVGFQIINTASIQSLICNNVKGCPFTSFSVPDPELIKTVTINASSSRSGLDDINPTVLLKERSTEL\"\n        ],\n        \"semantic_type\": \"\",\n        \"description\": \"\"\n      }\n    },\n    {\n      \"column\": \"proba\",\n      \"properties\": {\n        \"dtype\": \"float32\",\n        \"num_unique_values\": 2,\n        \"samples\": [\n          7.091958104865626e-05,\n          0.9952439665794373\n        ],\n        \"semantic_type\": \"\",\n        \"description\": \"\"\n      }\n    },\n    {\n      \"column\": \"y_pred_asp\",\n      \"properties\": {\n        \"dtype\": \"float32\",\n        \"num_unique_values\": 2,\n        \"samples\": [\n          -1.0,\n          1.0\n        ],\n        \"semantic_type\": \"\",\n        \"description\": \"\"\n      }\n    },\n    {\n      \"column\": \"Target\",\n      \"properties\": {\n        \"dtype\": \"string\",\n        \"num_unique_values\": 2,\n        \"samples\": [\n          \"ptgs1\",\n          \"ptgs2\"\n        ],\n        \"semantic_type\": \"\",\n        \"description\": \"\"\n      }\n    },\n    {\n      \"column\": \"Approved symbol\",\n      \"properties\": {\n        \"dtype\": \"string\",\n        \"num_unique_values\": 2,\n        \"samples\": [\n          \"PTGS1\",\n          \"PTGS2\"\n        ],\n        \"semantic_type\": \"\",\n        \"description\": \"\"\n      }\n    },\n    {\n      \"column\": \"Approved name\",\n      \"properties\": {\n        \"dtype\": \"string\",\n        \"num_unique_values\": 2,\n        \"samples\": [\n          \"prostaglandin-endoperoxide synthase 1\",\n          \"prostaglandin-endoperoxide synthase 2\"\n        ],\n        \"semantic_type\": \"\",\n        \"description\": \"\"\n      }\n    },\n    {\n      \"column\": \"HGNC ID\",\n      \"properties\": {\n        \"dtype\": \"string\",\n        \"num_unique_values\": 2,\n        \"samples\": [\n          \"HGNC:9604\",\n          \"HGNC:9605\"\n        ],\n        \"semantic_type\": \"\",\n        \"description\": \"\"\n      }\n    },\n    {\n      \"column\": \"uniprot\",\n      \"properties\": {\n        \"dtype\": \"string\",\n        \"num_unique_values\": 2,\n        \"samples\": [\n          \"P23219\",\n          \"P35354\"\n        ],\n        \"semantic_type\": \"\",\n        \"description\": \"\"\n      }\n    }\n  ]\n}"
            }
          },
          "metadata": {},
          "execution_count": 48
        }
      ]
    },
    {
      "cell_type": "markdown",
      "source": [
        "When we train our model on the entire database and not this subset named Orphan, we found the 2 targets: see https://komet.readthedocs.io/en/latest/vignettes/komet%20prediction.html"
      ],
      "metadata": {
        "id": "huX5isU-13D8"
      }
    },
    {
      "cell_type": "code",
      "source": [],
      "metadata": {
        "id": "YWrq7lv61OhP"
      },
      "execution_count": 47,
      "outputs": []
    }
  ],
  "metadata": {
    "accelerator": "GPU",
    "colab": {
      "provenance": []
    },
    "gpuClass": "standard",
    "kernelspec": {
      "display_name": "conplex-dti",
      "language": "python",
      "name": "python3"
    },
    "language_info": {
      "codemirror_mode": {
        "name": "ipython",
        "version": 3
      },
      "file_extension": ".py",
      "mimetype": "text/x-python",
      "name": "python",
      "nbconvert_exporter": "python",
      "pygments_lexer": "ipython3",
      "version": "3.9.16"
    }
  },
  "nbformat": 4,
  "nbformat_minor": 0
}