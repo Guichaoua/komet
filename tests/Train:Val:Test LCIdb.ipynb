{
  "cells": [
    {
      "attachments": {},
      "cell_type": "markdown",
      "metadata": {},
      "source": [
        "# Create files in different prediction scenarii\n",
        "* Random\n",
        "* Unseen_drugs\n",
        "* Unseen_targets\n",
        "* Orphan"
      ]
    },
    {
      "cell_type": "code",
      "execution_count": 1,
      "metadata": {},
      "outputs": [],
      "source": [
        "%load_ext autoreload\n",
        "%autoreload 2"
      ]
    },
    {
      "cell_type": "code",
      "execution_count": 2,
      "metadata": {
        "id": "ij0BFq1STLcv"
      },
      "outputs": [
        {
          "name": "stdout",
          "output_type": "stream",
          "text": [
            "The autoreload extension is already loaded. To reload it, use:\n",
            "  %reload_ext autoreload\n"
          ]
        }
      ],
      "source": [
        "%load_ext autoreload\n",
        "%autoreload 2\n",
        "\n",
        "import matplotlib.pyplot as plt\n",
        "import numpy as np\n",
        "from sklearn import svm\n",
        "import pandas as pd"
      ]
    },
    {
      "attachments": {},
      "cell_type": "markdown",
      "metadata": {
        "id": "I_pKDD-zj7Fa"
      },
      "source": [
        "### Load LCIdb\n",
        "\n",
        "The dataset can be downloaded in Zenodo \\url{https://zenodo.org/records/10731713} as LCIdb_v1.1.csv."
      ]
    },
    {
      "cell_type": "code",
      "execution_count": 7,
      "metadata": {},
      "outputs": [
        {
          "data": {
            "text/html": [
              "<div>\n",
              "<style scoped>\n",
              "    .dataframe tbody tr th:only-of-type {\n",
              "        vertical-align: middle;\n",
              "    }\n",
              "\n",
              "    .dataframe tbody tr th {\n",
              "        vertical-align: top;\n",
              "    }\n",
              "\n",
              "    .dataframe thead th {\n",
              "        text-align: right;\n",
              "    }\n",
              "</style>\n",
              "<table border=\"1\" class=\"dataframe\">\n",
              "  <thead>\n",
              "    <tr style=\"text-align: right;\">\n",
              "      <th></th>\n",
              "      <th>smiles</th>\n",
              "      <th>fasta</th>\n",
              "      <th>ChEMBL ID</th>\n",
              "      <th>PubChem ID</th>\n",
              "      <th>IUPHAR ID</th>\n",
              "      <th>Ligand names</th>\n",
              "      <th>Target</th>\n",
              "      <th>uniprot</th>\n",
              "      <th>mean</th>\n",
              "      <th>mean pIC50</th>\n",
              "      <th>...</th>\n",
              "      <th>min pIC50</th>\n",
              "      <th>min pKi</th>\n",
              "      <th>min pKd</th>\n",
              "      <th>max</th>\n",
              "      <th>max pIC50</th>\n",
              "      <th>max pKi</th>\n",
              "      <th>max pKd</th>\n",
              "      <th>score</th>\n",
              "      <th>indsmiles</th>\n",
              "      <th>indfasta</th>\n",
              "    </tr>\n",
              "  </thead>\n",
              "  <tbody>\n",
              "    <tr>\n",
              "      <th>0</th>\n",
              "      <td>BrC1CCN(Cc2ccc(OCCCN3CCCCC3)cc2)CC1</td>\n",
              "      <td>MERAPPDGPLNASGALAGEAAAAGGARGFSAAWTAVLAALMALLIV...</td>\n",
              "      <td>CHEMBL472466</td>\n",
              "      <td>44592131.0</td>\n",
              "      <td>NaN</td>\n",
              "      <td>4-bromo-1-(4-(3-(piperidin-1-yl)propoxy)benzyl...</td>\n",
              "      <td>hrh3</td>\n",
              "      <td>Q9Y5N1</td>\n",
              "      <td>9.7</td>\n",
              "      <td>NaN</td>\n",
              "      <td>...</td>\n",
              "      <td>NaN</td>\n",
              "      <td>9.7</td>\n",
              "      <td>NaN</td>\n",
              "      <td>9.7</td>\n",
              "      <td>NaN</td>\n",
              "      <td>9.7</td>\n",
              "      <td>NaN</td>\n",
              "      <td>1.0</td>\n",
              "      <td>0.0</td>\n",
              "      <td>0.0</td>\n",
              "    </tr>\n",
              "    <tr>\n",
              "      <th>1</th>\n",
              "      <td>BrCC(Br)C1CCC(Br)C(Br)C1</td>\n",
              "      <td>MEVQLGLGRVYPRPPSKTYRGAFQNLFQSVREVIQNPGPRHPEAAS...</td>\n",
              "      <td>CHEMBL375107</td>\n",
              "      <td>18728.0</td>\n",
              "      <td>NaN</td>\n",
              "      <td>1,2-dibromo-4-(1,2-dibromoethyl)cyclohexane\\nn...</td>\n",
              "      <td>ar</td>\n",
              "      <td>P10275</td>\n",
              "      <td>7.4</td>\n",
              "      <td>7.4</td>\n",
              "      <td>...</td>\n",
              "      <td>7.4</td>\n",
              "      <td>NaN</td>\n",
              "      <td>NaN</td>\n",
              "      <td>7.4</td>\n",
              "      <td>7.4</td>\n",
              "      <td>NaN</td>\n",
              "      <td>NaN</td>\n",
              "      <td>1.0</td>\n",
              "      <td>1.0</td>\n",
              "      <td>1.0</td>\n",
              "    </tr>\n",
              "    <tr>\n",
              "      <th>2</th>\n",
              "      <td>BrC[C@H]1CC[C@H](c2nnn3cnc4[nH]ccc4c23)CC1</td>\n",
              "      <td>MAPPSEETPLIPQRSCSLLSTEAGALHVLLPARGPGPPQRLSFSFG...</td>\n",
              "      <td>CHEMBL3918308</td>\n",
              "      <td>136641870.0</td>\n",
              "      <td>NaN</td>\n",
              "      <td>us9216999, 74</td>\n",
              "      <td>jak3</td>\n",
              "      <td>P52333</td>\n",
              "      <td>7.1</td>\n",
              "      <td>7.1</td>\n",
              "      <td>...</td>\n",
              "      <td>7.1</td>\n",
              "      <td>NaN</td>\n",
              "      <td>NaN</td>\n",
              "      <td>7.1</td>\n",
              "      <td>7.1</td>\n",
              "      <td>NaN</td>\n",
              "      <td>NaN</td>\n",
              "      <td>1.0</td>\n",
              "      <td>2.0</td>\n",
              "      <td>2.0</td>\n",
              "    </tr>\n",
              "    <tr>\n",
              "      <th>3</th>\n",
              "      <td>BrC[C@H]1CC[C@H](c2nnn3cnc4[nH]ccc4c23)CC1</td>\n",
              "      <td>MGMACLTMTEMEGTSTSSIYQNGDISGNANSMKQIDPVLQVYLYHS...</td>\n",
              "      <td>CHEMBL3918308</td>\n",
              "      <td>136641870.0</td>\n",
              "      <td>NaN</td>\n",
              "      <td>us9216999, 74</td>\n",
              "      <td>jak2</td>\n",
              "      <td>O60674</td>\n",
              "      <td>8.5</td>\n",
              "      <td>8.5</td>\n",
              "      <td>...</td>\n",
              "      <td>8.5</td>\n",
              "      <td>NaN</td>\n",
              "      <td>NaN</td>\n",
              "      <td>8.5</td>\n",
              "      <td>8.5</td>\n",
              "      <td>NaN</td>\n",
              "      <td>NaN</td>\n",
              "      <td>1.0</td>\n",
              "      <td>2.0</td>\n",
              "      <td>3.0</td>\n",
              "    </tr>\n",
              "    <tr>\n",
              "      <th>4</th>\n",
              "      <td>BrC[C@H]1CC[C@H](c2nnn3cnc4[nH]ccc4c23)CC1</td>\n",
              "      <td>MPLRHWGMARGSKPVGDGAQPMAAMGGLKVLLHWAGPGGGEPWVTF...</td>\n",
              "      <td>CHEMBL3918308</td>\n",
              "      <td>136641870.0</td>\n",
              "      <td>NaN</td>\n",
              "      <td>us9216999, 74</td>\n",
              "      <td>tyk2</td>\n",
              "      <td>P29597</td>\n",
              "      <td>8.6</td>\n",
              "      <td>8.6</td>\n",
              "      <td>...</td>\n",
              "      <td>8.6</td>\n",
              "      <td>NaN</td>\n",
              "      <td>NaN</td>\n",
              "      <td>8.6</td>\n",
              "      <td>8.6</td>\n",
              "      <td>NaN</td>\n",
              "      <td>NaN</td>\n",
              "      <td>1.0</td>\n",
              "      <td>2.0</td>\n",
              "      <td>4.0</td>\n",
              "    </tr>\n",
              "  </tbody>\n",
              "</table>\n",
              "<p>5 rows × 23 columns</p>\n",
              "</div>"
            ],
            "text/plain": [
              "                                       smiles  \\\n",
              "0         BrC1CCN(Cc2ccc(OCCCN3CCCCC3)cc2)CC1   \n",
              "1                    BrCC(Br)C1CCC(Br)C(Br)C1   \n",
              "2  BrC[C@H]1CC[C@H](c2nnn3cnc4[nH]ccc4c23)CC1   \n",
              "3  BrC[C@H]1CC[C@H](c2nnn3cnc4[nH]ccc4c23)CC1   \n",
              "4  BrC[C@H]1CC[C@H](c2nnn3cnc4[nH]ccc4c23)CC1   \n",
              "\n",
              "                                               fasta      ChEMBL ID  \\\n",
              "0  MERAPPDGPLNASGALAGEAAAAGGARGFSAAWTAVLAALMALLIV...   CHEMBL472466   \n",
              "1  MEVQLGLGRVYPRPPSKTYRGAFQNLFQSVREVIQNPGPRHPEAAS...   CHEMBL375107   \n",
              "2  MAPPSEETPLIPQRSCSLLSTEAGALHVLLPARGPGPPQRLSFSFG...  CHEMBL3918308   \n",
              "3  MGMACLTMTEMEGTSTSSIYQNGDISGNANSMKQIDPVLQVYLYHS...  CHEMBL3918308   \n",
              "4  MPLRHWGMARGSKPVGDGAQPMAAMGGLKVLLHWAGPGGGEPWVTF...  CHEMBL3918308   \n",
              "\n",
              "    PubChem ID IUPHAR ID                                       Ligand names  \\\n",
              "0   44592131.0       NaN  4-bromo-1-(4-(3-(piperidin-1-yl)propoxy)benzyl...   \n",
              "1      18728.0       NaN  1,2-dibromo-4-(1,2-dibromoethyl)cyclohexane\\nn...   \n",
              "2  136641870.0       NaN                                      us9216999, 74   \n",
              "3  136641870.0       NaN                                      us9216999, 74   \n",
              "4  136641870.0       NaN                                      us9216999, 74   \n",
              "\n",
              "  Target uniprot  mean  mean pIC50  ...  min pIC50  min pKi  min pKd  max  \\\n",
              "0   hrh3  Q9Y5N1   9.7         NaN  ...        NaN      9.7      NaN  9.7   \n",
              "1     ar  P10275   7.4         7.4  ...        7.4      NaN      NaN  7.4   \n",
              "2   jak3  P52333   7.1         7.1  ...        7.1      NaN      NaN  7.1   \n",
              "3   jak2  O60674   8.5         8.5  ...        8.5      NaN      NaN  8.5   \n",
              "4   tyk2  P29597   8.6         8.6  ...        8.6      NaN      NaN  8.6   \n",
              "\n",
              "   max pIC50  max pKi  max pKd  score  indsmiles  indfasta  \n",
              "0        NaN      9.7      NaN    1.0        0.0       0.0  \n",
              "1        7.4      NaN      NaN    1.0        1.0       1.0  \n",
              "2        7.1      NaN      NaN    1.0        2.0       2.0  \n",
              "3        8.5      NaN      NaN    1.0        2.0       3.0  \n",
              "4        8.6      NaN      NaN    1.0        2.0       4.0  \n",
              "\n",
              "[5 rows x 23 columns]"
            ]
          },
          "execution_count": 7,
          "metadata": {},
          "output_type": "execute_result"
        }
      ],
      "source": [
        "base_name_p = 'LCIdb_v1.1.csv'\n",
        " \n",
        "df_p = pd.read_csv(base_name_p,low_memory=False)\n",
        "df_p.head()\n"
      ]
    },
    {
      "cell_type": "markdown",
      "metadata": {},
      "source": [
        "#### Drugs"
      ]
    },
    {
      "cell_type": "code",
      "execution_count": 9,
      "metadata": {},
      "outputs": [
        {
          "name": "stdout",
          "output_type": "stream",
          "text": [
            "274515\n",
            "# drugs 274515\n"
          ]
        }
      ],
      "source": [
        "#list of smiles strings\n",
        "dict_ind2smiles = df_p[['indsmiles','smiles']].set_index('indsmiles').to_dict()['smiles']\n",
        "#Sort the indexes according to the ind2mol\n",
        "dict_ind2smiles = {k:dict_ind2smiles[k] for k in sorted(dict_ind2smiles.keys())}\n",
        "print(len(dict_ind2smiles))\n",
        "dict_smiles2ind = {v:k for k,v in dict_ind2smiles.items()}\n",
        "smiles = list(dict_ind2smiles.values())\n",
        "print(\"# drugs\",len(smiles))"
      ]
    },
    {
      "cell_type": "markdown",
      "metadata": {},
      "source": [
        "#### Proteins"
      ]
    },
    {
      "cell_type": "code",
      "execution_count": 10,
      "metadata": {},
      "outputs": [
        {
          "name": "stdout",
          "output_type": "stream",
          "text": [
            "2069\n",
            "# targets  2069\n"
          ]
        }
      ],
      "source": [
        "#list of fasta strings\n",
        "dict_ind2fasta = df_p[['indfasta','fasta']].set_index('indfasta').to_dict()['fasta']\n",
        "# Sort the indexes according to the ind2fasta\n",
        "dict_ind2fasta = {k:dict_ind2fasta[k] for k in sorted(dict_ind2fasta.keys())}\n",
        "print(len(dict_ind2fasta))\n",
        "dict_fasta2ind = {v:k for k,v in dict_ind2fasta.items()}\n",
        "fastas = list(dict_ind2fasta.values())\n",
        "print(\"# targets \",len(fastas))"
      ]
    },
    {
      "cell_type": "markdown",
      "metadata": {},
      "source": [
        "#### number of interactions"
      ]
    },
    {
      "cell_type": "code",
      "execution_count": 11,
      "metadata": {},
      "outputs": [
        {
          "data": {
            "text/plain": [
              "1.0    402538\n",
              "0.5    265006\n",
              "0.0      8296\n",
              "Name: score, dtype: int64"
            ]
          },
          "execution_count": 11,
          "metadata": {},
          "output_type": "execute_result"
        }
      ],
      "source": [
        "df_p[\"score\"].value_counts()"
      ]
    },
    {
      "attachments": {},
      "cell_type": "markdown",
      "metadata": {},
      "source": [
        "## list of target/drug indices with only interaction 1"
      ]
    },
    {
      "cell_type": "code",
      "execution_count": 12,
      "metadata": {},
      "outputs": [
        {
          "name": "stdout",
          "output_type": "stream",
          "text": [
            "676125\n",
            "676125\n"
          ]
        },
        {
          "data": {
            "text/plain": [
              "array([  0.,   1.,   2., ..., 180.,  87.,  50.])"
            ]
          },
          "execution_count": 12,
          "metadata": {},
          "output_type": "execute_result"
        }
      ],
      "source": [
        "# targets indices\n",
        "J = df_p['indfasta'].values\n",
        "print(len(J))\n",
        "# drugs indices\n",
        "I = df_p['indsmiles'].values\n",
        "print(len(I))\n",
        "J"
      ]
    },
    {
      "cell_type": "markdown",
      "metadata": {},
      "source": [
        "### Make train/val/test Random (S1)"
      ]
    },
    {
      "cell_type": "code",
      "execution_count": 14,
      "metadata": {},
      "outputs": [
        {
          "name": "stdout",
          "output_type": "stream",
          "text": [
            "train 322030 test 48304 val 32204\n",
            "train (644060, 3)\n",
            "nb of interactions + in test 48304\n",
            "number of real interactions - in test 6664\n",
            "number of interactions - in test 48304\n",
            "test (96608, 3)\n",
            "nb of interactions + in val 32204\n",
            "number of real interactions - in val 0\n",
            "number of interactions - in val 32204\n",
            "val (64408, 3)\n",
            "Train/test/val datasets prepared.\n"
          ]
        },
        {
          "data": {
            "text/plain": [
              "(0.1499984473496258, 0.10000310530074838)"
            ]
          },
          "execution_count": 14,
          "metadata": {},
          "output_type": "execute_result"
        }
      ],
      "source": [
        "from komet import make_train_test_val_S1\n",
        "\n",
        "train, test, val = make_train_test_val_S1(df_p,0.8,0.12)\n",
        "test.shape[0]/train.shape[0], val.shape[0]/train.shape[0]"
      ]
    },
    {
      "cell_type": "code",
      "execution_count": 15,
      "metadata": {},
      "outputs": [
        {
          "name": "stdout",
          "output_type": "stream",
          "text": [
            "number of proteins in train 2015\n",
            "number of proteins in test 2069\n",
            "number of proteins in val 2069\n",
            "**************************************************\n",
            "number of drugs in train 231276\n",
            "number of drugs in test 79170\n",
            "number of drugs in val 57272\n",
            "**************************************************\n",
            "number of interactions in train 644060\n",
            "number of interactions in test 96608\n",
            "number of interactions in val 64408\n",
            "**************************************************\n",
            "number of interactions + in train 322030\n",
            "number of interactions + in test 48304\n",
            "number of interactions + in val 32204\n",
            "**************************************************\n",
            "number of interactions - in train 322030\n",
            "number of interactions - in test 48304\n",
            "number of interactions - in val 32204\n"
          ]
        }
      ],
      "source": [
        "print(\"number of proteins in train\", len(set(train[:,0])))\n",
        "print(\"number of proteins in test\", len(set(test[:,0])))\n",
        "print(\"number of proteins in val\", len(set(val[:,0])))\n",
        "print(\"*\"*50)\n",
        "print(\"number of drugs in train\", len(set(train[:,1])))\n",
        "print(\"number of drugs in test\", len(set(test[:,1])))\n",
        "print(\"number of drugs in val\", len(set(val[:,1])))\n",
        "print(\"*\"*50)\n",
        "print(\"number of interactions in train\", train.shape[0])\n",
        "print(\"number of interactions in test\", test.shape[0])\n",
        "print(\"number of interactions in val\", val.shape[0])\n",
        "print(\"*\"*50)\n",
        "print(\"number of interactions + in train\", train[:,2].sum())\n",
        "print(\"number of interactions + in test\", test[:,2].sum())\n",
        "print(\"number of interactions + in val\", val[:,2].sum())\n",
        "print(\"*\"*50)\n",
        "print(\"number of interactions - in train\", train.shape[0]-train[:,2].sum())\n",
        "print(\"number of interactions - in test\", test.shape[0]-test[:,2].sum())\n",
        "print(\"number of interactions - in val\", val.shape[0]-val[:,2].sum())"
      ]
    },
    {
      "cell_type": "markdown",
      "metadata": {},
      "source": [
        "#### Make a dataframe with smiles/fasta to save in .csv"
      ]
    },
    {
      "cell_type": "code",
      "execution_count": 16,
      "metadata": {},
      "outputs": [
        {
          "name": "stdout",
          "output_type": "stream",
          "text": [
            "train : #prot/durgs :  2015 231276\n",
            "test : #prot/durgs :  2069 79170\n",
            "val : #prot/durgs :  2069 57272\n"
          ]
        }
      ],
      "source": [
        "# dataframes\n",
        "df_train = pd.DataFrame(train,columns=['indfasta','indsmiles','label'])\n",
        "print(\"train : #target/drugs : \",df_train[\"indfasta\"].nunique(),df_train[\"indsmiles\"].nunique())\n",
        "df_test = pd.DataFrame(test,columns=['indfasta','indsmiles','label'])\n",
        "print(\"test : #target/drugs : \",df_test[\"indfasta\"].nunique(),df_test[\"indsmiles\"].nunique())\n",
        "df_val = pd.DataFrame(val,columns=['indfasta','indsmiles','label'])\n",
        "print(\"val : #target/drugs : \",df_val[\"indfasta\"].nunique(),df_val[\"indsmiles\"].nunique())\n",
        "\n",
        "# add smiles and fasta to the dataframes\n",
        "df_train_S1 = df_train.merge(df_p[[\"indfasta\",\"fasta\"]].drop_duplicates(),on=\"indfasta\")\n",
        "df_train_S1 = df_train_S1[[\"indsmiles\",\"fasta\",\"label\"]]\n",
        "df_train_S1 = df_train_S1.merge(df_p[[\"indsmiles\",\"smiles\"]].drop_duplicates(),on=\"indsmiles\")\n",
        "df_train_S1 = df_train_S1[[\"smiles\",\"fasta\",\"label\"]]\n",
        "df_train_S1.columns = [\"SMILES\",\"Target Sequence\",\"Label\"]\n",
        "\n",
        "df_test_S1 = df_test.merge(df_p[[\"indfasta\",\"fasta\"]].drop_duplicates(),on=\"indfasta\")\n",
        "df_test_S1 = df_test_S1[[\"indsmiles\",\"fasta\",\"label\"]]\n",
        "df_test_S1 = df_test_S1.merge(df_p[[\"indsmiles\",\"smiles\"]].drop_duplicates(),on=\"indsmiles\")\n",
        "df_test_S1 = df_test_S1[[\"smiles\",\"fasta\",\"label\"]]\n",
        "df_test_S1.columns = [\"SMILES\",\"Target Sequence\",\"Label\"]\n",
        "\n",
        "df_val_S1 = df_val.merge(df_p[[\"indfasta\",\"fasta\"]].drop_duplicates(),on=\"indfasta\")\n",
        "df_val_S1 = df_val_S1[[\"indsmiles\",\"fasta\",\"label\"]]\n",
        "df_val_S1 = df_val_S1.merge(df_p[[\"indsmiles\",\"smiles\"]].drop_duplicates(),on=\"indsmiles\")\n",
        "df_val_S1 = df_val_S1[[\"smiles\",\"fasta\",\"label\"]]\n",
        "df_val_S1.columns = [\"SMILES\",\"Target Sequence\",\"Label\"]"
      ]
    },
    {
      "cell_type": "code",
      "execution_count": 17,
      "metadata": {},
      "outputs": [
        {
          "name": "stdout",
          "output_type": "stream",
          "text": [
            "train\n"
          ]
        },
        {
          "data": {
            "text/plain": [
              "1    322030\n",
              "0    322030\n",
              "Name: label, dtype: int64"
            ]
          },
          "execution_count": 17,
          "metadata": {},
          "output_type": "execute_result"
        }
      ],
      "source": [
        "print(\"train\")\n",
        "df_train['label'].value_counts() "
      ]
    },
    {
      "cell_type": "code",
      "execution_count": 18,
      "metadata": {},
      "outputs": [
        {
          "name": "stdout",
          "output_type": "stream",
          "text": [
            "test\n"
          ]
        },
        {
          "data": {
            "text/plain": [
              "1    48304\n",
              "0    48304\n",
              "Name: label, dtype: int64"
            ]
          },
          "execution_count": 18,
          "metadata": {},
          "output_type": "execute_result"
        }
      ],
      "source": [
        "print(\"test\")\n",
        "df_test['label'].value_counts()"
      ]
    },
    {
      "cell_type": "code",
      "execution_count": 19,
      "metadata": {},
      "outputs": [
        {
          "name": "stdout",
          "output_type": "stream",
          "text": [
            "val\n"
          ]
        },
        {
          "data": {
            "text/plain": [
              "1    32204\n",
              "0    32204\n",
              "Name: label, dtype: int64"
            ]
          },
          "execution_count": 19,
          "metadata": {},
          "output_type": "execute_result"
        }
      ],
      "source": [
        "print(\"val\")\n",
        "df_val['label'].value_counts()"
      ]
    },
    {
      "cell_type": "code",
      "execution_count": null,
      "metadata": {},
      "outputs": [],
      "source": [
        "# for each pair, we look if the protein is in the train and the test\n",
        "for elt in test:\n",
        "    for x in train:\n",
        "        if elt[0]==x[0]:\n",
        "            print(elt,x)"
      ]
    },
    {
      "cell_type": "code",
      "execution_count": 21,
      "metadata": {},
      "outputs": [
        {
          "name": "stdout",
          "output_type": "stream",
          "text": [
            "[ 1264 40293     1] [  186 40293     0]\n",
            "[ 1264 40293     1] [  837 40293     1]\n",
            "[   207 270858      1] [   208 270858      1]\n",
            "[   207 270858      1] [    86 270858      0]\n",
            "[    25 103530      1] [    44 103530      1]\n",
            "[    25 103530      1] [   115 103530      0]\n",
            "[    25 239743      1] [    44 239743      1]\n",
            "[    25 239743      1] [   162 239743      0]\n",
            "[  120 10888     1] [   51 10888     1]\n",
            "[  120 10888     1] [   25 10888     0]\n",
            "[  120 10888     1] [  368 10888     0]\n",
            "[  120 10888     1] [  287 10888     1]\n",
            "[  194 81092     1] [  324 81092     0]\n",
            "[  194 81092     1] [  193 81092     1]\n",
            "[   28 95164     1] [  226 95164     0]\n",
            "[   28 95164     1] [  452 95164     1]\n",
            "[  566 16455     1] [  286 16455     0]\n",
            "[  566 16455     1] [  207 16455     0]\n",
            "[  566 16455     1] [  172 16455     0]\n",
            "[  566 16455     1] [  391 16455     0]\n",
            "[  566 16455     1] [   49 16455     1]\n",
            "[  566 16455     1] [  275 16455     1]\n",
            "[  566 16455     1] [  564 16455     1]\n",
            "[  566 16455     1] [  590 16455     1]\n",
            "[  1086 191222      1] [   547 191222      0]\n",
            "[  1086 191222      1] [  1085 191222      1]\n",
            "[   129 262869      1] [     3 262869      0]\n",
            "[   129 262869      1] [   220 262869      0]\n",
            "[   129 262869      1] [    73 262869      0]\n",
            "[   129 262869      1] [   335 262869      0]\n",
            "[   129 262869      1] [   126 262869      1]\n",
            "[   129 262869      1] [   131 262869      1]\n",
            "[   129 262869      1] [   128 262869      1]\n",
            "[   129 262869      1] [   130 262869      1]\n",
            "[  296 14122     1] [   64 14122     0]\n",
            "[  296 14122     1] [    0 14122     0]\n",
            "[  296 14122     1] [   32 14122     0]\n",
            "[  296 14122     1] [   45 14122     0]\n",
            "[  296 14122     1] [   29 14122     0]\n",
            "[  296 14122     1] [  155 14122     0]\n",
            "[  296 14122     1] [  174 14122     0]\n",
            "[  296 14122     1] [  153 14122     0]\n",
            "[  296 14122     1] [  540 14122     0]\n",
            "[  296 14122     1] [  208 14122     0]\n",
            "[  296 14122     1] [  233 14122     0]\n",
            "[  296 14122     1] [  469 14122     0]\n",
            "[  296 14122     1] [   70 14122     0]\n",
            "[  296 14122     1] [   52 14122     1]\n",
            "[  296 14122     1] [   63 14122     1]\n",
            "[  296 14122     1] [   62 14122     1]\n",
            "[  296 14122     1] [   53 14122     1]\n",
            "[  296 14122     1] [   54 14122     1]\n",
            "[  296 14122     1] [  289 14122     1]\n",
            "[  296 14122     1] [  290 14122     1]\n",
            "[  296 14122     1] [  292 14122     1]\n",
            "[  296 14122     1] [  297 14122     1]\n",
            "[  296 14122     1] [  291 14122     1]\n",
            "[  296 14122     1] [  294 14122     1]\n",
            "[  296 14122     1] [  288 14122     1]\n",
            "[  296 14122     1] [  295 14122     1]\n",
            "[  224 82657     1] [    3 82657     0]\n",
            "[  224 82657     1] [   77 82657     1]\n",
            "[  224 82657     1] [  651 82657     0]\n",
            "[  224 82657     1] [  374 82657     1]\n",
            "[   171 239644      1] [     6 239644      0]\n",
            "[   171 239644      1] [   189 239644      0]\n",
            "[   171 239644      1] [   163 239644      1]\n",
            "[   171 239644      1] [   286 239644      0]\n",
            "[   171 239644      1] [   234 239644      0]\n",
            "[   171 239644      1] [   172 239644      1]\n",
            "[   171 239644      1] [   174 239644      0]\n",
            "[   171 239644      1] [   153 239644      0]\n",
            "[   171 239644      1] [   247 239644      0]\n",
            "[   171 239644      1] [   106 239644      0]\n",
            "[   171 239644      1] [   164 239644      1]\n",
            "[   171 239644      1] [   166 239644      1]\n",
            "[   171 239644      1] [   167 239644      1]\n",
            "[   171 239644      1] [   168 239644      1]\n",
            "[   171 239644      1] [   169 239644      1]\n",
            "[   171 239644      1] [   170 239644      1]\n",
            "[   171 239644      1] [   165 239644      1]\n",
            "[   171 239644      1] [   235 239644      0]\n",
            "[   873 257102      1] [    64 257102      0]\n",
            "[   873 257102      1] [    51 257102      1]\n",
            "[   873 257102      1] [   155 257102      0]\n",
            "[   873 257102      1] [   174 257102      0]\n",
            "[   873 257102      1] [   540 257102      0]\n",
            "[   873 257102      1] [   287 257102      1]\n",
            "[   873 257102      1] [   274 257102      1]\n",
            "[   873 257102      1] [   305 257102      1]\n",
            "[   873 257102      1] [   944 257102      0]\n",
            "[   873 257102      1] [   875 257102      1]\n",
            "[   8 1342    1] [ 286 1342    0]\n",
            "[   8 1342    1] [  11 1342    1]\n",
            "[   8 1342    1] [1081 1342    0]\n",
            "[   8 1342    1] [   9 1342    1]\n",
            "[  159 52825     1] [  368 52825     0]\n",
            "[  159 52825     1] [  789 52825     1]\n",
            "[    13 178714      1] [   187 178714      0]\n",
            "[    13 178714      1] [   179 178714      0]\n",
            "[    13 178714      1] [   494 178714      0]\n",
            "[    13 178714      1] [   500 178714      1]\n",
            "[    13 178714      1] [    14 178714      1]\n",
            "[    13 178714      1] [    15 178714      1]\n",
            "[    67 179708      1] [   220 179708      0]\n",
            "[    67 179708      1] [   286 179708      0]\n",
            "[    67 179708      1] [   307 179708      1]\n",
            "[    67 179708      1] [   136 179708      0]\n",
            "[    67 179708      1] [   582 179708      1]\n",
            "[    67 179708      1] [   586 179708      1]\n",
            "[   120 263284      1] [    64 263284      0]\n",
            "[   120 263284      1] [    51 263284      1]\n",
            "[   120 263284      1] [    55 263284      1]\n",
            "[   120 263284      1] [  1003 263284      0]\n",
            "[  208 41986     1] [   31 41986     0]\n",
            "[  208 41986     1] [  207 41986     1]\n",
            "[  208 41986     1] [  206 41986     1]\n",
            "[  208 41986     1] [  373 41986     0]\n",
            "[   172 135262      1] [     0 135262      0]\n",
            "[   172 135262      1] [   163 135262      1]\n",
            "[   172 135262      1] [   174 135262      0]\n",
            "[   172 135262      1] [    28 135262      0]\n",
            "[   172 135262      1] [   247 135262      0]\n",
            "[   172 135262      1] [   540 135262      0]\n",
            "[   172 135262      1] [   208 135262      0]\n",
            "[   172 135262      1] [   162 135262      1]\n",
            "[   172 135262      1] [   164 135262      1]\n",
            "[   172 135262      1] [   171 135262      1]\n",
            "[   172 135262      1] [    92 135262      0]\n",
            "[   172 135262      1] [   166 135262      1]\n",
            "[   172 135262      1] [   169 135262      1]\n",
            "[   172 135262      1] [   165 135262      1]\n",
            "[    89 260064      1] [    44 260064      0]\n",
            "[    89 260064      1] [    32 260064      0]\n",
            "[    89 260064      1] [   155 260064      0]\n",
            "[    89 260064      1] [    77 260064      1]\n",
            "[    89 260064      1] [   180 260064      1]\n",
            "[    89 260064      1] [   199 260064      0]\n",
            "[    89 260064      1] [   374 260064      1]\n",
            "[    89 260064      1] [   961 260064      1]\n",
            "[   130 153092      1] [     5 153092      0]\n",
            "[   130 153092      1] [    48 153092      0]\n",
            "[   130 153092      1] [   163 153092      0]\n",
            "[   130 153092      1] [    29 153092      0]\n",
            "[   130 153092      1] [   107 153092      0]\n",
            "[   130 153092      1] [   126 153092      1]\n",
            "[   130 153092      1] [   131 153092      1]\n",
            "[   130 153092      1] [   128 153092      1]\n",
            "[   130 153092      1] [   127 153092      1]\n",
            "[   130 153092      1] [   129 153092      1]\n",
            "[  1031 210689      1] [   247 210689      1]\n",
            "[  1031 210689      1] [   265 210689      0]\n",
            "[  368 81375     1] [  367 81375     1]\n",
            "[  368 81375     1] [ 1471 81375     0]\n",
            "[    32 206607      1] [   187 206607      1]\n",
            "[    32 206607      1] [   149 206607      0]\n",
            "[  129 77342     1] [   25 77342     0]\n",
            "[  129 77342     1] [   73 77342     0]\n",
            "[  129 77342     1] [   32 77342     0]\n",
            "[  129 77342     1] [  358 77342     0]\n",
            "[  129 77342     1] [  126 77342     1]\n",
            "[  129 77342     1] [  131 77342     1]\n",
            "[  129 77342     1] [  128 77342     1]\n",
            "[  129 77342     1] [  130 77342     1]\n",
            "[   616 236060      1] [   256 236060      0]\n",
            "[   616 236060      1] [  1147 236060      1]\n",
            "[   32 61574     1] [  207 61574     0]\n",
            "[   32 61574     1] [   28 61574     0]\n",
            "[   32 61574     1] [  153 61574     0]\n",
            "[   32 61574     1] [  188 61574     1]\n",
            "[   32 61574     1] [  237 61574     1]\n",
            "[   32 61574     1] [  295 61574     0]\n",
            "[   32 61574     1] [  236 61574     1]\n",
            "[   32 61574     1] [  752 61574     1]\n",
            "[    84 231588      1] [   286 231588      0]\n",
            "[    84 231588      1] [   206 231588      0]\n",
            "[    84 231588      1] [   106 231588      0]\n",
            "[    84 231588      1] [   540 231588      0]\n",
            "[    84 231588      1] [   208 231588      0]\n",
            "[    84 231588      1] [   233 231588      0]\n",
            "[    84 231588      1] [    94 231588      0]\n",
            "[    84 231588      1] [   152 231588      0]\n",
            "[    84 231588      1] [   391 231588      0]\n",
            "[    84 231588      1] [   494 231588      0]\n",
            "[    84 231588      1] [   651 231588      1]\n",
            "[    84 231588      1] [   259 231588      0]\n",
            "[    84 231588      1] [   550 231588      0]\n",
            "[    84 231588      1] [    22 231588      0]\n",
            "[    84 231588      1] [    49 231588      1]\n",
            "[    84 231588      1] [    98 231588      1]\n",
            "[    84 231588      1] [   275 231588      1]\n",
            "[    84 231588      1] [   564 231588      1]\n",
            "[    84 231588      1] [    65 231588      1]\n",
            "[    84 231588      1] [   181 231588      0]\n",
            "[    84 231588      1] [   204 231588      1]\n",
            "[    84 231588      1] [   709 231588      1]\n",
            "[    84 231588      1] [   603 231588      1]\n",
            "[    84 231588      1] [   866 231588      1]\n",
            "[    84 231588      1] [   582 231588      1]\n",
            "[    84 231588      1] [   585 231588      1]\n",
            "[    84 231588      1] [   588 231588      1]\n",
            "[    84 231588      1] [   970 231588      1]\n",
            "[  320 62150     1] [  126 62150     1]\n",
            "[  320 62150     1] [  772 62150     0]\n",
            "[   313 180416      1] [   307 180416      0]\n",
            "[   313 180416      1] [   183 180416      1]\n",
            "[     6 169852      1] [   189 169852      0]\n",
            "[     6 169852      1] [   335 169852      1]\n",
            "[     6 169852      1] [   359 169852      1]\n",
            "[     6 169852      1] [  1081 169852      0]\n",
            "[  307 90058     1] [   48 90058     0]\n",
            "[  307 90058     1] [   98 90058     1]\n",
            "[  307 90058     1] [  244 90058     1]\n",
            "[  307 90058     1] [  317 90058     0]\n",
            "[  1047 153944      1] [   163 153944      0]\n",
            "[  1047 153944      1] [    55 153944      0]\n",
            "[  1047 153944      1] [   495 153944      1]\n",
            "[  1047 153944      1] [  1046 153944      1]\n",
            "[   44 52440     1] [   25 52440     1]\n",
            "[   44 52440     1] [  121 52440     0]\n",
            "[   31 29081     1] [  187 29081     1]\n",
            "[   31 29081     1] [  181 29081     0]\n",
            "[   331 150730      1] [   564 150730      0]\n",
            "[   331 150730      1] [   136 150730      1]\n",
            "[    73 258462      1] [    70 258462      1]\n",
            "[    73 258462      1] [   230 258462      0]\n",
            "[   647 129309      1] [    23 129309      0]\n",
            "[   647 129309      1] [   120 129309      0]\n",
            "[   647 129309      1] [    91 129309      1]\n",
            "[   647 129309      1] [   645 129309      1]\n",
            "[   647 129309      1] [   644 129309      1]\n",
            "[   647 129309      1] [   578 129309      0]\n",
            "[   11 88581     1] [  108 88581     0]\n",
            "[   11 88581     1] [   31 88581     0]\n",
            "[   11 88581     1] [   12 88581     1]\n",
            "[   11 88581     1] [  101 88581     0]\n",
            "[   11 88581     1] [   10 88581     1]\n",
            "[   11 88581     1] [    9 88581     1]\n",
            "[  187 31187     1] [  259 31187     1]\n",
            "[  187 31187     1] [  733 31187     0]\n",
            "[  647 90892     1] [  187 90892     0]\n",
            "[  647 90892     1] [  189 90892     0]\n",
            "[  647 90892     1] [   91 90892     1]\n",
            "[  647 90892     1] [  646 90892     1]\n",
            "[  647 90892     1] [  645 90892     1]\n",
            "[  647 90892     1] [ 1150 90892     0]\n",
            "[  199 44062     1] [  195 44062     1]\n",
            "[  199 44062     1] [  181 44062     0]\n",
            "[  180 90729     1] [   28 90729     0]\n",
            "[  180 90729     1] [  206 90729     0]\n",
            "[  180 90729     1] [  374 90729     1]\n",
            "[  180 90729     1] [  182 90729     1]\n",
            "[  180 90729     1] [ 1055 90729     0]\n",
            "[  180 90729     1] [  817 90729     1]\n",
            "[    55 200360      1] [    64 200360      1]\n",
            "[    55 200360      1] [    45 200360      0]\n",
            "[    55 200360      1] [   156 200360      0]\n",
            "[    55 200360      1] [   155 200360      0]\n",
            "[    55 200360      1] [   174 200360      0]\n",
            "[    55 200360      1] [   206 200360      0]\n",
            "[    55 200360      1] [   247 200360      0]\n",
            "[    55 200360      1] [   106 200360      0]\n",
            "[    55 200360      1] [   208 200360      0]\n",
            "[    55 200360      1] [   233 200360      0]\n",
            "[    55 200360      1] [   469 200360      1]\n",
            "[    55 200360      1] [    94 200360      0]\n",
            "[    55 200360      1] [   152 200360      0]\n",
            "[    55 200360      1] [   391 200360      0]\n",
            "[    55 200360      1] [    77 200360      1]\n",
            "[    55 200360      1] [   494 200360      0]\n",
            "[    55 200360      1] [   651 200360      1]\n",
            "[    55 200360      1] [   259 200360      0]\n",
            "[    55 200360      1] [   550 200360      0]\n",
            "[    55 200360      1] [    22 200360      0]\n",
            "[    55 200360      1] [   195 200360      0]\n",
            "[    55 200360      1] [    96 200360      1]\n",
            "[    55 200360      1] [   486 200360      0]\n",
            "[    55 200360      1] [   335 200360      0]\n",
            "[    55 200360      1] [   148 200360      0]\n",
            "[    55 200360      1] [    81 200360      0]\n",
            "[    55 200360      1] [     2 200360      1]\n",
            "[    55 200360      1] [   107 200360      0]\n",
            "[    55 200360      1] [   121 200360      0]\n",
            "[    55 200360      1] [   254 200360      0]\n",
            "[    55 200360      1] [    69 200360      0]\n",
            "[    55 200360      1] [   475 200360      1]\n",
            "[    55 200360      1] [   141 200360      0]\n",
            "[    55 200360      1] [   508 200360      0]\n",
            "[    55 200360      1] [    49 200360      1]\n",
            "[    55 200360      1] [   349 200360      0]\n",
            "[    55 200360      1] [   479 200360      0]\n",
            "[    55 200360      1] [   180 200360      0]\n",
            "[    55 200360      1] [    70 200360      0]\n",
            "[    55 200360      1] [    98 200360      0]\n",
            "[    55 200360      1] [    26 200360      0]\n",
            "[    55 200360      1] [    58 200360      0]\n",
            "[    55 200360      1] [   307 200360      1]\n",
            "[    55 200360      1] [   162 200360      0]\n",
            "[    55 200360      1] [   358 200360      1]\n",
            "[    55 200360      1] [    50 200360      0]\n",
            "[    55 200360      1] [    87 200360      1]\n",
            "[    55 200360      1] [    71 200360      1]\n",
            "[    55 200360      1] [   373 200360      1]\n",
            "[    55 200360      1] [    12 200360      0]\n",
            "[    55 200360      1] [   197 200360      0]\n",
            "[    55 200360      1] [   368 200360      0]\n",
            "[    55 200360      1] [   789 200360      0]\n",
            "[    55 200360      1] [   500 200360      0]\n",
            "[    55 200360      1] [   275 200360      1]\n",
            "[    55 200360      1] [    47 200360      0]\n",
            "[    55 200360      1] [   151 200360      1]\n",
            "[    55 200360      1] [   101 200360      1]\n",
            "[    55 200360      1] [    67 200360      1]\n",
            "[    55 200360      1] [   611 200360      1]\n",
            "[    55 200360      1] [     4 200360      1]\n",
            "[    55 200360      1] [   390 200360      1]\n",
            "[    55 200360      1] [    99 200360      1]\n",
            "[    55 200360      1] [   379 200360      1]\n",
            "[    55 200360      1] [   177 200360      1]\n",
            "[    55 200360      1] [    15 200360      0]\n",
            "[    55 200360      1] [    82 200360      1]\n",
            "[    55 200360      1] [    18 200360      1]\n",
            "[    55 200360      1] [   554 200360      1]\n",
            "[    55 200360      1] [   772 200360      1]\n",
            "[    55 200360      1] [   176 200360      1]\n",
            "[    55 200360      1] [    85 200360      1]\n",
            "[    55 200360      1] [   229 200360      1]\n",
            "[    55 200360      1] [   586 200360      1]\n",
            "[    55 200360      1] [    19 200360      1]\n",
            "[    55 200360      1] [   598 200360      1]\n",
            "[    55 200360      1] [   575 200360      1]\n",
            "[    55 200360      1] [   707 200360      1]\n",
            "[    55 200360      1] [  1688 200360      1]\n",
            "[    55 200360      1] [  1689 200360      1]\n",
            "[    55 200360      1] [   857 200360      1]\n",
            "[    55 200360      1] [  1104 200360      1]\n",
            "[    55 200360      1] [  1715 200360      1]\n",
            "[    55 200360      1] [  1330 200360      1]\n",
            "[    55 200360      1] [  1558 200360      1]\n",
            "[    55 200360      1] [  1356 200360      1]\n",
            "[  242 97308     1] [  120 97308     0]\n",
            "[  242 97308     1] [  286 97308     0]\n",
            "[  242 97308     1] [  241 97308     1]\n",
            "[  242 97308     1] [  811 97308     0]\n",
            "[  242 97308     1] [ 1325 97308     1]\n",
            "[  242 97308     1] [ 1716 97308     1]\n",
            "[  475 97465     1] [    6 97465     1]\n",
            "[  475 97465     1] [   31 97465     0]\n"
          ]
        },
        {
          "ename": "KeyboardInterrupt",
          "evalue": "",
          "output_type": "error",
          "traceback": [
            "\u001b[0;31m---------------------------------------------------------------------------\u001b[0m",
            "\u001b[0;31mKeyboardInterrupt\u001b[0m                         Traceback (most recent call last)",
            "Input \u001b[0;32mIn [21]\u001b[0m, in \u001b[0;36m<cell line: 2>\u001b[0;34m()\u001b[0m\n\u001b[1;32m      1\u001b[0m \u001b[38;5;66;03m# for each pair, we look if the drug is in the train and the test\u001b[39;00m\n\u001b[1;32m      2\u001b[0m \u001b[38;5;28;01mfor\u001b[39;00m elt \u001b[38;5;129;01min\u001b[39;00m test:\n\u001b[0;32m----> 3\u001b[0m     \u001b[38;5;28;01mfor\u001b[39;00m x \u001b[38;5;129;01min\u001b[39;00m train:\n\u001b[1;32m      4\u001b[0m         \u001b[38;5;28;01mif\u001b[39;00m elt[\u001b[38;5;241m1\u001b[39m]\u001b[38;5;241m==\u001b[39mx[\u001b[38;5;241m1\u001b[39m]:\n\u001b[1;32m      5\u001b[0m             \u001b[38;5;28mprint\u001b[39m(elt,x)\n",
            "\u001b[0;31mKeyboardInterrupt\u001b[0m: "
          ]
        }
      ],
      "source": [
        "# for each pair, we look if the drug is in the train and the test\n",
        "for elt in test:\n",
        "    for x in train:\n",
        "        if elt[1]==x[1]:\n",
        "            print(elt,x)"
      ]
    },
    {
      "cell_type": "markdown",
      "metadata": {},
      "source": []
    }
  ],
  "metadata": {
    "colab": {
      "provenance": []
    },
    "kernelspec": {
      "display_name": "Python 3",
      "name": "python3"
    },
    "language_info": {
      "codemirror_mode": {
        "name": "ipython",
        "version": 3
      },
      "file_extension": ".py",
      "mimetype": "text/x-python",
      "name": "python",
      "nbconvert_exporter": "python",
      "pygments_lexer": "ipython3",
      "version": "3.9.13"
    }
  },
  "nbformat": 4,
  "nbformat_minor": 0
}
